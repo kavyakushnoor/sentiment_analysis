{
 "cells": [
  {
   "cell_type": "markdown",
   "metadata": {},
   "source": [
    "# Sentiment Analysis Web App\n",
    "\n",
    "_Deep Learning Nanodegree Program | Deployment_\n",
    "\n",
    "---\n",
    "\n",
    "In this notebook we will use Amazon's SageMaker service to construct a random tree model to predict the sentiment of a movie review. In addition, we will deploy this model to an endpoint and construct a very simple web app which will interact with our model's deployed endpoint.\n",
    "\n",
    "## General Outline\n",
    "\n",
    "Typically, when using a notebook instance with SageMaker, you will proceed through the following steps. Of course, not every step will need to be done with each project. Also, there is quite a lot of room for variation in many of the steps, as you will see throughout these lessons.\n",
    "\n",
    "1. Download or otherwise retrieve the data.\n",
    "2. Process / Prepare the data.\n",
    "3. Upload the processed data to S3.\n",
    "4. Train a chosen model.\n",
    "5. Test the trained model (typically using a batch transform job).\n",
    "6. Deploy the trained model.\n",
    "7. Use the deployed model.\n",
    "\n",
    "In this notebook we will progress through each of the steps above. We will also see that the final step, using the deployed model, can be quite challenging."
   ]
  },
  {
   "cell_type": "markdown",
   "metadata": {},
   "source": [
    "## Step 1: Downloading the data\n",
    "\n",
    "The dataset we are going to use is very popular among researchers in Natural Language Processing, usually referred to as the [IMDb dataset](http://ai.stanford.edu/~amaas/data/sentiment/). It consists of movie reviews from the website [imdb.com](http://www.imdb.com/), each labeled as either '**pos**itive', if the reviewer enjoyed the film, or '**neg**ative' otherwise.\n",
    "\n",
    "> Maas, Andrew L., et al. [Learning Word Vectors for Sentiment Analysis](http://ai.stanford.edu/~amaas/data/sentiment/). In _Proceedings of the 49th Annual Meeting of the Association for Computational Linguistics: Human Language Technologies_. Association for Computational Linguistics, 2011.\n",
    "\n",
    "We begin by using some Jupyter Notebook magic to download and extract the dataset."
   ]
  },
  {
   "cell_type": "code",
   "execution_count": 1,
   "metadata": {},
   "outputs": [
    {
     "name": "stdout",
     "output_type": "stream",
     "text": [
      "mkdir: cannot create directory ‘../data’: File exists\n",
      "--2020-09-10 07:18:42--  http://ai.stanford.edu/~amaas/data/sentiment/aclImdb_v1.tar.gz\n",
      "Resolving ai.stanford.edu (ai.stanford.edu)... 171.64.68.10\n",
      "Connecting to ai.stanford.edu (ai.stanford.edu)|171.64.68.10|:80... connected.\n",
      "HTTP request sent, awaiting response... 200 OK\n",
      "Length: 84125825 (80M) [application/x-gzip]\n",
      "Saving to: ‘../data/aclImdb_v1.tar.gz’\n",
      "\n",
      "../data/aclImdb_v1. 100%[===================>]  80.23M  38.3MB/s    in 2.1s    \n",
      "\n",
      "2020-09-10 07:18:44 (38.3 MB/s) - ‘../data/aclImdb_v1.tar.gz’ saved [84125825/84125825]\n",
      "\n"
     ]
    }
   ],
   "source": [
    "%mkdir ../data\n",
    "!wget -O ../data/aclImdb_v1.tar.gz http://ai.stanford.edu/~amaas/data/sentiment/aclImdb_v1.tar.gz\n",
    "!tar -zxf ../data/aclImdb_v1.tar.gz -C ../data"
   ]
  },
  {
   "cell_type": "markdown",
   "metadata": {},
   "source": [
    "## Step 2: Preparing and Processing the data\n",
    "\n",
    "The data we have downloaded is split into various files, each of which contains a single review. It will be much easier going forward if we combine these individual files into two large files, one for training and one for testing."
   ]
  },
  {
   "cell_type": "code",
   "execution_count": 2,
   "metadata": {},
   "outputs": [],
   "source": [
    "import os\n",
    "import glob\n",
    "\n",
    "def read_imdb_data(data_dir='../data/aclImdb'):\n",
    "    data = {}\n",
    "    labels = {}\n",
    "    \n",
    "    for data_type in ['train', 'test']:\n",
    "        data[data_type] = {}\n",
    "        labels[data_type] = {}\n",
    "        \n",
    "        for sentiment in ['pos', 'neg']:\n",
    "            data[data_type][sentiment] = []\n",
    "            labels[data_type][sentiment] = []\n",
    "            \n",
    "            path = os.path.join(data_dir, data_type, sentiment, '*.txt')\n",
    "            files = glob.glob(path)\n",
    "            \n",
    "            for f in files:\n",
    "                with open(f) as review:\n",
    "                    data[data_type][sentiment].append(review.read())\n",
    "                    # Here we represent a positive review by '1' and a negative review by '0'\n",
    "                    labels[data_type][sentiment].append(1 if sentiment == 'pos' else 0)\n",
    "                    \n",
    "            assert len(data[data_type][sentiment]) == len(labels[data_type][sentiment]), \\\n",
    "                    \"{}/{} data size does not match labels size\".format(data_type, sentiment)\n",
    "                \n",
    "    return data, labels"
   ]
  },
  {
   "cell_type": "code",
   "execution_count": 3,
   "metadata": {},
   "outputs": [
    {
     "name": "stdout",
     "output_type": "stream",
     "text": [
      "IMDB reviews: train = 12500 pos / 12500 neg, test = 12500 pos / 12500 neg\n"
     ]
    }
   ],
   "source": [
    "data, labels = read_imdb_data()\n",
    "print(\"IMDB reviews: train = {} pos / {} neg, test = {} pos / {} neg\".format(\n",
    "            len(data['train']['pos']), len(data['train']['neg']),\n",
    "            len(data['test']['pos']), len(data['test']['neg'])))"
   ]
  },
  {
   "cell_type": "code",
   "execution_count": 4,
   "metadata": {},
   "outputs": [],
   "source": [
    "from sklearn.utils import shuffle\n",
    "\n",
    "def prepare_imdb_data(data, labels):\n",
    "    \"\"\"Prepare training and test sets from IMDb movie reviews.\"\"\"\n",
    "    \n",
    "    #Combine positive and negative reviews and labels\n",
    "    data_train = data['train']['pos'] + data['train']['neg']\n",
    "    data_test = data['test']['pos'] + data['test']['neg']\n",
    "    labels_train = labels['train']['pos'] + labels['train']['neg']\n",
    "    labels_test = labels['test']['pos'] + labels['test']['neg']\n",
    "    \n",
    "    #Shuffle reviews and corresponding labels within training and test sets\n",
    "    data_train, labels_train = shuffle(data_train, labels_train)\n",
    "    data_test, labels_test = shuffle(data_test, labels_test)\n",
    "    \n",
    "    # Return a unified training data, test data, training labels, test labets\n",
    "    return data_train, data_test, labels_train, labels_test"
   ]
  },
  {
   "cell_type": "code",
   "execution_count": 5,
   "metadata": {},
   "outputs": [
    {
     "name": "stdout",
     "output_type": "stream",
     "text": [
      "IMDb reviews (combined): train = 25000, test = 25000\n"
     ]
    }
   ],
   "source": [
    "train_X, test_X, train_y, test_y = prepare_imdb_data(data, labels)\n",
    "print(\"IMDb reviews (combined): train = {}, test = {}\".format(len(train_X), len(test_X)))"
   ]
  },
  {
   "cell_type": "code",
   "execution_count": 6,
   "metadata": {},
   "outputs": [
    {
     "data": {
      "text/plain": [
       "'THE FBI STORY (1959) was Warner Bros. 149 minute epic tribute to the famous criminal investigation agency! From a book by Don Whitehead came a somewhat laborious screenplay by Richard L. Green and John Twist and was directed with only a modicum of flair by Mervyn LeRoy. However it did have splendid colour Cinematography by Joseph Biroc and a helpful score by the studio\\'s musical magician Max Steiner!<br /><br />The movie charts the history of the Bureau from its lowly beginnings in the twenties to modern times and its all seen through the recollections of aging fastidious agent Chip Hardesty (James Stewart) as he relates his investigative experiences - in flashback - to a class of budding young agents. But it\\'s all very long-winded and episodic! And as it progresses it begins to look like a TV mini series instead of a major movie production as the young Hardesty runs the American crime gamut from taking on such notorious criminal figures as \"Baby Face\" Nelson, Ma Barker, Dillinger etc. to sorting out nefarious organisations like the Ku Klux Klan, Nazi spy rings and the Red Menace. And here it has to be said that only for the screen presence and appeal of its star THE FBI STORY would probably have ended up a forgotten disaster. Moreover, this is another problem with the picture - Stewart is left to carry the entire movie almost on his own! With the exception of Vera Miles - who has the thankless role of being his long suffering but devoted wife - he is surrounded by a cast of minor players! Throughout you find yourself half expecting someone like Robert Ryan, Jack Palance or even Raymond Burr to make a welcome entrance as a mobster or a police chief or whatever. But nothing quite as imaginative as that ever occurs! Pity!<br /><br />The film does however manage to give a good look inside the workings of the Bureau! With the help of Stewart\\'s narration we learn about the thousands of men and women who work for the organisation which includes the hundreds of agents in the field. And we are also treated to a peek inside headquarters which houses the gigantic records section and we also get a glimpse of the chemists and fingerprint experts meticulously going through their daily chores.<br /><br />Another plus for the movie is Max Steiner\\'s remarkable score! Heard over the titles is a powerful, rousing and determined march while for the picture\\'s gentler moments there is an attractive love theme. But quite ingenious is the menacing and ominous march theme for the Ku Klux Klan sequence. And better still is the rhythmic Latin-American music the composer wrote for the South American scenes especially the exciting Fandango like orchestrations for the arrival of the Federal troops on horseback. THE FBI STORY was one of five scores the composer wrote in 1959 which included Samuel Bronston\\'s naval epic \"John Paul Jones\", the charming Rom-com \"Cash McCall\", Delmer Daves\\' seminal western \"The Hanging Tree\" and Daves\\' \"A Summer Place\" from which derived the Young Love Theme - which was to become a major hit tune for Steiner better known as \"Theme From A Summer Place\".<br /><br />THE FBI STORY just about passes muster as a movie thanks to Biroc\\'s rich colour Cinematography, Steiner\\'s wonderful music and of course Jimmie Stewart who makes anything watchable!<br /><br />Classic but implausible line from THE FBI STORY............. As the bland Nick Adams (who has just blown up a plane with 43 people on board, including his mother) is being led away handcuffed he turns to the arresting officer and blurts: \"In case I get any mail you can send it to Canyon City prison for the next month or so - after that you can send it to HELL\". Wow!'"
      ]
     },
     "execution_count": 6,
     "metadata": {},
     "output_type": "execute_result"
    }
   ],
   "source": [
    "train_X[100]"
   ]
  },
  {
   "cell_type": "markdown",
   "metadata": {},
   "source": [
    "## Processing the data\n",
    "\n",
    "Now that we have our training and testing datasets merged and ready to use, we need to start processing the raw data into something that will be useable by our machine learning algorithm. To begin with, we remove any html formatting and any non-alpha numeric characters that may appear in the reviews. We will do this in a very simplistic way using Python's regular expression module. We will discuss the reason for this rather simplistic pre-processing later on."
   ]
  },
  {
   "cell_type": "code",
   "execution_count": 7,
   "metadata": {},
   "outputs": [],
   "source": [
    "import re\n",
    "\n",
    "REPLACE_NO_SPACE = re.compile(\"(\\.)|(\\;)|(\\:)|(\\!)|(\\')|(\\?)|(\\,)|(\\\")|(\\()|(\\))|(\\[)|(\\])\")\n",
    "REPLACE_WITH_SPACE = re.compile(\"(<br\\s*/><br\\s*/>)|(\\-)|(\\/)\")\n",
    "\n",
    "def review_to_words(review):\n",
    "    words = REPLACE_NO_SPACE.sub(\"\", review.lower())\n",
    "    words = REPLACE_WITH_SPACE.sub(\" \", words)\n",
    "    return words"
   ]
  },
  {
   "cell_type": "code",
   "execution_count": 8,
   "metadata": {},
   "outputs": [
    {
     "data": {
      "text/plain": [
       "'the fbi story 1959 was warner bros 149 minute epic tribute to the famous criminal investigation agency from a book by don whitehead came a somewhat laborious screenplay by richard l green and john twist and was directed with only a modicum of flair by mervyn leroy however it did have splendid colour cinematography by joseph biroc and a helpful score by the studios musical magician max steiner the movie charts the history of the bureau from its lowly beginnings in the twenties to modern times and its all seen through the recollections of aging fastidious agent chip hardesty james stewart as he relates his investigative experiences   in flashback   to a class of budding young agents but its all very long winded and episodic and as it progresses it begins to look like a tv mini series instead of a major movie production as the young hardesty runs the american crime gamut from taking on such notorious criminal figures as baby face nelson ma barker dillinger etc to sorting out nefarious organisations like the ku klux klan nazi spy rings and the red menace and here it has to be said that only for the screen presence and appeal of its star the fbi story would probably have ended up a forgotten disaster moreover this is another problem with the picture   stewart is left to carry the entire movie almost on his own with the exception of vera miles   who has the thankless role of being his long suffering but devoted wife   he is surrounded by a cast of minor players throughout you find yourself half expecting someone like robert ryan jack palance or even raymond burr to make a welcome entrance as a mobster or a police chief or whatever but nothing quite as imaginative as that ever occurs pity the film does however manage to give a good look inside the workings of the bureau with the help of stewarts narration we learn about the thousands of men and women who work for the organisation which includes the hundreds of agents in the field and we are also treated to a peek inside headquarters which houses the gigantic records section and we also get a glimpse of the chemists and fingerprint experts meticulously going through their daily chores another plus for the movie is max steiners remarkable score heard over the titles is a powerful rousing and determined march while for the pictures gentler moments there is an attractive love theme but quite ingenious is the menacing and ominous march theme for the ku klux klan sequence and better still is the rhythmic latin american music the composer wrote for the south american scenes especially the exciting fandango like orchestrations for the arrival of the federal troops on horseback the fbi story was one of five scores the composer wrote in 1959 which included samuel bronstons naval epic john paul jones the charming rom com cash mccall delmer daves seminal western the hanging tree and daves a summer place from which derived the young love theme   which was to become a major hit tune for steiner better known as theme from a summer place the fbi story just about passes muster as a movie thanks to birocs rich colour cinematography steiners wonderful music and of course jimmie stewart who makes anything watchable classic but implausible line from the fbi story as the bland nick adams who has just blown up a plane with 43 people on board including his mother is being led away handcuffed he turns to the arresting officer and blurts in case i get any mail you can send it to canyon city prison for the next month or so   after that you can send it to hell wow'"
      ]
     },
     "execution_count": 8,
     "metadata": {},
     "output_type": "execute_result"
    }
   ],
   "source": [
    "review_to_words(train_X[100])"
   ]
  },
  {
   "cell_type": "code",
   "execution_count": 9,
   "metadata": {},
   "outputs": [],
   "source": [
    "import pickle\n",
    "\n",
    "cache_dir = os.path.join(\"../cache\", \"sentiment_web_app\")  # where to store cache files\n",
    "os.makedirs(cache_dir, exist_ok=True)  # ensure cache directory exists\n",
    "\n",
    "def preprocess_data(data_train, data_test, labels_train, labels_test,\n",
    "                    cache_dir=cache_dir, cache_file=\"preprocessed_data.pkl\"):\n",
    "    \"\"\"Convert each review to words; read from cache if available.\"\"\"\n",
    "\n",
    "    # If cache_file is not None, try to read from it first\n",
    "    cache_data = None\n",
    "    if cache_file is not None:\n",
    "        try:\n",
    "            with open(os.path.join(cache_dir, cache_file), \"rb\") as f:\n",
    "                cache_data = pickle.load(f)\n",
    "            print(\"Read preprocessed data from cache file:\", cache_file)\n",
    "        except:\n",
    "            pass  # unable to read from cache, but that's okay\n",
    "    \n",
    "    # If cache is missing, then do the heavy lifting\n",
    "    if cache_data is None:\n",
    "        # Preprocess training and test data to obtain words for each review\n",
    "        #words_train = list(map(review_to_words, data_train))\n",
    "        #words_test = list(map(review_to_words, data_test))\n",
    "        words_train = [review_to_words(review) for review in data_train]\n",
    "        words_test = [review_to_words(review) for review in data_test]\n",
    "        \n",
    "        # Write to cache file for future runs\n",
    "        if cache_file is not None:\n",
    "            cache_data = dict(words_train=words_train, words_test=words_test,\n",
    "                              labels_train=labels_train, labels_test=labels_test)\n",
    "            with open(os.path.join(cache_dir, cache_file), \"wb\") as f:\n",
    "                pickle.dump(cache_data, f)\n",
    "            print(\"Wrote preprocessed data to cache file:\", cache_file)\n",
    "    else:\n",
    "        # Unpack data loaded from cache file\n",
    "        words_train, words_test, labels_train, labels_test = (cache_data['words_train'],\n",
    "                cache_data['words_test'], cache_data['labels_train'], cache_data['labels_test'])\n",
    "    \n",
    "    return words_train, words_test, labels_train, labels_test"
   ]
  },
  {
   "cell_type": "code",
   "execution_count": 10,
   "metadata": {},
   "outputs": [
    {
     "name": "stdout",
     "output_type": "stream",
     "text": [
      "Read preprocessed data from cache file: preprocessed_data.pkl\n"
     ]
    }
   ],
   "source": [
    "# Preprocess data\n",
    "train_X, test_X, train_y, test_y = preprocess_data(train_X, test_X, train_y, test_y)"
   ]
  },
  {
   "cell_type": "markdown",
   "metadata": {},
   "source": [
    "### Extract Bag-of-Words features\n",
    "\n",
    "For the model we will be implementing, rather than using the reviews directly, we are going to transform each review into a Bag-of-Words feature representation. Keep in mind that 'in the wild' we will only have access to the training set so our transformer can only use the training set to construct a representation."
   ]
  },
  {
   "cell_type": "code",
   "execution_count": 11,
   "metadata": {},
   "outputs": [],
   "source": [
    "import numpy as np\n",
    "from sklearn.feature_extraction.text import CountVectorizer\n",
    "#from sklearn.externals \n",
    "import joblib\n",
    "# joblib is an enhanced version of pickle that is more efficient for storing NumPy arrays\n",
    "\n",
    "def extract_BoW_features(words_train, words_test, vocabulary_size=5000,\n",
    "                         cache_dir=cache_dir, cache_file=\"bow_features.pkl\"):\n",
    "    \"\"\"Extract Bag-of-Words for a given set of documents, already preprocessed into words.\"\"\"\n",
    "    \n",
    "    # If cache_file is not None, try to read from it first\n",
    "    cache_data = None\n",
    "    if cache_file is not None:\n",
    "        try:\n",
    "            with open(os.path.join(cache_dir, cache_file), \"rb\") as f:\n",
    "                cache_data = joblib.load(f)\n",
    "            print(\"Read features from cache file:\", cache_file)\n",
    "        except:\n",
    "            pass  # unable to read from cache, but that's okay\n",
    "    \n",
    "    # If cache is missing, then do the heavy lifting\n",
    "    if cache_data is None:\n",
    "        # Fit a vectorizer to training documents and use it to transform them\n",
    "        # NOTE: Training documents have already been preprocessed and tokenized into words;\n",
    "        #       pass in dummy functions to skip those steps, e.g. preprocessor=lambda x: x\n",
    "        vectorizer = CountVectorizer(max_features=vocabulary_size)\n",
    "        features_train = vectorizer.fit_transform(words_train).toarray()\n",
    "\n",
    "        # Apply the same vectorizer to transform the test documents (ignore unknown words)\n",
    "        features_test = vectorizer.transform(words_test).toarray()\n",
    "        \n",
    "        # NOTE: Remember to convert the features using .toarray() for a compact representation\n",
    "        \n",
    "        # Write to cache file for future runs (store vocabulary as well)\n",
    "        if cache_file is not None:\n",
    "            vocabulary = vectorizer.vocabulary_\n",
    "            cache_data = dict(features_train=features_train, features_test=features_test,\n",
    "                             vocabulary=vocabulary)\n",
    "            with open(os.path.join(cache_dir, cache_file), \"wb\") as f:\n",
    "                joblib.dump(cache_data, f)\n",
    "            print(\"Wrote features to cache file:\", cache_file)\n",
    "    else:\n",
    "        # Unpack data loaded from cache file\n",
    "        features_train, features_test, vocabulary = (cache_data['features_train'],\n",
    "                cache_data['features_test'], cache_data['vocabulary'])\n",
    "    \n",
    "    # Return both the extracted features as well as the vocabulary\n",
    "    return features_train, features_test, vocabulary"
   ]
  },
  {
   "cell_type": "code",
   "execution_count": 12,
   "metadata": {},
   "outputs": [
    {
     "name": "stdout",
     "output_type": "stream",
     "text": [
      "Read features from cache file: bow_features.pkl\n"
     ]
    }
   ],
   "source": [
    "# Extract Bag of Words features for both training and test datasets\n",
    "train_X, test_X, vocabulary = extract_BoW_features(train_X, test_X)"
   ]
  },
  {
   "cell_type": "code",
   "execution_count": 13,
   "metadata": {},
   "outputs": [
    {
     "data": {
      "text/plain": [
       "5000"
      ]
     },
     "execution_count": 13,
     "metadata": {},
     "output_type": "execute_result"
    }
   ],
   "source": [
    "len(train_X[100])"
   ]
  },
  {
   "cell_type": "markdown",
   "metadata": {},
   "source": [
    "## Step 3: Upload data to S3\n",
    "\n",
    "Now that we have created the feature representation of our training (and testing) data, it is time to start setting up and using the XGBoost classifier provided by SageMaker.\n",
    "\n",
    "### Writing the datasets\n",
    "\n",
    "The XGBoost classifier that we will be using requires the dataset to be written to a file and stored using Amazon S3. To do this, we will start by splitting the training dataset into two parts, the data we will train the model with and a validation set. Then, we will write those datasets to a file locally and then upload the files to S3. In addition, we will write the test set to a file and upload that file to S3. This is so that we can use SageMakers Batch Transform functionality to test our model once we've fit it."
   ]
  },
  {
   "cell_type": "code",
   "execution_count": 14,
   "metadata": {},
   "outputs": [],
   "source": [
    "import pandas as pd\n",
    "\n",
    "# Earlier we shuffled the training dataset so to make things simple we can just assign\n",
    "# the first 10 000 reviews to the validation set and use the remaining reviews for training.\n",
    "val_X = pd.DataFrame(train_X[:10000])\n",
    "train_X = pd.DataFrame(train_X[10000:])\n",
    "\n",
    "val_y = pd.DataFrame(train_y[:10000])\n",
    "train_y = pd.DataFrame(train_y[10000:])"
   ]
  },
  {
   "cell_type": "markdown",
   "metadata": {},
   "source": [
    "The documentation for the XGBoost algorithm in SageMaker requires that the training and validation datasets should contain no headers or index and that the label should occur first for each sample.\n",
    "\n",
    "For more information about this and other algorithms, the SageMaker developer documentation can be found on __[Amazon's website.](https://docs.aws.amazon.com/sagemaker/latest/dg/)__"
   ]
  },
  {
   "cell_type": "code",
   "execution_count": 15,
   "metadata": {},
   "outputs": [],
   "source": [
    "# First we make sure that the local directory in which we'd like to store the training and validation csv files exists.\n",
    "data_dir = '../data/sentiment_web_app'\n",
    "if not os.path.exists(data_dir):\n",
    "    os.makedirs(data_dir)"
   ]
  },
  {
   "cell_type": "code",
   "execution_count": 16,
   "metadata": {},
   "outputs": [],
   "source": [
    "pd.DataFrame(test_X).to_csv(os.path.join(data_dir, 'test.csv'), header=False, index=False)\n",
    "\n",
    "pd.concat([val_y, val_X], axis=1).to_csv(os.path.join(data_dir, 'validation.csv'), header=False, index=False)\n",
    "pd.concat([train_y, train_X], axis=1).to_csv(os.path.join(data_dir, 'train.csv'), header=False, index=False)"
   ]
  },
  {
   "cell_type": "code",
   "execution_count": 17,
   "metadata": {},
   "outputs": [],
   "source": [
    "# To save a bit of memory we can set text_X, train_X, val_X, train_y and val_y to None.\n",
    "\n",
    "test_X = train_X = val_X = train_y = val_y = None"
   ]
  },
  {
   "cell_type": "markdown",
   "metadata": {},
   "source": [
    "### Uploading Training / Validation files to S3\n",
    "\n",
    "Amazon's S3 service allows us to store files that can be accessed by both the built-in training models such as the XGBoost model we will be using as well as custom models such as the one we will see a little later.\n",
    "\n",
    "For this and most other tasks we will be doing using SageMaker, there are two methods we could use. The first is to use the low level functionality of SageMaker which requires knowing each of the objects involved in the SageMaker environment. The second is to use the high level functionality in which certain choices have been made on the user's behalf. The low level approach benefits from allowing the user a great deal of flexibility while the high level approach makes development much quicker. For our purposes we will opt to use the high level approach although using the low-level approach is certainly an option.\n",
    "\n",
    "Recall the method `upload_data()` which is a member of the object representing our current SageMaker session. What this method does is upload the data to the default bucket (which is created if it does not exist) into the path described by the key_prefix variable. To see this for yourself, once you have uploaded the data files, go to the S3 console and look to see where the files have been uploaded.\n",
    "\n",
    "For additional resources, see the __[SageMaker API documentation](http://sagemaker.readthedocs.io/en/latest/)__ and in addition the __[SageMaker Developer Guide.](https://docs.aws.amazon.com/sagemaker/latest/dg/)__"
   ]
  },
  {
   "cell_type": "code",
   "execution_count": 18,
   "metadata": {},
   "outputs": [],
   "source": [
    "import sagemaker\n",
    "\n",
    "session = sagemaker.Session() # Store the current SageMaker session\n",
    "\n",
    "# S3 prefix (which folder will we use)\n",
    "prefix = 'sentiment-web-app'\n",
    "\n",
    "test_location = session.upload_data(os.path.join(data_dir, 'test.csv'), key_prefix=prefix)\n",
    "val_location = session.upload_data(os.path.join(data_dir, 'validation.csv'), key_prefix=prefix)\n",
    "train_location = session.upload_data(os.path.join(data_dir, 'train.csv'), key_prefix=prefix)"
   ]
  },
  {
   "cell_type": "markdown",
   "metadata": {},
   "source": [
    "## Step 4: Creating the XGBoost model\n",
    "\n",
    "Now that the data has been uploaded it is time to create the XGBoost model. To begin with, we need to do some setup. At this point it is worth discussing what a model is in SageMaker. It is easiest to think of a model of comprising three different objects in the SageMaker ecosystem, which interact with one another.\n",
    "\n",
    "- Model Artifacts\n",
    "- Training Code (Container)\n",
    "- Inference Code (Container)\n",
    "\n",
    "The Model Artifacts are what you might think of as the actual model itself. For example, if you were building a neural network, the model artifacts would be the weights of the various layers. In our case, for an XGBoost model, the artifacts are the actual trees that are created during training.\n",
    "\n",
    "The other two objects, the training code and the inference code are then used to manipulate the training artifacts. More precisely, the training code uses the training data that is provided and creates the model artifacts, while the inference code uses the model artifacts to make predictions on new data.\n",
    "\n",
    "The way that SageMaker runs the training and inference code is by making use of Docker containers. For now, think of a container as being a way of packaging code up so that dependencies aren't an issue."
   ]
  },
  {
   "cell_type": "code",
   "execution_count": 19,
   "metadata": {},
   "outputs": [],
   "source": [
    "from sagemaker import get_execution_role\n",
    "\n",
    "# Our current execution role is required when creating the model as the training\n",
    "# and inference code will need to access the model artifacts.\n",
    "role = get_execution_role()"
   ]
  },
  {
   "cell_type": "code",
   "execution_count": 20,
   "metadata": {},
   "outputs": [
    {
     "name": "stderr",
     "output_type": "stream",
     "text": [
      "'get_image_uri' method will be deprecated in favor of 'ImageURIProvider' class in SageMaker Python SDK v2.\n",
      "There is a more up to date SageMaker XGBoost image. To use the newer image, please set 'repo_version'='1.0-1'. For example:\n",
      "\tget_image_uri(region, 'xgboost', '1.0-1').\n"
     ]
    }
   ],
   "source": [
    "# We need to retrieve the location of the container which is provided by Amazon for using XGBoost.\n",
    "# As a matter of convenience, the training and inference code both use the same container.\n",
    "from sagemaker.amazon.amazon_estimator import get_image_uri\n",
    "\n",
    "container = get_image_uri(session.boto_region_name, 'xgboost')"
   ]
  },
  {
   "cell_type": "code",
   "execution_count": 21,
   "metadata": {},
   "outputs": [
    {
     "name": "stderr",
     "output_type": "stream",
     "text": [
      "Parameter image_name will be renamed to image_uri in SageMaker Python SDK v2.\n"
     ]
    }
   ],
   "source": [
    "# First we create a SageMaker estimator object for our model.\n",
    "xgb = sagemaker.estimator.Estimator(container, # The location of the container we wish to use\n",
    "                                    role,                                    # What is our current IAM Role\n",
    "                                    train_instance_count=1,                  # How many compute instances\n",
    "                                    train_instance_type='ml.m4.xlarge',      # What kind of compute instances\n",
    "                                    output_path='s3://{}/{}/output'.format(session.default_bucket(), prefix),\n",
    "                                    sagemaker_session=session)\n",
    "\n",
    "# And then set the algorithm specific parameters.\n",
    "xgb.set_hyperparameters(max_depth=5,\n",
    "                        eta=0.2,\n",
    "                        gamma=4,\n",
    "                        min_child_weight=6,\n",
    "                        subsample=0.8,\n",
    "                        silent=0,\n",
    "                        objective='binary:logistic',\n",
    "                        early_stopping_rounds=10,\n",
    "                        num_round=500)"
   ]
  },
  {
   "cell_type": "markdown",
   "metadata": {},
   "source": [
    "### Fit the XGBoost model\n",
    "\n",
    "Now that our model has been set up we simply need to attach the training and validation datasets and then ask SageMaker to set up the computation."
   ]
  },
  {
   "cell_type": "code",
   "execution_count": 22,
   "metadata": {},
   "outputs": [
    {
     "name": "stderr",
     "output_type": "stream",
     "text": [
      "'s3_input' class will be renamed to 'TrainingInput' in SageMaker Python SDK v2.\n",
      "'s3_input' class will be renamed to 'TrainingInput' in SageMaker Python SDK v2.\n"
     ]
    }
   ],
   "source": [
    "s3_input_train = sagemaker.s3_input(s3_data=train_location, content_type='csv')\n",
    "s3_input_validation = sagemaker.s3_input(s3_data=val_location, content_type='csv')"
   ]
  },
  {
   "cell_type": "code",
   "execution_count": 23,
   "metadata": {},
   "outputs": [
    {
     "name": "stdout",
     "output_type": "stream",
     "text": [
      "2020-09-10 07:21:06 Starting - Starting the training job...\n",
      "2020-09-10 07:21:08 Starting - Launching requested ML instances......\n",
      "2020-09-10 07:22:16 Starting - Preparing the instances for training......\n",
      "2020-09-10 07:23:35 Downloading - Downloading input data\n",
      "2020-09-10 07:23:35 Training - Downloading the training image...\n",
      "2020-09-10 07:23:54 Training - Training image download completed. Training in progress.\u001b[34mArguments: train\u001b[0m\n",
      "\u001b[34m[2020-09-10:07:23:54:INFO] Running standalone xgboost training.\u001b[0m\n",
      "\u001b[34m[2020-09-10:07:23:54:INFO] File size need to be processed in the node: 238.5mb. Available memory size in the node: 8484.57mb\u001b[0m\n",
      "\u001b[34m[2020-09-10:07:23:54:INFO] Determined delimiter of CSV input is ','\u001b[0m\n",
      "\u001b[34m[07:23:54] S3DistributionType set as FullyReplicated\u001b[0m\n",
      "\u001b[34m[07:23:56] 15000x5000 matrix with 75000000 entries loaded from /opt/ml/input/data/train?format=csv&label_column=0&delimiter=,\u001b[0m\n",
      "\u001b[34m[2020-09-10:07:23:56:INFO] Determined delimiter of CSV input is ','\u001b[0m\n",
      "\u001b[34m[07:23:56] S3DistributionType set as FullyReplicated\u001b[0m\n",
      "\u001b[34m[07:23:57] 10000x5000 matrix with 50000000 entries loaded from /opt/ml/input/data/validation?format=csv&label_column=0&delimiter=,\u001b[0m\n",
      "\u001b[34m[07:24:01] src/tree/updater_prune.cc:74: tree pruning end, 1 roots, 44 extra nodes, 4 pruned nodes, max_depth=5\u001b[0m\n",
      "\u001b[34m[0]#011train-error:0.3026#011validation-error:0.3079\u001b[0m\n",
      "\u001b[34mMultiple eval metrics have been passed: 'validation-error' will be used for early stopping.\n",
      "\u001b[0m\n",
      "\u001b[34mWill train until validation-error hasn't improved in 10 rounds.\u001b[0m\n",
      "\u001b[34m[07:24:03] src/tree/updater_prune.cc:74: tree pruning end, 1 roots, 40 extra nodes, 6 pruned nodes, max_depth=5\u001b[0m\n",
      "\u001b[34m[1]#011train-error:0.290733#011validation-error:0.2969\u001b[0m\n",
      "\u001b[34m[07:24:04] src/tree/updater_prune.cc:74: tree pruning end, 1 roots, 40 extra nodes, 8 pruned nodes, max_depth=5\u001b[0m\n",
      "\u001b[34m[2]#011train-error:0.28#011validation-error:0.2892\u001b[0m\n",
      "\u001b[34m[07:24:06] src/tree/updater_prune.cc:74: tree pruning end, 1 roots, 40 extra nodes, 0 pruned nodes, max_depth=5\u001b[0m\n",
      "\u001b[34m[3]#011train-error:0.273467#011validation-error:0.2827\u001b[0m\n",
      "\u001b[34m[07:24:07] src/tree/updater_prune.cc:74: tree pruning end, 1 roots, 32 extra nodes, 8 pruned nodes, max_depth=5\u001b[0m\n",
      "\u001b[34m[4]#011train-error:0.263667#011validation-error:0.2692\u001b[0m\n",
      "\u001b[34m[07:24:08] src/tree/updater_prune.cc:74: tree pruning end, 1 roots, 40 extra nodes, 8 pruned nodes, max_depth=5\u001b[0m\n",
      "\u001b[34m[5]#011train-error:0.2608#011validation-error:0.2698\u001b[0m\n",
      "\u001b[34m[07:24:10] src/tree/updater_prune.cc:74: tree pruning end, 1 roots, 50 extra nodes, 4 pruned nodes, max_depth=5\u001b[0m\n",
      "\u001b[34m[6]#011train-error:0.248467#011validation-error:0.2616\u001b[0m\n",
      "\u001b[34m[07:24:11] src/tree/updater_prune.cc:74: tree pruning end, 1 roots, 36 extra nodes, 0 pruned nodes, max_depth=5\u001b[0m\n",
      "\u001b[34m[7]#011train-error:0.2372#011validation-error:0.2526\u001b[0m\n",
      "\u001b[34m[07:24:12] src/tree/updater_prune.cc:74: tree pruning end, 1 roots, 34 extra nodes, 6 pruned nodes, max_depth=5\u001b[0m\n",
      "\u001b[34m[8]#011train-error:0.232867#011validation-error:0.248\u001b[0m\n",
      "\u001b[34m[07:24:13] src/tree/updater_prune.cc:74: tree pruning end, 1 roots, 38 extra nodes, 4 pruned nodes, max_depth=5\u001b[0m\n",
      "\u001b[34m[9]#011train-error:0.225867#011validation-error:0.242\u001b[0m\n",
      "\u001b[34m[07:24:15] src/tree/updater_prune.cc:74: tree pruning end, 1 roots, 34 extra nodes, 0 pruned nodes, max_depth=5\u001b[0m\n",
      "\u001b[34m[10]#011train-error:0.221#011validation-error:0.2372\u001b[0m\n",
      "\u001b[34m[07:24:16] src/tree/updater_prune.cc:74: tree pruning end, 1 roots, 34 extra nodes, 4 pruned nodes, max_depth=5\u001b[0m\n",
      "\u001b[34m[11]#011train-error:0.214733#011validation-error:0.2308\u001b[0m\n",
      "\u001b[34m[07:24:17] src/tree/updater_prune.cc:74: tree pruning end, 1 roots, 44 extra nodes, 2 pruned nodes, max_depth=5\u001b[0m\n",
      "\u001b[34m[12]#011train-error:0.213#011validation-error:0.2272\u001b[0m\n",
      "\u001b[34m[07:24:19] src/tree/updater_prune.cc:74: tree pruning end, 1 roots, 30 extra nodes, 8 pruned nodes, max_depth=5\u001b[0m\n",
      "\u001b[34m[13]#011train-error:0.209267#011validation-error:0.2237\u001b[0m\n",
      "\u001b[34m[07:24:20] src/tree/updater_prune.cc:74: tree pruning end, 1 roots, 28 extra nodes, 2 pruned nodes, max_depth=5\u001b[0m\n",
      "\u001b[34m[14]#011train-error:0.206867#011validation-error:0.221\u001b[0m\n",
      "\u001b[34m[07:24:21] src/tree/updater_prune.cc:74: tree pruning end, 1 roots, 24 extra nodes, 10 pruned nodes, max_depth=5\u001b[0m\n",
      "\u001b[34m[15]#011train-error:0.201867#011validation-error:0.2179\u001b[0m\n",
      "\u001b[34m[07:24:23] src/tree/updater_prune.cc:74: tree pruning end, 1 roots, 26 extra nodes, 10 pruned nodes, max_depth=5\u001b[0m\n",
      "\u001b[34m[16]#011train-error:0.198667#011validation-error:0.2154\u001b[0m\n",
      "\u001b[34m[07:24:24] src/tree/updater_prune.cc:74: tree pruning end, 1 roots, 20 extra nodes, 8 pruned nodes, max_depth=5\u001b[0m\n",
      "\u001b[34m[17]#011train-error:0.197867#011validation-error:0.2127\u001b[0m\n",
      "\u001b[34m[07:24:25] src/tree/updater_prune.cc:74: tree pruning end, 1 roots, 30 extra nodes, 8 pruned nodes, max_depth=5\u001b[0m\n",
      "\u001b[34m[18]#011train-error:0.1942#011validation-error:0.2117\u001b[0m\n",
      "\u001b[34m[07:24:27] src/tree/updater_prune.cc:74: tree pruning end, 1 roots, 24 extra nodes, 12 pruned nodes, max_depth=5\u001b[0m\n",
      "\u001b[34m[19]#011train-error:0.192333#011validation-error:0.2087\u001b[0m\n",
      "\u001b[34m[07:24:28] src/tree/updater_prune.cc:74: tree pruning end, 1 roots, 26 extra nodes, 14 pruned nodes, max_depth=5\u001b[0m\n",
      "\u001b[34m[20]#011train-error:0.1896#011validation-error:0.2065\u001b[0m\n",
      "\u001b[34m[07:24:29] src/tree/updater_prune.cc:74: tree pruning end, 1 roots, 24 extra nodes, 8 pruned nodes, max_depth=5\u001b[0m\n",
      "\u001b[34m[21]#011train-error:0.185733#011validation-error:0.2055\u001b[0m\n",
      "\u001b[34m[07:24:31] src/tree/updater_prune.cc:74: tree pruning end, 1 roots, 26 extra nodes, 4 pruned nodes, max_depth=5\u001b[0m\n",
      "\u001b[34m[22]#011train-error:0.184867#011validation-error:0.2045\u001b[0m\n",
      "\u001b[34m[07:24:32] src/tree/updater_prune.cc:74: tree pruning end, 1 roots, 40 extra nodes, 6 pruned nodes, max_depth=5\u001b[0m\n",
      "\u001b[34m[23]#011train-error:0.182133#011validation-error:0.2019\u001b[0m\n",
      "\u001b[34m[07:24:33] src/tree/updater_prune.cc:74: tree pruning end, 1 roots, 22 extra nodes, 6 pruned nodes, max_depth=5\u001b[0m\n",
      "\u001b[34m[24]#011train-error:0.180467#011validation-error:0.2016\u001b[0m\n",
      "\u001b[34m[07:24:34] src/tree/updater_prune.cc:74: tree pruning end, 1 roots, 20 extra nodes, 14 pruned nodes, max_depth=5\u001b[0m\n",
      "\u001b[34m[25]#011train-error:0.177933#011validation-error:0.1998\u001b[0m\n",
      "\u001b[34m[07:24:36] src/tree/updater_prune.cc:74: tree pruning end, 1 roots, 34 extra nodes, 6 pruned nodes, max_depth=5\u001b[0m\n",
      "\u001b[34m[26]#011train-error:0.175533#011validation-error:0.199\u001b[0m\n",
      "\u001b[34m[07:24:37] src/tree/updater_prune.cc:74: tree pruning end, 1 roots, 28 extra nodes, 8 pruned nodes, max_depth=5\u001b[0m\n",
      "\u001b[34m[27]#011train-error:0.1744#011validation-error:0.1981\u001b[0m\n",
      "\u001b[34m[07:24:38] src/tree/updater_prune.cc:74: tree pruning end, 1 roots, 18 extra nodes, 6 pruned nodes, max_depth=5\u001b[0m\n",
      "\u001b[34m[28]#011train-error:0.173133#011validation-error:0.1963\u001b[0m\n",
      "\u001b[34m[07:24:40] src/tree/updater_prune.cc:74: tree pruning end, 1 roots, 18 extra nodes, 4 pruned nodes, max_depth=5\u001b[0m\n",
      "\u001b[34m[29]#011train-error:0.170867#011validation-error:0.1947\u001b[0m\n",
      "\u001b[34m[07:24:41] src/tree/updater_prune.cc:74: tree pruning end, 1 roots, 34 extra nodes, 10 pruned nodes, max_depth=5\u001b[0m\n",
      "\u001b[34m[30]#011train-error:0.167533#011validation-error:0.1928\u001b[0m\n",
      "\u001b[34m[07:24:42] src/tree/updater_prune.cc:74: tree pruning end, 1 roots, 32 extra nodes, 6 pruned nodes, max_depth=5\u001b[0m\n",
      "\u001b[34m[31]#011train-error:0.1646#011validation-error:0.1916\u001b[0m\n",
      "\u001b[34m[07:24:44] src/tree/updater_prune.cc:74: tree pruning end, 1 roots, 40 extra nodes, 12 pruned nodes, max_depth=5\u001b[0m\n",
      "\u001b[34m[32]#011train-error:0.162133#011validation-error:0.1915\u001b[0m\n",
      "\u001b[34m[07:24:45] src/tree/updater_prune.cc:74: tree pruning end, 1 roots, 20 extra nodes, 8 pruned nodes, max_depth=5\u001b[0m\n",
      "\u001b[34m[33]#011train-error:0.159867#011validation-error:0.1921\u001b[0m\n",
      "\u001b[34m[07:24:46] src/tree/updater_prune.cc:74: tree pruning end, 1 roots, 32 extra nodes, 10 pruned nodes, max_depth=5\u001b[0m\n",
      "\u001b[34m[34]#011train-error:0.1592#011validation-error:0.1916\u001b[0m\n",
      "\u001b[34m[07:24:47] src/tree/updater_prune.cc:74: tree pruning end, 1 roots, 32 extra nodes, 12 pruned nodes, max_depth=5\u001b[0m\n",
      "\u001b[34m[35]#011train-error:0.1576#011validation-error:0.191\u001b[0m\n",
      "\u001b[34m[07:24:49] src/tree/updater_prune.cc:74: tree pruning end, 1 roots, 22 extra nodes, 8 pruned nodes, max_depth=5\u001b[0m\n",
      "\u001b[34m[36]#011train-error:0.155533#011validation-error:0.1895\u001b[0m\n",
      "\u001b[34m[07:24:50] src/tree/updater_prune.cc:74: tree pruning end, 1 roots, 18 extra nodes, 12 pruned nodes, max_depth=5\u001b[0m\n",
      "\u001b[34m[37]#011train-error:0.153867#011validation-error:0.1891\u001b[0m\n",
      "\u001b[34m[07:24:51] src/tree/updater_prune.cc:74: tree pruning end, 1 roots, 24 extra nodes, 10 pruned nodes, max_depth=5\u001b[0m\n",
      "\u001b[34m[38]#011train-error:0.152533#011validation-error:0.187\u001b[0m\n",
      "\u001b[34m[07:24:53] src/tree/updater_prune.cc:74: tree pruning end, 1 roots, 28 extra nodes, 10 pruned nodes, max_depth=5\u001b[0m\n",
      "\u001b[34m[39]#011train-error:0.150533#011validation-error:0.1853\u001b[0m\n",
      "\u001b[34m[07:24:54] src/tree/updater_prune.cc:74: tree pruning end, 1 roots, 42 extra nodes, 6 pruned nodes, max_depth=5\u001b[0m\n",
      "\u001b[34m[40]#011train-error:0.1482#011validation-error:0.1843\u001b[0m\n",
      "\u001b[34m[07:24:55] src/tree/updater_prune.cc:74: tree pruning end, 1 roots, 20 extra nodes, 12 pruned nodes, max_depth=5\u001b[0m\n",
      "\u001b[34m[41]#011train-error:0.147467#011validation-error:0.1828\u001b[0m\n",
      "\u001b[34m[07:24:57] src/tree/updater_prune.cc:74: tree pruning end, 1 roots, 28 extra nodes, 6 pruned nodes, max_depth=5\u001b[0m\n",
      "\u001b[34m[42]#011train-error:0.146867#011validation-error:0.1833\u001b[0m\n",
      "\u001b[34m[07:24:58] src/tree/updater_prune.cc:74: tree pruning end, 1 roots, 18 extra nodes, 8 pruned nodes, max_depth=5\u001b[0m\n",
      "\u001b[34m[43]#011train-error:0.146133#011validation-error:0.1831\u001b[0m\n",
      "\u001b[34m[07:24:59] src/tree/updater_prune.cc:74: tree pruning end, 1 roots, 16 extra nodes, 20 pruned nodes, max_depth=5\u001b[0m\n",
      "\u001b[34m[44]#011train-error:0.1462#011validation-error:0.1827\u001b[0m\n",
      "\u001b[34m[07:25:01] src/tree/updater_prune.cc:74: tree pruning end, 1 roots, 14 extra nodes, 20 pruned nodes, max_depth=5\u001b[0m\n",
      "\u001b[34m[45]#011train-error:0.145733#011validation-error:0.1822\u001b[0m\n",
      "\u001b[34m[07:25:02] src/tree/updater_prune.cc:74: tree pruning end, 1 roots, 20 extra nodes, 8 pruned nodes, max_depth=5\u001b[0m\n",
      "\u001b[34m[46]#011train-error:0.145#011validation-error:0.1824\u001b[0m\n",
      "\u001b[34m[07:25:03] src/tree/updater_prune.cc:74: tree pruning end, 1 roots, 24 extra nodes, 8 pruned nodes, max_depth=5\u001b[0m\n",
      "\u001b[34m[47]#011train-error:0.143467#011validation-error:0.1802\u001b[0m\n",
      "\u001b[34m[07:25:04] src/tree/updater_prune.cc:74: tree pruning end, 1 roots, 36 extra nodes, 2 pruned nodes, max_depth=5\u001b[0m\n",
      "\u001b[34m[48]#011train-error:0.141333#011validation-error:0.1792\u001b[0m\n",
      "\u001b[34m[07:25:06] src/tree/updater_prune.cc:74: tree pruning end, 1 roots, 26 extra nodes, 6 pruned nodes, max_depth=5\u001b[0m\n",
      "\u001b[34m[49]#011train-error:0.139333#011validation-error:0.1789\u001b[0m\n",
      "\u001b[34m[07:25:07] src/tree/updater_prune.cc:74: tree pruning end, 1 roots, 14 extra nodes, 6 pruned nodes, max_depth=5\u001b[0m\n",
      "\u001b[34m[50]#011train-error:0.138667#011validation-error:0.1783\u001b[0m\n",
      "\u001b[34m[07:25:08] src/tree/updater_prune.cc:74: tree pruning end, 1 roots, 16 extra nodes, 4 pruned nodes, max_depth=5\u001b[0m\n",
      "\u001b[34m[51]#011train-error:0.137267#011validation-error:0.1774\u001b[0m\n",
      "\u001b[34m[07:25:10] src/tree/updater_prune.cc:74: tree pruning end, 1 roots, 28 extra nodes, 10 pruned nodes, max_depth=5\u001b[0m\n",
      "\u001b[34m[52]#011train-error:0.137733#011validation-error:0.1752\u001b[0m\n",
      "\u001b[34m[07:25:11] src/tree/updater_prune.cc:74: tree pruning end, 1 roots, 32 extra nodes, 10 pruned nodes, max_depth=5\u001b[0m\n",
      "\u001b[34m[53]#011train-error:0.135067#011validation-error:0.1758\u001b[0m\n",
      "\u001b[34m[07:25:12] src/tree/updater_prune.cc:74: tree pruning end, 1 roots, 22 extra nodes, 2 pruned nodes, max_depth=5\u001b[0m\n",
      "\u001b[34m[54]#011train-error:0.134533#011validation-error:0.1767\u001b[0m\n",
      "\u001b[34m[07:25:14] src/tree/updater_prune.cc:74: tree pruning end, 1 roots, 30 extra nodes, 12 pruned nodes, max_depth=5\u001b[0m\n",
      "\u001b[34m[55]#011train-error:0.133267#011validation-error:0.1749\u001b[0m\n",
      "\u001b[34m[07:25:15] src/tree/updater_prune.cc:74: tree pruning end, 1 roots, 24 extra nodes, 10 pruned nodes, max_depth=5\u001b[0m\n",
      "\u001b[34m[56]#011train-error:0.132667#011validation-error:0.1749\u001b[0m\n",
      "\u001b[34m[07:25:16] src/tree/updater_prune.cc:74: tree pruning end, 1 roots, 32 extra nodes, 10 pruned nodes, max_depth=5\u001b[0m\n",
      "\u001b[34m[57]#011train-error:0.131333#011validation-error:0.1728\u001b[0m\n",
      "\u001b[34m[07:25:17] src/tree/updater_prune.cc:74: tree pruning end, 1 roots, 28 extra nodes, 4 pruned nodes, max_depth=5\u001b[0m\n",
      "\u001b[34m[58]#011train-error:0.1304#011validation-error:0.1728\u001b[0m\n",
      "\u001b[34m[07:25:19] src/tree/updater_prune.cc:74: tree pruning end, 1 roots, 14 extra nodes, 14 pruned nodes, max_depth=5\u001b[0m\n",
      "\u001b[34m[59]#011train-error:0.129667#011validation-error:0.1727\u001b[0m\n",
      "\u001b[34m[07:25:20] src/tree/updater_prune.cc:74: tree pruning end, 1 roots, 22 extra nodes, 12 pruned nodes, max_depth=5\u001b[0m\n",
      "\u001b[34m[60]#011train-error:0.128667#011validation-error:0.1708\u001b[0m\n",
      "\u001b[34m[07:25:21] src/tree/updater_prune.cc:74: tree pruning end, 1 roots, 40 extra nodes, 2 pruned nodes, max_depth=5\u001b[0m\n",
      "\u001b[34m[61]#011train-error:0.1282#011validation-error:0.1683\u001b[0m\n",
      "\u001b[34m[07:25:23] src/tree/updater_prune.cc:74: tree pruning end, 1 roots, 10 extra nodes, 12 pruned nodes, max_depth=5\u001b[0m\n",
      "\u001b[34m[62]#011train-error:0.1276#011validation-error:0.1687\u001b[0m\n",
      "\u001b[34m[07:25:24] src/tree/updater_prune.cc:74: tree pruning end, 1 roots, 28 extra nodes, 4 pruned nodes, max_depth=5\u001b[0m\n",
      "\u001b[34m[63]#011train-error:0.1276#011validation-error:0.1679\u001b[0m\n",
      "\u001b[34m[07:25:25] src/tree/updater_prune.cc:74: tree pruning end, 1 roots, 12 extra nodes, 10 pruned nodes, max_depth=5\u001b[0m\n",
      "\u001b[34m[64]#011train-error:0.127733#011validation-error:0.1675\u001b[0m\n",
      "\u001b[34m[07:25:27] src/tree/updater_prune.cc:74: tree pruning end, 1 roots, 26 extra nodes, 12 pruned nodes, max_depth=5\u001b[0m\n",
      "\u001b[34m[65]#011train-error:0.1256#011validation-error:0.1667\u001b[0m\n",
      "\u001b[34m[07:25:28] src/tree/updater_prune.cc:74: tree pruning end, 1 roots, 24 extra nodes, 10 pruned nodes, max_depth=5\u001b[0m\n",
      "\u001b[34m[66]#011train-error:0.123867#011validation-error:0.167\u001b[0m\n",
      "\u001b[34m[07:25:29] src/tree/updater_prune.cc:74: tree pruning end, 1 roots, 14 extra nodes, 14 pruned nodes, max_depth=5\u001b[0m\n",
      "\u001b[34m[67]#011train-error:0.123533#011validation-error:0.1658\u001b[0m\n",
      "\u001b[34m[07:25:31] src/tree/updater_prune.cc:74: tree pruning end, 1 roots, 26 extra nodes, 8 pruned nodes, max_depth=5\u001b[0m\n",
      "\u001b[34m[68]#011train-error:0.123733#011validation-error:0.1681\u001b[0m\n",
      "\u001b[34m[07:25:32] src/tree/updater_prune.cc:74: tree pruning end, 1 roots, 12 extra nodes, 4 pruned nodes, max_depth=5\u001b[0m\n",
      "\u001b[34m[69]#011train-error:0.123133#011validation-error:0.1669\u001b[0m\n",
      "\u001b[34m[07:25:33] src/tree/updater_prune.cc:74: tree pruning end, 1 roots, 28 extra nodes, 4 pruned nodes, max_depth=5\u001b[0m\n",
      "\u001b[34m[70]#011train-error:0.121133#011validation-error:0.1658\u001b[0m\n",
      "\u001b[34m[07:25:34] src/tree/updater_prune.cc:74: tree pruning end, 1 roots, 14 extra nodes, 8 pruned nodes, max_depth=5\u001b[0m\n",
      "\u001b[34m[71]#011train-error:0.120133#011validation-error:0.1647\u001b[0m\n",
      "\u001b[34m[07:25:36] src/tree/updater_prune.cc:74: tree pruning end, 1 roots, 24 extra nodes, 8 pruned nodes, max_depth=5\u001b[0m\n",
      "\u001b[34m[72]#011train-error:0.119#011validation-error:0.1648\u001b[0m\n",
      "\u001b[34m[07:25:37] src/tree/updater_prune.cc:74: tree pruning end, 1 roots, 12 extra nodes, 8 pruned nodes, max_depth=5\u001b[0m\n",
      "\u001b[34m[73]#011train-error:0.1184#011validation-error:0.1635\u001b[0m\n",
      "\u001b[34m[07:25:38] src/tree/updater_prune.cc:74: tree pruning end, 1 roots, 30 extra nodes, 4 pruned nodes, max_depth=5\u001b[0m\n",
      "\u001b[34m[74]#011train-error:0.118333#011validation-error:0.1639\u001b[0m\n",
      "\u001b[34m[07:25:40] src/tree/updater_prune.cc:74: tree pruning end, 1 roots, 34 extra nodes, 10 pruned nodes, max_depth=5\u001b[0m\n",
      "\u001b[34m[75]#011train-error:0.1166#011validation-error:0.1633\u001b[0m\n",
      "\u001b[34m[07:25:41] src/tree/updater_prune.cc:74: tree pruning end, 1 roots, 22 extra nodes, 12 pruned nodes, max_depth=5\u001b[0m\n",
      "\u001b[34m[76]#011train-error:0.116133#011validation-error:0.1626\u001b[0m\n",
      "\u001b[34m[07:25:42] src/tree/updater_prune.cc:74: tree pruning end, 1 roots, 14 extra nodes, 18 pruned nodes, max_depth=5\u001b[0m\n",
      "\u001b[34m[77]#011train-error:0.116267#011validation-error:0.1627\u001b[0m\n",
      "\u001b[34m[07:25:44] src/tree/updater_prune.cc:74: tree pruning end, 1 roots, 14 extra nodes, 6 pruned nodes, max_depth=5\u001b[0m\n",
      "\u001b[34m[78]#011train-error:0.115467#011validation-error:0.162\u001b[0m\n",
      "\u001b[34m[07:25:45] src/tree/updater_prune.cc:74: tree pruning end, 1 roots, 18 extra nodes, 14 pruned nodes, max_depth=5\u001b[0m\n",
      "\u001b[34m[79]#011train-error:0.1152#011validation-error:0.1626\u001b[0m\n",
      "\u001b[34m[07:25:46] src/tree/updater_prune.cc:74: tree pruning end, 1 roots, 20 extra nodes, 4 pruned nodes, max_depth=5\u001b[0m\n",
      "\u001b[34m[80]#011train-error:0.114533#011validation-error:0.1612\u001b[0m\n",
      "\u001b[34m[07:25:47] src/tree/updater_prune.cc:74: tree pruning end, 1 roots, 28 extra nodes, 4 pruned nodes, max_depth=5\u001b[0m\n",
      "\u001b[34m[81]#011train-error:0.112733#011validation-error:0.16\u001b[0m\n",
      "\u001b[34m[07:25:49] src/tree/updater_prune.cc:74: tree pruning end, 1 roots, 14 extra nodes, 8 pruned nodes, max_depth=5\u001b[0m\n",
      "\u001b[34m[82]#011train-error:0.1116#011validation-error:0.1595\u001b[0m\n",
      "\u001b[34m[07:25:50] src/tree/updater_prune.cc:74: tree pruning end, 1 roots, 12 extra nodes, 14 pruned nodes, max_depth=5\u001b[0m\n",
      "\u001b[34m[83]#011train-error:0.111267#011validation-error:0.1594\u001b[0m\n",
      "\u001b[34m[07:25:51] src/tree/updater_prune.cc:74: tree pruning end, 1 roots, 22 extra nodes, 10 pruned nodes, max_depth=5\u001b[0m\n",
      "\u001b[34m[84]#011train-error:0.110533#011validation-error:0.1597\u001b[0m\n",
      "\u001b[34m[07:25:53] src/tree/updater_prune.cc:74: tree pruning end, 1 roots, 14 extra nodes, 4 pruned nodes, max_depth=5\u001b[0m\n",
      "\u001b[34m[85]#011train-error:0.110467#011validation-error:0.1595\u001b[0m\n",
      "\u001b[34m[07:25:54] src/tree/updater_prune.cc:74: tree pruning end, 1 roots, 16 extra nodes, 6 pruned nodes, max_depth=5\u001b[0m\n",
      "\u001b[34m[86]#011train-error:0.11#011validation-error:0.1593\u001b[0m\n",
      "\u001b[34m[07:25:55] src/tree/updater_prune.cc:74: tree pruning end, 1 roots, 30 extra nodes, 6 pruned nodes, max_depth=5\u001b[0m\n",
      "\u001b[34m[87]#011train-error:0.109333#011validation-error:0.1583\u001b[0m\n",
      "\u001b[34m[07:25:57] src/tree/updater_prune.cc:74: tree pruning end, 1 roots, 14 extra nodes, 10 pruned nodes, max_depth=5\u001b[0m\n",
      "\u001b[34m[88]#011train-error:0.108533#011validation-error:0.1578\u001b[0m\n",
      "\u001b[34m[07:25:58] src/tree/updater_prune.cc:74: tree pruning end, 1 roots, 18 extra nodes, 8 pruned nodes, max_depth=5\u001b[0m\n",
      "\u001b[34m[89]#011train-error:0.1076#011validation-error:0.1574\u001b[0m\n",
      "\u001b[34m[07:25:59] src/tree/updater_prune.cc:74: tree pruning end, 1 roots, 26 extra nodes, 10 pruned nodes, max_depth=5\u001b[0m\n",
      "\u001b[34m[90]#011train-error:0.1072#011validation-error:0.1569\u001b[0m\n",
      "\u001b[34m[07:26:01] src/tree/updater_prune.cc:74: tree pruning end, 1 roots, 24 extra nodes, 8 pruned nodes, max_depth=5\u001b[0m\n",
      "\u001b[34m[91]#011train-error:0.106667#011validation-error:0.1567\u001b[0m\n",
      "\u001b[34m[07:26:02] src/tree/updater_prune.cc:74: tree pruning end, 1 roots, 20 extra nodes, 6 pruned nodes, max_depth=5\u001b[0m\n",
      "\u001b[34m[92]#011train-error:0.1056#011validation-error:0.1565\u001b[0m\n",
      "\u001b[34m[07:26:03] src/tree/updater_prune.cc:74: tree pruning end, 1 roots, 24 extra nodes, 8 pruned nodes, max_depth=5\u001b[0m\n",
      "\u001b[34m[93]#011train-error:0.105533#011validation-error:0.1568\u001b[0m\n",
      "\u001b[34m[07:26:05] src/tree/updater_prune.cc:74: tree pruning end, 1 roots, 14 extra nodes, 6 pruned nodes, max_depth=5\u001b[0m\n",
      "\u001b[34m[94]#011train-error:0.1056#011validation-error:0.1566\u001b[0m\n",
      "\u001b[34m[07:26:06] src/tree/updater_prune.cc:74: tree pruning end, 1 roots, 22 extra nodes, 4 pruned nodes, max_depth=5\u001b[0m\n",
      "\u001b[34m[95]#011train-error:0.105#011validation-error:0.1556\u001b[0m\n",
      "\u001b[34m[07:26:07] src/tree/updater_prune.cc:74: tree pruning end, 1 roots, 22 extra nodes, 10 pruned nodes, max_depth=5\u001b[0m\n",
      "\u001b[34m[96]#011train-error:0.104267#011validation-error:0.1548\u001b[0m\n",
      "\u001b[34m[07:26:09] src/tree/updater_prune.cc:74: tree pruning end, 1 roots, 24 extra nodes, 6 pruned nodes, max_depth=5\u001b[0m\n",
      "\u001b[34m[97]#011train-error:0.102867#011validation-error:0.1552\u001b[0m\n",
      "\u001b[34m[07:26:10] src/tree/updater_prune.cc:74: tree pruning end, 1 roots, 16 extra nodes, 10 pruned nodes, max_depth=5\u001b[0m\n",
      "\u001b[34m[98]#011train-error:0.1024#011validation-error:0.1561\u001b[0m\n",
      "\u001b[34m[07:26:11] src/tree/updater_prune.cc:74: tree pruning end, 1 roots, 30 extra nodes, 6 pruned nodes, max_depth=5\u001b[0m\n",
      "\u001b[34m[99]#011train-error:0.101533#011validation-error:0.1558\u001b[0m\n",
      "\u001b[34m[07:26:12] src/tree/updater_prune.cc:74: tree pruning end, 1 roots, 14 extra nodes, 8 pruned nodes, max_depth=5\u001b[0m\n",
      "\u001b[34m[100]#011train-error:0.101667#011validation-error:0.1565\u001b[0m\n",
      "\u001b[34m[07:26:14] src/tree/updater_prune.cc:74: tree pruning end, 1 roots, 12 extra nodes, 2 pruned nodes, max_depth=5\u001b[0m\n",
      "\u001b[34m[101]#011train-error:0.101#011validation-error:0.1564\u001b[0m\n",
      "\u001b[34m[07:26:15] src/tree/updater_prune.cc:74: tree pruning end, 1 roots, 16 extra nodes, 10 pruned nodes, max_depth=5\u001b[0m\n",
      "\u001b[34m[102]#011train-error:0.1008#011validation-error:0.1562\u001b[0m\n",
      "\u001b[34m[07:26:16] src/tree/updater_prune.cc:74: tree pruning end, 1 roots, 14 extra nodes, 8 pruned nodes, max_depth=5\u001b[0m\n",
      "\u001b[34m[103]#011train-error:0.0998#011validation-error:0.1553\u001b[0m\n",
      "\u001b[34m[07:26:18] src/tree/updater_prune.cc:74: tree pruning end, 1 roots, 26 extra nodes, 22 pruned nodes, max_depth=5\u001b[0m\n",
      "\u001b[34m[104]#011train-error:0.099267#011validation-error:0.1552\u001b[0m\n",
      "\u001b[34m[07:26:19] src/tree/updater_prune.cc:74: tree pruning end, 1 roots, 32 extra nodes, 8 pruned nodes, max_depth=5\u001b[0m\n",
      "\u001b[34m[105]#011train-error:0.098467#011validation-error:0.1539\u001b[0m\n",
      "\u001b[34m[07:26:20] src/tree/updater_prune.cc:74: tree pruning end, 1 roots, 34 extra nodes, 6 pruned nodes, max_depth=5\u001b[0m\n",
      "\u001b[34m[106]#011train-error:0.0976#011validation-error:0.1533\u001b[0m\n",
      "\u001b[34m[07:26:22] src/tree/updater_prune.cc:74: tree pruning end, 1 roots, 20 extra nodes, 10 pruned nodes, max_depth=5\u001b[0m\n",
      "\u001b[34m[107]#011train-error:0.0972#011validation-error:0.1529\u001b[0m\n",
      "\u001b[34m[07:26:23] src/tree/updater_prune.cc:74: tree pruning end, 1 roots, 12 extra nodes, 8 pruned nodes, max_depth=5\u001b[0m\n",
      "\u001b[34m[108]#011train-error:0.096667#011validation-error:0.1525\u001b[0m\n",
      "\u001b[34m[07:26:24] src/tree/updater_prune.cc:74: tree pruning end, 1 roots, 30 extra nodes, 6 pruned nodes, max_depth=5\u001b[0m\n",
      "\u001b[34m[109]#011train-error:0.096467#011validation-error:0.1527\u001b[0m\n",
      "\u001b[34m[07:26:26] src/tree/updater_prune.cc:74: tree pruning end, 1 roots, 10 extra nodes, 10 pruned nodes, max_depth=5\u001b[0m\n",
      "\u001b[34m[110]#011train-error:0.096133#011validation-error:0.1522\u001b[0m\n",
      "\u001b[34m[07:26:27] src/tree/updater_prune.cc:74: tree pruning end, 1 roots, 12 extra nodes, 2 pruned nodes, max_depth=5\u001b[0m\n",
      "\u001b[34m[111]#011train-error:0.096#011validation-error:0.1513\u001b[0m\n",
      "\u001b[34m[07:26:28] src/tree/updater_prune.cc:74: tree pruning end, 1 roots, 18 extra nodes, 6 pruned nodes, max_depth=5\u001b[0m\n",
      "\u001b[34m[112]#011train-error:0.094933#011validation-error:0.1517\u001b[0m\n",
      "\u001b[34m[07:26:30] src/tree/updater_prune.cc:74: tree pruning end, 1 roots, 12 extra nodes, 2 pruned nodes, max_depth=5\u001b[0m\n",
      "\u001b[34m[113]#011train-error:0.094533#011validation-error:0.1516\u001b[0m\n",
      "\u001b[34m[07:26:31] src/tree/updater_prune.cc:74: tree pruning end, 1 roots, 18 extra nodes, 10 pruned nodes, max_depth=5\u001b[0m\n",
      "\u001b[34m[114]#011train-error:0.093867#011validation-error:0.1515\u001b[0m\n",
      "\u001b[34m[07:26:32] src/tree/updater_prune.cc:74: tree pruning end, 1 roots, 32 extra nodes, 8 pruned nodes, max_depth=5\u001b[0m\n",
      "\u001b[34m[115]#011train-error:0.0932#011validation-error:0.1511\u001b[0m\n",
      "\u001b[34m[07:26:34] src/tree/updater_prune.cc:74: tree pruning end, 1 roots, 22 extra nodes, 14 pruned nodes, max_depth=5\u001b[0m\n",
      "\u001b[34m[116]#011train-error:0.093133#011validation-error:0.1509\u001b[0m\n",
      "\u001b[34m[07:26:35] src/tree/updater_prune.cc:74: tree pruning end, 1 roots, 30 extra nodes, 6 pruned nodes, max_depth=5\u001b[0m\n",
      "\u001b[34m[117]#011train-error:0.092267#011validation-error:0.1518\u001b[0m\n",
      "\u001b[34m[07:26:36] src/tree/updater_prune.cc:74: tree pruning end, 1 roots, 12 extra nodes, 16 pruned nodes, max_depth=5\u001b[0m\n",
      "\u001b[34m[118]#011train-error:0.0914#011validation-error:0.1509\u001b[0m\n",
      "\u001b[34m[07:26:37] src/tree/updater_prune.cc:74: tree pruning end, 1 roots, 10 extra nodes, 4 pruned nodes, max_depth=5\u001b[0m\n",
      "\u001b[34m[119]#011train-error:0.091467#011validation-error:0.1504\u001b[0m\n",
      "\u001b[34m[07:26:39] src/tree/updater_prune.cc:74: tree pruning end, 1 roots, 14 extra nodes, 6 pruned nodes, max_depth=5\u001b[0m\n",
      "\u001b[34m[120]#011train-error:0.090867#011validation-error:0.1496\u001b[0m\n",
      "\u001b[34m[07:26:40] src/tree/updater_prune.cc:74: tree pruning end, 1 roots, 20 extra nodes, 6 pruned nodes, max_depth=5\u001b[0m\n",
      "\u001b[34m[121]#011train-error:0.0904#011validation-error:0.1497\u001b[0m\n",
      "\u001b[34m[07:26:41] src/tree/updater_prune.cc:74: tree pruning end, 1 roots, 16 extra nodes, 12 pruned nodes, max_depth=5\u001b[0m\n",
      "\u001b[34m[122]#011train-error:0.089533#011validation-error:0.1498\u001b[0m\n",
      "\u001b[34m[07:26:43] src/tree/updater_prune.cc:74: tree pruning end, 1 roots, 14 extra nodes, 8 pruned nodes, max_depth=5\u001b[0m\n",
      "\u001b[34m[123]#011train-error:0.0906#011validation-error:0.1504\u001b[0m\n",
      "\u001b[34m[07:26:44] src/tree/updater_prune.cc:74: tree pruning end, 1 roots, 18 extra nodes, 6 pruned nodes, max_depth=5\u001b[0m\n",
      "\u001b[34m[124]#011train-error:0.089733#011validation-error:0.1506\u001b[0m\n",
      "\u001b[34m[07:26:45] src/tree/updater_prune.cc:74: tree pruning end, 1 roots, 28 extra nodes, 6 pruned nodes, max_depth=5\u001b[0m\n",
      "\u001b[34m[125]#011train-error:0.089333#011validation-error:0.1515\u001b[0m\n",
      "\u001b[34m[07:26:47] src/tree/updater_prune.cc:74: tree pruning end, 1 roots, 10 extra nodes, 6 pruned nodes, max_depth=5\u001b[0m\n",
      "\u001b[34m[126]#011train-error:0.089333#011validation-error:0.1514\u001b[0m\n",
      "\u001b[34m[07:26:48] src/tree/updater_prune.cc:74: tree pruning end, 1 roots, 10 extra nodes, 12 pruned nodes, max_depth=5\u001b[0m\n",
      "\u001b[34m[127]#011train-error:0.0894#011validation-error:0.1511\u001b[0m\n",
      "\u001b[34m[07:26:49] src/tree/updater_prune.cc:74: tree pruning end, 1 roots, 22 extra nodes, 16 pruned nodes, max_depth=5\u001b[0m\n",
      "\u001b[34m[128]#011train-error:0.089533#011validation-error:0.1505\u001b[0m\n",
      "\u001b[34m[07:26:51] src/tree/updater_prune.cc:74: tree pruning end, 1 roots, 12 extra nodes, 10 pruned nodes, max_depth=5\u001b[0m\n",
      "\u001b[34m[129]#011train-error:0.089133#011validation-error:0.1506\u001b[0m\n",
      "\u001b[34m[07:26:52] src/tree/updater_prune.cc:74: tree pruning end, 1 roots, 20 extra nodes, 4 pruned nodes, max_depth=5\u001b[0m\n",
      "\u001b[34m[130]#011train-error:0.0886#011validation-error:0.1497\u001b[0m\n",
      "\u001b[34mStopping. Best iteration:\u001b[0m\n",
      "\u001b[34m[120]#011train-error:0.090867#011validation-error:0.1496\n",
      "\u001b[0m\n",
      "\n",
      "2020-09-10 07:27:04 Uploading - Uploading generated training model\n",
      "2020-09-10 07:27:04 Completed - Training job completed\n",
      "Training seconds: 223\n",
      "Billable seconds: 223\n"
     ]
    }
   ],
   "source": [
    "xgb.fit({'train': s3_input_train, 'validation': s3_input_validation})"
   ]
  },
  {
   "cell_type": "markdown",
   "metadata": {},
   "source": [
    "## Step 5: Testing the model\n",
    "\n",
    "Now that we've fit our XGBoost model, it's time to see how well it performs. To do this we will use SageMakers Batch Transform functionality. Batch Transform is a convenient way to perform inference on a large dataset in a way that is not realtime. That is, we don't necessarily need to use our model's results immediately and instead we can perform inference on a large number of samples. An example of this in industry might be performing an end of month report. This method of inference can also be useful to us as it means that we can perform inference on our entire test set. \n",
    "\n",
    "To perform a Batch Transformation we need to first create a transformer objects from our trained estimator object."
   ]
  },
  {
   "cell_type": "code",
   "execution_count": 24,
   "metadata": {},
   "outputs": [
    {
     "name": "stderr",
     "output_type": "stream",
     "text": [
      "Parameter image will be renamed to image_uri in SageMaker Python SDK v2.\n"
     ]
    }
   ],
   "source": [
    "xgb_transformer = xgb.transformer(instance_count = 1, instance_type = 'ml.m4.xlarge')"
   ]
  },
  {
   "cell_type": "markdown",
   "metadata": {},
   "source": [
    "Next we actually perform the transform job. When doing so we need to make sure to specify the type of data we are sending so that it is serialized correctly in the background. In our case we are providing our model with csv data so we specify `text/csv`. Also, if the test data that we have provided is too large to process all at once then we need to specify how the data file should be split up. Since each line is a single entry in our data set we tell SageMaker that it can split the input on each line."
   ]
  },
  {
   "cell_type": "code",
   "execution_count": 25,
   "metadata": {},
   "outputs": [],
   "source": [
    "xgb_transformer.transform(test_location, content_type='text/csv', split_type='Line')"
   ]
  },
  {
   "cell_type": "markdown",
   "metadata": {},
   "source": [
    "Currently the transform job is running but it is doing so in the background. Since we wish to wait until the transform job is done and we would like a bit of feedback we can run the `wait()` method."
   ]
  },
  {
   "cell_type": "code",
   "execution_count": 26,
   "metadata": {},
   "outputs": [
    {
     "name": "stdout",
     "output_type": "stream",
     "text": [
      ".............................\u001b[32m2020-09-10T07:32:12.270:[sagemaker logs]: MaxConcurrentTransforms=4, MaxPayloadInMB=6, BatchStrategy=MULTI_RECORD\u001b[0m\n",
      "\u001b[34mArguments: serve\u001b[0m\n",
      "\u001b[35mArguments: serve\u001b[0m\n",
      "\u001b[34m[2020-09-10 07:32:12 +0000] [1] [INFO] Starting gunicorn 19.7.1\u001b[0m\n",
      "\u001b[34m[2020-09-10 07:32:12 +0000] [1] [INFO] Listening at: http://0.0.0.0:8080 (1)\u001b[0m\n",
      "\u001b[34m[2020-09-10 07:32:12 +0000] [1] [INFO] Using worker: gevent\u001b[0m\n",
      "\u001b[34m[2020-09-10 07:32:12 +0000] [37] [INFO] Booting worker with pid: 37\u001b[0m\n",
      "\u001b[34m[2020-09-10 07:32:12 +0000] [38] [INFO] Booting worker with pid: 38\u001b[0m\n",
      "\u001b[34m[2020-09-10:07:32:12:INFO] Model loaded successfully for worker : 37\u001b[0m\n",
      "\u001b[34m[2020-09-10 07:32:12 +0000] [39] [INFO] Booting worker with pid: 39\u001b[0m\n",
      "\u001b[34m[2020-09-10 07:32:12 +0000] [40] [INFO] Booting worker with pid: 40\u001b[0m\n",
      "\u001b[34m[2020-09-10:07:32:12:INFO] Model loaded successfully for worker : 38\u001b[0m\n",
      "\u001b[34m[2020-09-10:07:32:12:INFO] Model loaded successfully for worker : 39\u001b[0m\n",
      "\u001b[34m[2020-09-10:07:32:12:INFO] Model loaded successfully for worker : 40\u001b[0m\n",
      "\u001b[34m[2020-09-10:07:32:12:INFO] Sniff delimiter as ','\u001b[0m\n",
      "\u001b[34m[2020-09-10:07:32:12:INFO] Determined delimiter of CSV input is ','\u001b[0m\n",
      "\u001b[34m[2020-09-10:07:32:12:INFO] Sniff delimiter as ','\u001b[0m\n",
      "\u001b[34m[2020-09-10:07:32:12:INFO] Determined delimiter of CSV input is ','\u001b[0m\n",
      "\u001b[34m[2020-09-10:07:32:12:INFO] Sniff delimiter as ','\u001b[0m\n",
      "\u001b[34m[2020-09-10:07:32:12:INFO] Determined delimiter of CSV input is ','\u001b[0m\n",
      "\u001b[34m[2020-09-10:07:32:12:INFO] Sniff delimiter as ','\u001b[0m\n",
      "\u001b[34m[2020-09-10:07:32:12:INFO] Determined delimiter of CSV input is ','\u001b[0m\n",
      "\u001b[35m[2020-09-10 07:32:12 +0000] [1] [INFO] Starting gunicorn 19.7.1\u001b[0m\n",
      "\u001b[35m[2020-09-10 07:32:12 +0000] [1] [INFO] Listening at: http://0.0.0.0:8080 (1)\u001b[0m\n",
      "\u001b[35m[2020-09-10 07:32:12 +0000] [1] [INFO] Using worker: gevent\u001b[0m\n",
      "\u001b[35m[2020-09-10 07:32:12 +0000] [37] [INFO] Booting worker with pid: 37\u001b[0m\n",
      "\u001b[35m[2020-09-10 07:32:12 +0000] [38] [INFO] Booting worker with pid: 38\u001b[0m\n",
      "\u001b[35m[2020-09-10:07:32:12:INFO] Model loaded successfully for worker : 37\u001b[0m\n",
      "\u001b[35m[2020-09-10 07:32:12 +0000] [39] [INFO] Booting worker with pid: 39\u001b[0m\n",
      "\u001b[35m[2020-09-10 07:32:12 +0000] [40] [INFO] Booting worker with pid: 40\u001b[0m\n",
      "\u001b[35m[2020-09-10:07:32:12:INFO] Model loaded successfully for worker : 38\u001b[0m\n",
      "\u001b[35m[2020-09-10:07:32:12:INFO] Model loaded successfully for worker : 39\u001b[0m\n",
      "\u001b[35m[2020-09-10:07:32:12:INFO] Model loaded successfully for worker : 40\u001b[0m\n",
      "\u001b[35m[2020-09-10:07:32:12:INFO] Sniff delimiter as ','\u001b[0m\n",
      "\u001b[35m[2020-09-10:07:32:12:INFO] Determined delimiter of CSV input is ','\u001b[0m\n",
      "\u001b[35m[2020-09-10:07:32:12:INFO] Sniff delimiter as ','\u001b[0m\n",
      "\u001b[35m[2020-09-10:07:32:12:INFO] Determined delimiter of CSV input is ','\u001b[0m\n",
      "\u001b[35m[2020-09-10:07:32:12:INFO] Sniff delimiter as ','\u001b[0m\n",
      "\u001b[35m[2020-09-10:07:32:12:INFO] Determined delimiter of CSV input is ','\u001b[0m\n",
      "\u001b[35m[2020-09-10:07:32:12:INFO] Sniff delimiter as ','\u001b[0m\n",
      "\u001b[35m[2020-09-10:07:32:12:INFO] Determined delimiter of CSV input is ','\u001b[0m\n",
      "\u001b[34m[2020-09-10:07:32:15:INFO] Sniff delimiter as ','\u001b[0m\n",
      "\u001b[34m[2020-09-10:07:32:15:INFO] Determined delimiter of CSV input is ','\u001b[0m\n",
      "\u001b[34m[2020-09-10:07:32:15:INFO] Sniff delimiter as ','\u001b[0m\n",
      "\u001b[34m[2020-09-10:07:32:15:INFO] Determined delimiter of CSV input is ','\u001b[0m\n",
      "\u001b[34m[2020-09-10:07:32:15:INFO] Sniff delimiter as ','\u001b[0m\n",
      "\u001b[34m[2020-09-10:07:32:15:INFO] Determined delimiter of CSV input is ','\u001b[0m\n",
      "\u001b[34m[2020-09-10:07:32:15:INFO] Sniff delimiter as ','\u001b[0m\n",
      "\u001b[34m[2020-09-10:07:32:15:INFO] Determined delimiter of CSV input is ','\u001b[0m\n",
      "\u001b[35m[2020-09-10:07:32:15:INFO] Sniff delimiter as ','\u001b[0m\n",
      "\u001b[35m[2020-09-10:07:32:15:INFO] Determined delimiter of CSV input is ','\u001b[0m\n",
      "\u001b[35m[2020-09-10:07:32:15:INFO] Sniff delimiter as ','\u001b[0m\n",
      "\u001b[35m[2020-09-10:07:32:15:INFO] Determined delimiter of CSV input is ','\u001b[0m\n",
      "\u001b[35m[2020-09-10:07:32:15:INFO] Sniff delimiter as ','\u001b[0m\n",
      "\u001b[35m[2020-09-10:07:32:15:INFO] Determined delimiter of CSV input is ','\u001b[0m\n",
      "\u001b[35m[2020-09-10:07:32:15:INFO] Sniff delimiter as ','\u001b[0m\n",
      "\u001b[35m[2020-09-10:07:32:15:INFO] Determined delimiter of CSV input is ','\u001b[0m\n",
      "\u001b[34m[2020-09-10:07:32:17:INFO] Sniff delimiter as ','\u001b[0m\n",
      "\u001b[34m[2020-09-10:07:32:17:INFO] Determined delimiter of CSV input is ','\u001b[0m\n",
      "\u001b[34m[2020-09-10:07:32:17:INFO] Sniff delimiter as ','\u001b[0m\n",
      "\u001b[34m[2020-09-10:07:32:17:INFO] Determined delimiter of CSV input is ','\u001b[0m\n",
      "\u001b[35m[2020-09-10:07:32:17:INFO] Sniff delimiter as ','\u001b[0m\n",
      "\u001b[35m[2020-09-10:07:32:17:INFO] Determined delimiter of CSV input is ','\u001b[0m\n",
      "\u001b[35m[2020-09-10:07:32:17:INFO] Sniff delimiter as ','\u001b[0m\n",
      "\u001b[35m[2020-09-10:07:32:17:INFO] Determined delimiter of CSV input is ','\u001b[0m\n",
      "\u001b[34m[2020-09-10:07:32:17:INFO] Sniff delimiter as ','\u001b[0m\n",
      "\u001b[35m[2020-09-10:07:32:17:INFO] Sniff delimiter as ','\u001b[0m\n",
      "\u001b[34m[2020-09-10:07:32:17:INFO] Determined delimiter of CSV input is ','\u001b[0m\n",
      "\u001b[34m[2020-09-10:07:32:18:INFO] Sniff delimiter as ','\u001b[0m\n",
      "\u001b[34m[2020-09-10:07:32:18:INFO] Determined delimiter of CSV input is ','\u001b[0m\n",
      "\u001b[35m[2020-09-10:07:32:17:INFO] Determined delimiter of CSV input is ','\u001b[0m\n",
      "\u001b[35m[2020-09-10:07:32:18:INFO] Sniff delimiter as ','\u001b[0m\n",
      "\u001b[35m[2020-09-10:07:32:18:INFO] Determined delimiter of CSV input is ','\u001b[0m\n",
      "\u001b[34m[2020-09-10:07:32:19:INFO] Sniff delimiter as ','\u001b[0m\n",
      "\u001b[35m[2020-09-10:07:32:19:INFO] Sniff delimiter as ','\u001b[0m\n",
      "\u001b[34m[2020-09-10:07:32:19:INFO] Determined delimiter of CSV input is ','\u001b[0m\n",
      "\u001b[34m[2020-09-10:07:32:20:INFO] Sniff delimiter as ','\u001b[0m\n",
      "\u001b[34m[2020-09-10:07:32:20:INFO] Determined delimiter of CSV input is ','\u001b[0m\n",
      "\u001b[34m[2020-09-10:07:32:20:INFO] Sniff delimiter as ','\u001b[0m\n",
      "\u001b[34m[2020-09-10:07:32:20:INFO] Determined delimiter of CSV input is ','\u001b[0m\n",
      "\u001b[34m[2020-09-10:07:32:20:INFO] Sniff delimiter as ','\u001b[0m\n",
      "\u001b[34m[2020-09-10:07:32:20:INFO] Determined delimiter of CSV input is ','\u001b[0m\n",
      "\u001b[35m[2020-09-10:07:32:19:INFO] Determined delimiter of CSV input is ','\u001b[0m\n",
      "\u001b[35m[2020-09-10:07:32:20:INFO] Sniff delimiter as ','\u001b[0m\n",
      "\u001b[35m[2020-09-10:07:32:20:INFO] Determined delimiter of CSV input is ','\u001b[0m\n",
      "\u001b[35m[2020-09-10:07:32:20:INFO] Sniff delimiter as ','\u001b[0m\n",
      "\u001b[35m[2020-09-10:07:32:20:INFO] Determined delimiter of CSV input is ','\u001b[0m\n",
      "\u001b[35m[2020-09-10:07:32:20:INFO] Sniff delimiter as ','\u001b[0m\n",
      "\u001b[35m[2020-09-10:07:32:20:INFO] Determined delimiter of CSV input is ','\u001b[0m\n",
      "\u001b[34m[2020-09-10:07:32:22:INFO] Sniff delimiter as ','\u001b[0m\n",
      "\u001b[34m[2020-09-10:07:32:22:INFO] Determined delimiter of CSV input is ','\u001b[0m\n",
      "\u001b[34m[2020-09-10:07:32:22:INFO] Sniff delimiter as ','\u001b[0m\n",
      "\u001b[34m[2020-09-10:07:32:22:INFO] Determined delimiter of CSV input is ','\u001b[0m\n",
      "\u001b[35m[2020-09-10:07:32:22:INFO] Sniff delimiter as ','\u001b[0m\n",
      "\u001b[35m[2020-09-10:07:32:22:INFO] Determined delimiter of CSV input is ','\u001b[0m\n",
      "\u001b[35m[2020-09-10:07:32:22:INFO] Sniff delimiter as ','\u001b[0m\n",
      "\u001b[35m[2020-09-10:07:32:22:INFO] Determined delimiter of CSV input is ','\u001b[0m\n",
      "\u001b[34m[2020-09-10:07:32:22:INFO] Sniff delimiter as ','\u001b[0m\n",
      "\u001b[34m[2020-09-10:07:32:22:INFO] Determined delimiter of CSV input is ','\u001b[0m\n",
      "\u001b[34m[2020-09-10:07:32:23:INFO] Sniff delimiter as ','\u001b[0m\n",
      "\u001b[34m[2020-09-10:07:32:23:INFO] Determined delimiter of CSV input is ','\u001b[0m\n",
      "\u001b[35m[2020-09-10:07:32:22:INFO] Sniff delimiter as ','\u001b[0m\n",
      "\u001b[35m[2020-09-10:07:32:22:INFO] Determined delimiter of CSV input is ','\u001b[0m\n",
      "\u001b[35m[2020-09-10:07:32:23:INFO] Sniff delimiter as ','\u001b[0m\n",
      "\u001b[35m[2020-09-10:07:32:23:INFO] Determined delimiter of CSV input is ','\u001b[0m\n",
      "\u001b[34m[2020-09-10:07:32:25:INFO] Sniff delimiter as ','\u001b[0m\n",
      "\u001b[34m[2020-09-10:07:32:25:INFO] Determined delimiter of CSV input is ','\u001b[0m\n",
      "\u001b[34m[2020-09-10:07:32:25:INFO] Sniff delimiter as ','\u001b[0m\n",
      "\u001b[35m[2020-09-10:07:32:25:INFO] Sniff delimiter as ','\u001b[0m\n",
      "\u001b[35m[2020-09-10:07:32:25:INFO] Determined delimiter of CSV input is ','\u001b[0m\n",
      "\u001b[35m[2020-09-10:07:32:25:INFO] Sniff delimiter as ','\u001b[0m\n",
      "\u001b[34m[2020-09-10:07:32:25:INFO] Determined delimiter of CSV input is ','\u001b[0m\n",
      "\u001b[35m[2020-09-10:07:32:25:INFO] Determined delimiter of CSV input is ','\u001b[0m\n",
      "\u001b[34m[2020-09-10:07:32:27:INFO] Sniff delimiter as ','\u001b[0m\n",
      "\u001b[34m[2020-09-10:07:32:27:INFO] Determined delimiter of CSV input is ','\u001b[0m\n",
      "\u001b[34m[2020-09-10:07:32:27:INFO] Sniff delimiter as ','\u001b[0m\n",
      "\u001b[34m[2020-09-10:07:32:27:INFO] Determined delimiter of CSV input is ','\u001b[0m\n",
      "\u001b[34m[2020-09-10:07:32:27:INFO] Sniff delimiter as ','\u001b[0m\n",
      "\u001b[34m[2020-09-10:07:32:27:INFO] Determined delimiter of CSV input is ','\u001b[0m\n",
      "\u001b[35m[2020-09-10:07:32:27:INFO] Sniff delimiter as ','\u001b[0m\n",
      "\u001b[35m[2020-09-10:07:32:27:INFO] Determined delimiter of CSV input is ','\u001b[0m\n",
      "\u001b[35m[2020-09-10:07:32:27:INFO] Sniff delimiter as ','\u001b[0m\n",
      "\u001b[35m[2020-09-10:07:32:27:INFO] Determined delimiter of CSV input is ','\u001b[0m\n",
      "\u001b[35m[2020-09-10:07:32:27:INFO] Sniff delimiter as ','\u001b[0m\n",
      "\u001b[35m[2020-09-10:07:32:27:INFO] Determined delimiter of CSV input is ','\u001b[0m\n",
      "\u001b[34m[2020-09-10:07:32:27:INFO] Sniff delimiter as ','\u001b[0m\n",
      "\u001b[34m[2020-09-10:07:32:27:INFO] Determined delimiter of CSV input is ','\u001b[0m\n",
      "\u001b[35m[2020-09-10:07:32:27:INFO] Sniff delimiter as ','\u001b[0m\n",
      "\u001b[35m[2020-09-10:07:32:27:INFO] Determined delimiter of CSV input is ','\u001b[0m\n",
      "\u001b[34m[2020-09-10:07:32:29:INFO] Sniff delimiter as ','\u001b[0m\n",
      "\u001b[34m[2020-09-10:07:32:29:INFO] Determined delimiter of CSV input is ','\u001b[0m\n",
      "\u001b[35m[2020-09-10:07:32:29:INFO] Sniff delimiter as ','\u001b[0m\n",
      "\u001b[35m[2020-09-10:07:32:29:INFO] Determined delimiter of CSV input is ','\u001b[0m\n",
      "\u001b[34m[2020-09-10:07:32:29:INFO] Sniff delimiter as ','\u001b[0m\n",
      "\u001b[34m[2020-09-10:07:32:29:INFO] Determined delimiter of CSV input is ','\u001b[0m\n",
      "\u001b[34m[2020-09-10:07:32:30:INFO] Sniff delimiter as ','\u001b[0m\n",
      "\u001b[34m[2020-09-10:07:32:30:INFO] Determined delimiter of CSV input is ','\u001b[0m\n",
      "\u001b[34m[2020-09-10:07:32:30:INFO] Sniff delimiter as ','\u001b[0m\n",
      "\u001b[34m[2020-09-10:07:32:30:INFO] Determined delimiter of CSV input is ','\u001b[0m\n",
      "\u001b[35m[2020-09-10:07:32:29:INFO] Sniff delimiter as ','\u001b[0m\n",
      "\u001b[35m[2020-09-10:07:32:29:INFO] Determined delimiter of CSV input is ','\u001b[0m\n",
      "\u001b[35m[2020-09-10:07:32:30:INFO] Sniff delimiter as ','\u001b[0m\n",
      "\u001b[35m[2020-09-10:07:32:30:INFO] Determined delimiter of CSV input is ','\u001b[0m\n",
      "\u001b[35m[2020-09-10:07:32:30:INFO] Sniff delimiter as ','\u001b[0m\n",
      "\u001b[35m[2020-09-10:07:32:30:INFO] Determined delimiter of CSV input is ','\u001b[0m\n",
      "\u001b[34m[2020-09-10:07:32:32:INFO] Sniff delimiter as ','\u001b[0m\n",
      "\u001b[34m[2020-09-10:07:32:32:INFO] Determined delimiter of CSV input is ','\u001b[0m\n",
      "\u001b[34m[2020-09-10:07:32:32:INFO] Sniff delimiter as ','\u001b[0m\n",
      "\u001b[34m[2020-09-10:07:32:32:INFO] Determined delimiter of CSV input is ','\u001b[0m\n",
      "\u001b[34m[2020-09-10:07:32:32:INFO] Sniff delimiter as ','\u001b[0m\n",
      "\u001b[34m[2020-09-10:07:32:32:INFO] Determined delimiter of CSV input is ','\u001b[0m\n",
      "\u001b[35m[2020-09-10:07:32:32:INFO] Sniff delimiter as ','\u001b[0m\n",
      "\u001b[35m[2020-09-10:07:32:32:INFO] Determined delimiter of CSV input is ','\u001b[0m\n",
      "\u001b[35m[2020-09-10:07:32:32:INFO] Sniff delimiter as ','\u001b[0m\n",
      "\u001b[35m[2020-09-10:07:32:32:INFO] Determined delimiter of CSV input is ','\u001b[0m\n",
      "\u001b[35m[2020-09-10:07:32:32:INFO] Sniff delimiter as ','\u001b[0m\n",
      "\u001b[35m[2020-09-10:07:32:32:INFO] Determined delimiter of CSV input is ','\u001b[0m\n",
      "\u001b[34m[2020-09-10:07:32:32:INFO] Sniff delimiter as ','\u001b[0m\n",
      "\u001b[34m[2020-09-10:07:32:32:INFO] Determined delimiter of CSV input is ','\u001b[0m\n",
      "\u001b[35m[2020-09-10:07:32:32:INFO] Sniff delimiter as ','\u001b[0m\n",
      "\u001b[35m[2020-09-10:07:32:32:INFO] Determined delimiter of CSV input is ','\u001b[0m\n",
      "\u001b[34m[2020-09-10:07:32:34:INFO] Sniff delimiter as ','\u001b[0m\n",
      "\u001b[34m[2020-09-10:07:32:34:INFO] Determined delimiter of CSV input is ','\u001b[0m\n",
      "\u001b[35m[2020-09-10:07:32:34:INFO] Sniff delimiter as ','\u001b[0m\n",
      "\u001b[35m[2020-09-10:07:32:34:INFO] Determined delimiter of CSV input is ','\u001b[0m\n",
      "\u001b[34m[2020-09-10:07:32:35:INFO] Sniff delimiter as ','\u001b[0m\n",
      "\u001b[34m[2020-09-10:07:32:35:INFO] Determined delimiter of CSV input is ','\u001b[0m\n",
      "\u001b[34m[2020-09-10:07:32:35:INFO] Sniff delimiter as ','\u001b[0m\n",
      "\u001b[34m[2020-09-10:07:32:35:INFO] Determined delimiter of CSV input is ','\u001b[0m\n",
      "\u001b[35m[2020-09-10:07:32:35:INFO] Sniff delimiter as ','\u001b[0m\n",
      "\u001b[35m[2020-09-10:07:32:35:INFO] Determined delimiter of CSV input is ','\u001b[0m\n",
      "\u001b[35m[2020-09-10:07:32:35:INFO] Sniff delimiter as ','\u001b[0m\n",
      "\u001b[35m[2020-09-10:07:32:35:INFO] Determined delimiter of CSV input is ','\u001b[0m\n",
      "\n"
     ]
    }
   ],
   "source": [
    "xgb_transformer.wait()"
   ]
  },
  {
   "cell_type": "markdown",
   "metadata": {},
   "source": [
    "Now the transform job has executed and the result, the estimated sentiment of each review, has been saved on S3. Since we would rather work on this file locally we can perform a bit of notebook magic to copy the file to the `data_dir`."
   ]
  },
  {
   "cell_type": "code",
   "execution_count": 27,
   "metadata": {},
   "outputs": [
    {
     "name": "stdout",
     "output_type": "stream",
     "text": [
      "download: s3://sagemaker-us-west-2-591996353908/xgboost-2020-09-10-07-27-31-661/test.csv.out to ../data/sentiment_web_app/test.csv.out\r\n"
     ]
    }
   ],
   "source": [
    "!aws s3 cp --recursive $xgb_transformer.output_path $data_dir"
   ]
  },
  {
   "cell_type": "markdown",
   "metadata": {},
   "source": [
    "The last step is now to read in the output from our model, convert the output to something a little more usable, in this case we want the sentiment to be either `1` (positive) or `0` (negative), and then compare to the ground truth labels."
   ]
  },
  {
   "cell_type": "code",
   "execution_count": 28,
   "metadata": {},
   "outputs": [],
   "source": [
    "predictions = pd.read_csv(os.path.join(data_dir, 'test.csv.out'), header=None)\n",
    "predictions = [round(num) for num in predictions.squeeze().values]"
   ]
  },
  {
   "cell_type": "code",
   "execution_count": 29,
   "metadata": {},
   "outputs": [
    {
     "data": {
      "text/plain": [
       "0.84944"
      ]
     },
     "execution_count": 29,
     "metadata": {},
     "output_type": "execute_result"
    }
   ],
   "source": [
    "from sklearn.metrics import accuracy_score\n",
    "accuracy_score(test_y, predictions)"
   ]
  },
  {
   "cell_type": "markdown",
   "metadata": {},
   "source": [
    "## Step 6: Deploying the model\n",
    "\n",
    "Once we construct and fit our model, SageMaker stores the resulting model artifacts and we can use those to deploy an endpoint (inference code). To see this, look in the SageMaker console and you should see that a model has been created along with a link to the S3 location where the model artifacts have been stored.\n",
    "\n",
    "Deploying an endpoint is a lot like training the model with a few important differences. The first is that a deployed model doesn't change the model artifacts, so as you send it various testing instances the model won't change. Another difference is that since we aren't performing a fixed computation, as we were in the training step or while performing a batch transform, the compute instance that gets started stays running until we tell it to stop. This is important to note as if we forget and leave it running we will be charged the entire time.\n",
    "\n",
    "In other words **If you are no longer using a deployed endpoint, shut it down!**"
   ]
  },
  {
   "cell_type": "code",
   "execution_count": 30,
   "metadata": {},
   "outputs": [
    {
     "name": "stderr",
     "output_type": "stream",
     "text": [
      "Parameter image will be renamed to image_uri in SageMaker Python SDK v2.\n",
      "Using already existing model: xgboost-2020-09-10-07-21-06-119\n"
     ]
    },
    {
     "name": "stdout",
     "output_type": "stream",
     "text": [
      "-------------!"
     ]
    }
   ],
   "source": [
    "xgb_predictor = xgb.deploy(initial_instance_count = 1, instance_type = 'ml.m4.xlarge')"
   ]
  },
  {
   "cell_type": "markdown",
   "metadata": {},
   "source": [
    "### Testing the model (again)\n",
    "\n",
    "Now that we have deployed our endpoint, we can send the testing data to it and get back the inference results. We already did this earlier using the batch transform functionality of SageMaker, however, we will test our model again using the newly deployed endpoint so that we can make sure that it works properly and to get a bit of a feel for how the endpoint works.\n",
    "\n",
    "When using the created endpoint it is important to know that we are limited in the amount of information we can send in each call so we need to break the testing data up into chunks and then send each chunk. Also, we need to serialize our data before we send it to the endpoint to ensure that our data is transmitted properly. Fortunately, SageMaker can do the serialization part for us provided we tell it the format of our data."
   ]
  },
  {
   "cell_type": "code",
   "execution_count": 31,
   "metadata": {},
   "outputs": [],
   "source": [
    "from sagemaker.predictor import csv_serializer\n",
    "\n",
    "# We need to tell the endpoint what format the data we are sending is in so that SageMaker can perform the serialization.\n",
    "xgb_predictor.content_type = 'text/csv'\n",
    "xgb_predictor.serializer = csv_serializer"
   ]
  },
  {
   "cell_type": "code",
   "execution_count": 32,
   "metadata": {},
   "outputs": [],
   "source": [
    "# We split the data into chunks and send each chunk seperately, accumulating the results.\n",
    "\n",
    "def predict(data, rows=512):\n",
    "    split_array = np.array_split(data, int(data.shape[0] / float(rows) + 1))\n",
    "    predictions = ''\n",
    "    for array in split_array:\n",
    "        predictions = ','.join([predictions, xgb_predictor.predict(array).decode('utf-8')])\n",
    "    \n",
    "    return np.fromstring(predictions[1:], sep=',')"
   ]
  },
  {
   "cell_type": "code",
   "execution_count": 33,
   "metadata": {},
   "outputs": [],
   "source": [
    "test_X = pd.read_csv(os.path.join(data_dir, 'test.csv'), header=None).values\n",
    "\n",
    "predictions = predict(test_X)\n",
    "predictions = [round(num) for num in predictions]"
   ]
  },
  {
   "cell_type": "markdown",
   "metadata": {},
   "source": [
    "Lastly, we check to see what the accuracy of our model is."
   ]
  },
  {
   "cell_type": "code",
   "execution_count": 34,
   "metadata": {},
   "outputs": [
    {
     "data": {
      "text/plain": [
       "0.84944"
      ]
     },
     "execution_count": 34,
     "metadata": {},
     "output_type": "execute_result"
    }
   ],
   "source": [
    "from sklearn.metrics import accuracy_score\n",
    "accuracy_score(test_y, predictions)"
   ]
  },
  {
   "cell_type": "markdown",
   "metadata": {},
   "source": [
    "And the results here should agree with the model testing that we did earlier using the batch transform job.\n",
    "\n",
    "### Cleaning up\n",
    "\n",
    "Now that we've determined that deploying our model works as expected, we are going to shut it down. Remember that the longer the endpoint is left running, the greater the cost and since we have a bit more work to do before we are able to use our endpoint with our simple web app, we should shut everything down."
   ]
  },
  {
   "cell_type": "code",
   "execution_count": 35,
   "metadata": {},
   "outputs": [],
   "source": [
    "xgb_predictor.delete_endpoint()"
   ]
  },
  {
   "cell_type": "markdown",
   "metadata": {},
   "source": [
    "## Step 7: Putting our model to work\n",
    "\n",
    "As we've mentioned a few times now, our goal is to have our model deployed and then access it using a very simple web app. The intent is for this web app to take some user submitted data (a review), send it off to our endpoint (the model) and then display the result.\n",
    "\n",
    "However, there is a small catch. Currently the only way we can access the endpoint to send it data is using the SageMaker API. We can, if we wish, expose the actual URL that our model's endpoint is receiving data from, however, if we just send it data ourselves we will not get anything in return. This is because the endpoint created by SageMaker requires the entity accessing it have the correct permissions. So, we would need to somehow authenticate our web app with AWS.\n",
    "\n",
    "Having a website that authenticates to AWS seems a bit beyond the scope of this lesson so we will opt for an alternative approach. Namely, we will create a new endpoint which does not require authentication and which acts as a proxy for the SageMaker endpoint.\n",
    "\n",
    "As an additional constraint, we will try to avoid doing any data processing in the web app itself. Remember that when we constructed and tested our model we started with a movie review, then we simplified it by removing any html formatting and punctuation, then we constructed a bag of words embedding and the resulting vector is what we sent to our model. All of this needs to be done to our user input as well.\n",
    "\n",
    "Fortunately we can do all of this data processing in the backend, using Amazon's Lambda service.\n",
    "\n",
    "<img src=\"Web App Diagram.svg\">\n",
    "\n",
    "The diagram above gives an overview of how the various services will work together. On the far right is the model which we trained above and which will be deployed using SageMaker. On the far left is our web app that collects a user's movie review, sends it off and expects a positive or negative sentiment in return.\n",
    "\n",
    "In the middle is where some of the magic happens. We will construct a Lambda function, which you can think of as a straightforward Python function that can be executed whenever a specified event occurs. This Python function will do the data processing we need to perform on a user submitted review. In addition, we will give this function permission to send and recieve data from a SageMaker endpoint.\n",
    "\n",
    "Lastly, the method we will use to execute the Lambda function is a new endpoint that we will create using API Gateway. This endpoint will be a url that listens for data to be sent to it. Once it gets some data it will pass that data on to the Lambda function and then return whatever the Lambda function returns. Essentially it will act as an interface that lets our web app communicate with the Lambda function.\n",
    "\n",
    "### Processing a single review\n",
    "\n",
    "For now, suppose we are given a movie review by our user in the form of a string, like so:"
   ]
  },
  {
   "cell_type": "code",
   "execution_count": 36,
   "metadata": {},
   "outputs": [],
   "source": [
    "test_review = \"Nothing but a disgusting materialistic pageant of glistening abed remote control greed zombies, totally devoid of any heart or heat. A romantic comedy that has zero romantic chemestry and zero laughs!\""
   ]
  },
  {
   "cell_type": "markdown",
   "metadata": {},
   "source": [
    "How do we go from this string to the bag of words feature vector that is expected by our model?\n",
    "\n",
    "If we recall at the beginning of this notebook, the first step is to remove any unnecessary characters using the `review_to_words` method. Remember that we intentionally did this in a very simplistic way. This is because we are going to have to copy this method to our (eventual) Lambda function (we will go into more detail later) and this means it needs to be rather simplistic."
   ]
  },
  {
   "cell_type": "code",
   "execution_count": 37,
   "metadata": {},
   "outputs": [
    {
     "name": "stdout",
     "output_type": "stream",
     "text": [
      "nothing but a disgusting materialistic pageant of glistening abed remote control greed zombies totally devoid of any heart or heat a romantic comedy that has zero romantic chemestry and zero laughs\n"
     ]
    }
   ],
   "source": [
    "test_words = review_to_words(test_review)\n",
    "print(test_words)"
   ]
  },
  {
   "cell_type": "markdown",
   "metadata": {},
   "source": [
    "Next, we need to construct a bag of words embedding of the `test_words` string. To do this, remember that a bag of words embedding uses a `vocabulary` consisting of the most frequently appearing words in a set of documents. Then, for each word in the vocabulary we record the number of times that word appears in `test_words`. We constructed the `vocabulary` earlier using the training set for our problem so encoding `test_words` is relatively straightforward."
   ]
  },
  {
   "cell_type": "code",
   "execution_count": 38,
   "metadata": {},
   "outputs": [],
   "source": [
    "def bow_encoding(words, vocabulary):\n",
    "    bow = [0] * len(vocabulary) # Start by setting the count for each word in the vocabulary to zero.\n",
    "    for word in words.split():  # For each word in the string\n",
    "        if word in vocabulary:  # If the word is one that occurs in the vocabulary, increase its count.\n",
    "            bow[vocabulary[word]] += 1\n",
    "    return bow"
   ]
  },
  {
   "cell_type": "code",
   "execution_count": 39,
   "metadata": {},
   "outputs": [
    {
     "name": "stdout",
     "output_type": "stream",
     "text": [
      "[0, 0, 0, 0, 0, 0, 0, 0, 0, 0, 0, 0, 0, 0, 0, 0, 0, 0, 0, 0, 0, 0, 0, 0, 0, 0, 0, 0, 0, 0, 0, 0, 0, 0, 0, 0, 0, 0, 0, 0, 0, 0, 0, 0, 0, 0, 0, 0, 0, 0, 0, 0, 0, 0, 0, 0, 0, 0, 0, 0, 0, 0, 0, 0, 0, 0, 0, 0, 0, 0, 0, 0, 0, 0, 0, 0, 0, 0, 0, 0, 0, 0, 0, 0, 0, 0, 0, 0, 0, 0, 0, 0, 0, 0, 0, 0, 0, 0, 0, 0, 0, 0, 0, 0, 0, 0, 0, 0, 0, 0, 0, 0, 0, 0, 0, 0, 0, 0, 0, 0, 0, 0, 0, 0, 0, 0, 0, 0, 0, 0, 0, 0, 0, 0, 0, 0, 0, 0, 0, 0, 0, 0, 0, 0, 0, 0, 0, 0, 0, 0, 0, 0, 0, 0, 0, 0, 0, 0, 0, 0, 0, 0, 0, 0, 0, 0, 0, 0, 0, 0, 0, 0, 0, 0, 0, 0, 0, 0, 0, 0, 0, 0, 0, 0, 0, 0, 0, 0, 0, 0, 0, 0, 0, 0, 0, 0, 0, 0, 0, 0, 0, 0, 0, 0, 0, 0, 0, 0, 0, 0, 0, 0, 0, 0, 0, 0, 0, 0, 0, 0, 0, 0, 0, 0, 0, 0, 0, 1, 0, 0, 0, 0, 0, 0, 0, 0, 0, 0, 0, 0, 0, 0, 0, 0, 0, 0, 0, 0, 0, 0, 0, 0, 0, 0, 0, 0, 1, 0, 0, 0, 0, 0, 0, 0, 0, 0, 0, 0, 0, 0, 0, 0, 0, 0, 0, 0, 0, 0, 0, 0, 0, 0, 0, 0, 0, 0, 0, 0, 0, 0, 0, 0, 0, 0, 0, 0, 0, 0, 0, 0, 0, 0, 0, 0, 0, 0, 0, 0, 0, 0, 0, 0, 0, 0, 0, 0, 0, 0, 0, 0, 0, 0, 0, 0, 0, 0, 0, 0, 0, 0, 0, 0, 0, 0, 0, 0, 0, 0, 0, 0, 0, 0, 0, 0, 0, 0, 0, 0, 0, 0, 0, 0, 0, 0, 0, 0, 0, 0, 0, 0, 0, 0, 0, 0, 0, 0, 0, 0, 0, 0, 0, 0, 0, 0, 0, 0, 0, 0, 0, 0, 0, 0, 0, 0, 0, 0, 0, 0, 0, 0, 0, 0, 0, 0, 0, 0, 0, 0, 0, 0, 0, 0, 0, 0, 0, 0, 0, 0, 0, 0, 0, 0, 0, 0, 0, 0, 0, 0, 0, 0, 0, 0, 0, 0, 0, 0, 0, 0, 0, 0, 0, 0, 0, 0, 0, 0, 0, 0, 0, 0, 0, 0, 0, 0, 0, 0, 0, 0, 0, 0, 0, 0, 0, 0, 0, 0, 0, 0, 0, 0, 0, 0, 0, 0, 0, 0, 0, 0, 0, 0, 0, 0, 0, 0, 0, 0, 0, 0, 0, 0, 0, 0, 0, 0, 0, 0, 0, 0, 0, 0, 0, 0, 0, 0, 0, 0, 0, 0, 0, 0, 0, 0, 0, 0, 0, 0, 0, 0, 0, 0, 0, 0, 0, 0, 0, 0, 0, 0, 0, 0, 0, 0, 0, 0, 0, 0, 0, 0, 0, 0, 0, 0, 0, 0, 0, 0, 0, 0, 0, 0, 0, 0, 0, 0, 0, 0, 0, 0, 0, 0, 0, 0, 0, 0, 0, 0, 0, 0, 0, 0, 0, 0, 0, 0, 0, 0, 0, 0, 0, 0, 0, 0, 0, 0, 0, 0, 0, 0, 0, 0, 0, 0, 0, 0, 0, 0, 0, 0, 0, 0, 0, 0, 0, 0, 0, 0, 0, 0, 0, 0, 0, 0, 0, 0, 0, 0, 0, 0, 0, 0, 0, 0, 0, 0, 0, 0, 0, 0, 0, 0, 0, 0, 0, 0, 0, 0, 0, 0, 0, 0, 0, 0, 0, 0, 0, 0, 1, 0, 0, 0, 0, 0, 0, 0, 0, 0, 0, 0, 0, 0, 0, 0, 0, 0, 0, 0, 0, 0, 0, 0, 0, 0, 0, 0, 0, 0, 0, 0, 0, 0, 0, 0, 0, 0, 0, 0, 0, 0, 0, 0, 0, 0, 0, 0, 0, 0, 0, 0, 0, 0, 0, 0, 0, 0, 0, 0, 0, 0, 0, 0, 0, 0, 0, 0, 0, 0, 0, 0, 0, 0, 0, 0, 0, 0, 0, 0, 0, 0, 0, 0, 0, 0, 0, 0, 0, 0, 0, 0, 0, 0, 0, 0, 0, 0, 0, 0, 0, 0, 0, 0, 0, 0, 0, 0, 0, 0, 0, 0, 0, 0, 0, 0, 0, 0, 0, 0, 0, 0, 0, 0, 0, 0, 0, 0, 0, 0, 0, 0, 0, 0, 0, 0, 0, 0, 0, 0, 0, 0, 0, 0, 0, 0, 0, 0, 0, 0, 0, 0, 0, 0, 0, 0, 0, 0, 0, 0, 0, 0, 0, 0, 0, 0, 0, 0, 0, 0, 0, 0, 0, 0, 0, 0, 0, 0, 0, 0, 0, 0, 0, 0, 0, 0, 0, 0, 0, 0, 0, 0, 0, 0, 0, 0, 0, 0, 0, 0, 0, 0, 0, 0, 0, 0, 0, 0, 0, 0, 0, 0, 0, 0, 0, 0, 0, 0, 0, 0, 0, 0, 0, 0, 0, 0, 0, 0, 0, 0, 0, 0, 0, 0, 0, 0, 0, 0, 0, 0, 0, 0, 0, 0, 0, 0, 0, 0, 0, 0, 0, 0, 0, 0, 1, 0, 0, 0, 0, 0, 0, 0, 0, 0, 0, 0, 0, 0, 0, 0, 0, 0, 0, 0, 0, 0, 0, 0, 0, 0, 0, 0, 0, 0, 0, 0, 0, 0, 0, 0, 0, 0, 0, 0, 0, 0, 0, 0, 0, 0, 0, 0, 0, 0, 0, 0, 0, 0, 0, 0, 0, 0, 0, 0, 0, 0, 0, 0, 0, 0, 0, 0, 0, 0, 0, 0, 0, 0, 0, 0, 0, 0, 0, 0, 0, 0, 0, 0, 0, 0, 0, 0, 1, 0, 0, 0, 0, 0, 0, 0, 0, 0, 0, 0, 0, 0, 0, 0, 0, 0, 0, 0, 0, 0, 0, 0, 0, 0, 0, 0, 0, 0, 0, 0, 0, 0, 0, 0, 0, 0, 0, 0, 0, 0, 0, 0, 0, 0, 0, 0, 0, 0, 0, 0, 0, 0, 0, 0, 0, 0, 0, 0, 0, 0, 0, 0, 0, 0, 0, 0, 0, 0, 0, 0, 0, 0, 0, 0, 0, 0, 0, 0, 0, 0, 0, 0, 0, 0, 0, 0, 0, 0, 0, 0, 0, 0, 0, 0, 0, 0, 0, 0, 0, 0, 0, 0, 0, 0, 0, 0, 0, 0, 0, 0, 0, 0, 0, 0, 0, 0, 0, 0, 0, 0, 0, 0, 0, 0, 0, 0, 0, 0, 0, 0, 0, 0, 0, 0, 0, 0, 0, 0, 0, 0, 0, 0, 0, 0, 0, 0, 0, 0, 0, 0, 0, 0, 0, 0, 0, 0, 0, 0, 0, 0, 0, 0, 0, 0, 0, 0, 0, 0, 0, 0, 0, 0, 0, 0, 0, 0, 0, 0, 0, 0, 0, 0, 0, 0, 0, 0, 0, 0, 0, 0, 0, 0, 0, 0, 0, 0, 0, 0, 0, 0, 0, 0, 0, 0, 0, 0, 0, 0, 0, 0, 0, 0, 0, 0, 0, 0, 0, 0, 0, 0, 0, 0, 0, 0, 0, 0, 0, 0, 0, 0, 0, 0, 0, 0, 0, 0, 0, 0, 0, 0, 0, 0, 0, 0, 0, 0, 0, 0, 0, 0, 0, 1, 0, 0, 0, 0, 0, 0, 0, 0, 0, 0, 0, 0, 0, 0, 0, 0, 0, 0, 0, 0, 0, 0, 0, 0, 0, 0, 0, 0, 0, 0, 0, 0, 0, 0, 0, 0, 0, 0, 0, 0, 0, 0, 0, 0, 0, 0, 0, 0, 0, 0, 0, 0, 0, 0, 0, 1, 0, 0, 0, 0, 0, 0, 0, 0, 0, 0, 0, 0, 0, 0, 0, 0, 0, 0, 0, 0, 0, 0, 0, 0, 0, 0, 0, 0, 0, 0, 0, 0, 0, 0, 0, 0, 0, 0, 0, 0, 0, 0, 0, 0, 0, 0, 0, 0, 0, 0, 0, 0, 0, 0, 0, 0, 0, 0, 0, 0, 0, 0, 0, 0, 0, 0, 0, 0, 0, 0, 0, 0, 0, 0, 0, 0, 0, 0, 0, 0, 0, 0, 0, 0, 0, 0, 0, 0, 0, 0, 0, 0, 0, 0, 0, 0, 0, 0, 0, 0, 0, 0, 0, 0, 0, 0, 0, 0, 0, 0, 0, 0, 0, 0, 0, 0, 0, 0, 0, 0, 0, 0, 0, 0, 0, 0, 0, 0, 0, 0, 0, 0, 0, 0, 0, 0, 0, 0, 0, 0, 0, 0, 0, 0, 0, 0, 0, 0, 0, 0, 0, 0, 0, 0, 0, 0, 0, 0, 0, 0, 0, 0, 0, 0, 0, 0, 0, 0, 0, 0, 0, 0, 0, 0, 0, 0, 0, 0, 0, 0, 0, 0, 0, 0, 0, 0, 0, 0, 0, 0, 0, 0, 0, 0, 0, 0, 0, 0, 0, 0, 0, 0, 0, 0, 0, 0, 0, 0, 0, 0, 0, 0, 0, 0, 0, 0, 0, 0, 0, 0, 0, 0, 0, 0, 0, 0, 0, 0, 0, 0, 0, 0, 0, 0, 0, 0, 0, 0, 0, 0, 0, 0, 0, 0, 0, 0, 0, 0, 0, 0, 0, 0, 0, 0, 0, 0, 0, 0, 0, 0, 0, 0, 0, 0, 0, 0, 0, 0, 0, 0, 0, 0, 0, 0, 0, 0, 0, 0, 0, 0, 0, 0, 0, 0, 0, 0, 0, 0, 0, 0, 0, 0, 0, 0, 0, 0, 0, 0, 0, 0, 0, 0, 0, 0, 0, 0, 0, 0, 0, 0, 0, 0, 0, 0, 0, 0, 0, 0, 0, 0, 0, 0, 0, 0, 0, 0, 0, 0, 0, 0, 0, 0, 0, 0, 0, 0, 0, 0, 0, 0, 0, 0, 0, 0, 0, 0, 0, 0, 0, 0, 0, 0, 0, 0, 0, 0, 0, 0, 0, 0, 0, 0, 0, 0, 0, 0, 0, 0, 0, 0, 0, 0, 0, 0, 0, 0, 0, 0, 0, 0, 0, 0, 0, 0, 0, 0, 0, 0, 0, 0, 0, 0, 0, 0, 0, 0, 0, 0, 0, 0, 0, 0, 0, 0, 0, 0, 0, 0, 0, 0, 0, 0, 0, 0, 0, 0, 0, 0, 0, 0, 0, 0, 0, 0, 0, 0, 0, 0, 0, 0, 0, 0, 0, 0, 0, 0, 0, 0, 0, 0, 0, 0, 0, 0, 0, 0, 0, 0, 0, 0, 0, 0, 0, 0, 0, 0, 0, 0, 0, 0, 0, 0, 0, 0, 0, 0, 0, 0, 0, 0, 0, 0, 0, 0, 0, 0, 0, 0, 0, 0, 0, 0, 0, 0, 0, 0, 0, 0, 0, 0, 0, 0, 0, 0, 0, 0, 0, 0, 0, 0, 0, 0, 0, 0, 0, 0, 0, 0, 0, 0, 0, 0, 0, 0, 0, 0, 0, 0, 0, 0, 0, 0, 0, 0, 0, 0, 0, 0, 0, 0, 0, 0, 0, 0, 0, 0, 0, 0, 0, 0, 0, 0, 0, 0, 0, 0, 0, 0, 0, 0, 0, 0, 0, 0, 0, 0, 0, 0, 0, 0, 0, 0, 0, 0, 0, 0, 0, 0, 0, 0, 0, 0, 0, 0, 0, 0, 0, 0, 0, 0, 0, 0, 0, 0, 0, 0, 0, 0, 0, 0, 0, 0, 0, 0, 0, 0, 0, 0, 0, 0, 0, 0, 0, 0, 0, 0, 0, 0, 0, 0, 0, 0, 0, 0, 0, 0, 0, 0, 0, 0, 0, 0, 0, 0, 0, 0, 0, 0, 0, 0, 0, 0, 0, 0, 0, 0, 0, 0, 0, 0, 0, 0, 0, 0, 0, 0, 0, 0, 0, 0, 0, 0, 0, 0, 0, 0, 0, 0, 0, 0, 0, 0, 0, 0, 0, 0, 0, 0, 0, 0, 0, 0, 0, 0, 0, 0, 0, 0, 0, 0, 0, 1, 0, 0, 0, 0, 0, 0, 0, 0, 0, 0, 0, 0, 0, 0, 0, 0, 0, 0, 0, 0, 0, 0, 0, 0, 0, 0, 0, 0, 0, 0, 0, 0, 0, 0, 0, 0, 0, 0, 0, 0, 0, 0, 0, 0, 0, 0, 0, 0, 0, 0, 0, 0, 0, 0, 0, 0, 0, 0, 0, 0, 0, 0, 0, 0, 0, 0, 0, 0, 0, 0, 0, 0, 0, 0, 1, 0, 0, 0, 0, 0, 0, 0, 0, 0, 0, 0, 0, 0, 0, 0, 0, 0, 0, 0, 0, 1, 0, 0, 1, 0, 0, 0, 0, 0, 0, 0, 0, 0, 0, 0, 0, 0, 0, 0, 0, 0, 0, 0, 0, 0, 0, 0, 0, 0, 0, 0, 0, 0, 0, 0, 0, 0, 0, 0, 0, 0, 0, 0, 0, 0, 0, 0, 0, 0, 0, 0, 0, 0, 0, 0, 0, 0, 0, 0, 0, 0, 0, 0, 0, 0, 0, 0, 0, 0, 0, 0, 0, 0, 0, 0, 0, 0, 0, 0, 0, 0, 0, 0, 0, 0, 0, 0, 0, 0, 0, 0, 0, 0, 0, 0, 0, 0, 0, 0, 0, 0, 0, 0, 0, 0, 0, 0, 0, 0, 0, 0, 0, 0, 0, 0, 0, 0, 0, 0, 0, 0, 0, 0, 0, 0, 0, 0, 0, 0, 0, 0, 0, 0, 0, 0, 0, 0, 0, 0, 0, 0, 0, 0, 0, 0, 0, 0, 0, 0, 0, 0, 0, 0, 0, 0, 0, 0, 0, 0, 0, 0, 0, 0, 0, 0, 0, 0, 0, 0, 0, 0, 0, 0, 0, 0, 0, 0, 0, 0, 0, 0, 0, 0, 0, 0, 0, 0, 0, 0, 0, 0, 0, 0, 0, 0, 0, 0, 0, 0, 0, 0, 0, 0, 0, 0, 0, 0, 0, 0, 0, 0, 0, 0, 0, 0, 0, 0, 0, 0, 0, 0, 0, 0, 0, 0, 0, 0, 0, 0, 0, 0, 0, 0, 0, 0, 0, 0, 0, 0, 0, 0, 0, 0, 0, 0, 0, 0, 0, 0, 0, 0, 0, 0, 0, 0, 0, 0, 0, 0, 0, 0, 0, 0, 0, 0, 0, 0, 0, 0, 0, 0, 0, 0, 0, 0, 0, 0, 0, 0, 0, 0, 0, 0, 0, 0, 0, 0, 0, 0, 0, 0, 0, 0, 0, 0, 0, 0, 0, 0, 0, 0, 0, 0, 0, 0, 0, 0, 0, 0, 0, 0, 0, 0, 0, 0, 0, 0, 0, 0, 0, 0, 0, 0, 0, 0, 0, 0, 0, 0, 0, 0, 0, 0, 0, 0, 0, 0, 0, 0, 0, 0, 0, 0, 0, 0, 0, 0, 0, 0, 0, 0, 0, 0, 0, 0, 0, 0, 0, 0, 0, 0, 0, 0, 0, 0, 0, 0, 0, 0, 0, 0, 0, 0, 0, 0, 0, 0, 0, 0, 0, 0, 0, 0, 0, 0, 0, 0, 0, 0, 0, 0, 0, 0, 0, 0, 0, 0, 0, 0, 0, 0, 0, 0, 0, 0, 0, 0, 0, 0, 0, 0, 0, 0, 0, 0, 0, 0, 0, 0, 0, 0, 0, 0, 0, 0, 0, 0, 0, 0, 0, 0, 0, 0, 0, 0, 0, 0, 0, 0, 0, 0, 0, 0, 0, 0, 0, 0, 0, 0, 0, 0, 0, 0, 0, 0, 0, 0, 0, 0, 0, 0, 0, 0, 0, 0, 0, 0, 0, 0, 1, 0, 0, 0, 0, 0, 0, 0, 0, 0, 0, 0, 0, 0, 0, 0, 0, 0, 0, 0, 0, 0, 0, 0, 0, 0, 0, 0, 0, 0, 0, 0, 0, 0, 0, 0, 0, 0, 0, 0, 0, 0, 0, 0, 0, 0, 0, 0, 0, 0, 0, 0, 0, 0, 0, 0, 0, 0, 0, 0, 0, 0, 0, 0, 0, 0, 0, 0, 0, 0, 0, 0, 0, 0, 0, 0, 0, 0, 0, 0, 0, 0, 0, 0, 0, 0, 0, 0, 0, 0, 0, 0, 0, 0, 0, 0, 0, 0, 0, 0, 0, 0, 0, 0, 0, 0, 0, 0, 0, 0, 0, 0, 0, 0, 0, 0, 0, 0, 0, 0, 0, 0, 0, 0, 0, 0, 0, 0, 0, 0, 0, 0, 0, 0, 0, 0, 0, 0, 0, 0, 0, 0, 0, 0, 0, 0, 0, 0, 0, 0, 0, 0, 0, 0, 0, 0, 0, 0, 0, 0, 0, 0, 0, 0, 0, 0, 0, 0, 0, 0, 0, 0, 0, 0, 0, 0, 0, 0, 0, 0, 0, 0, 0, 0, 0, 0, 0, 0, 0, 0, 0, 0, 0, 0, 0, 0, 0, 0, 0, 0, 0, 0, 0, 0, 0, 0, 0, 0, 0, 0, 0, 0, 0, 0, 0, 0, 0, 0, 0, 0, 0, 0, 0, 0, 0, 0, 0, 0, 0, 0, 0, 0, 0, 0, 0, 0, 0, 0, 0, 0, 0, 0, 0, 0, 0, 0, 0, 0, 0, 0, 0, 0, 0, 0, 0, 0, 0, 0, 0, 0, 0, 0, 0, 0, 0, 0, 0, 0, 0, 0, 0, 0, 0, 0, 0, 0, 0, 0, 0, 0, 0, 0, 0, 0, 0, 0, 0, 0, 0, 0, 0, 0, 0, 0, 0, 0, 0, 0, 0, 0, 0, 0, 0, 0, 0, 0, 0, 0, 0, 0, 0, 0, 0, 0, 0, 0, 0, 0, 0, 0, 0, 0, 0, 0, 0, 0, 0, 0, 0, 0, 0, 0, 0, 0, 0, 0, 0, 0, 0, 0, 0, 0, 0, 0, 0, 0, 0, 0, 0, 0, 0, 0, 0, 0, 0, 0, 0, 0, 0, 0, 0, 0, 0, 0, 0, 0, 0, 0, 0, 0, 0, 0, 0, 0, 0, 0, 0, 0, 0, 0, 0, 0, 0, 0, 0, 0, 0, 0, 0, 0, 0, 0, 0, 0, 0, 0, 0, 0, 0, 0, 0, 0, 0, 0, 0, 0, 0, 0, 0, 0, 0, 0, 0, 0, 0, 0, 0, 0, 0, 0, 0, 0, 0, 0, 0, 0, 0, 0, 0, 0, 0, 0, 0, 0, 0, 0, 0, 0, 0, 0, 0, 0, 0, 0, 0, 0, 0, 0, 0, 0, 0, 0, 0, 0, 0, 0, 0, 0, 0, 0, 0, 0, 0, 0, 0, 0, 0, 0, 0, 0, 0, 0, 0, 0, 0, 0, 0, 0, 0, 0, 0, 0, 0, 0, 0, 0, 0, 0, 0, 0, 0, 0, 0, 0, 0, 0, 0, 0, 0, 0, 0, 0, 0, 0, 0, 0, 0, 0, 0, 0, 0, 0, 1, 0, 0, 0, 0, 0, 0, 0, 0, 0, 0, 0, 0, 0, 0, 0, 0, 0, 0, 0, 0, 0, 0, 0, 0, 0, 0, 0, 0, 0, 0, 0, 0, 0, 0, 0, 2, 0, 0, 0, 0, 0, 0, 0, 0, 0, 0, 0, 0, 0, 0, 0, 0, 0, 0, 0, 0, 0, 0, 0, 0, 0, 0, 0, 0, 0, 0, 0, 0, 0, 0, 0, 0, 0, 0, 0, 0, 1, 0, 0, 0, 0, 0, 0, 0, 0, 0, 0, 0, 0, 0, 0, 0, 0, 0, 0, 0, 0, 0, 0, 0, 0, 0, 0, 0, 0, 0, 0, 0, 0, 0, 0, 0, 0, 0, 0, 0, 0, 0, 0, 0, 0, 0, 0, 0, 0, 0, 0, 0, 0, 0, 0, 0, 0, 0, 0, 0, 0, 0, 0, 0, 0, 0, 0, 0, 0, 0, 0, 0, 0, 0, 0, 0, 0, 0, 0, 0, 0, 0, 0, 0, 0, 0, 0, 0, 0, 0, 0, 0, 0, 0, 0, 0, 0, 0, 0, 0, 0, 0, 0, 0, 0, 0, 0, 0, 0, 0, 0, 0, 0, 0, 0, 0, 0, 0, 0, 0, 0, 0, 0, 0, 0, 0, 0, 0, 0, 0, 0, 0, 0, 0, 0, 0, 0, 0, 0, 0, 0, 0, 0, 0, 0, 0, 0, 0, 0, 0, 0, 0, 0, 0, 0, 0, 0, 0, 0, 0, 0, 0, 0, 0, 0, 0, 0, 0, 0, 0, 0, 0, 0, 0, 0, 0, 0, 0, 0, 0, 0, 0, 0, 0, 0, 0, 0, 0, 0, 0, 0, 0, 0, 0, 0, 0, 0, 0, 0, 0, 0, 0, 0, 0, 0, 0, 0, 0, 0, 0, 0, 0, 0, 0, 0, 0, 0, 0, 0, 0, 0, 0, 0, 0, 0, 0, 0, 0, 0, 0, 0, 0, 0, 0, 0, 0, 0, 0, 0, 0, 0, 0, 0, 0, 0, 0, 0, 0, 0, 0, 0, 0, 0, 0, 0, 0, 0, 0, 0, 0, 0, 0, 0, 0, 0, 0, 0, 0, 0, 0, 0, 0, 0, 0, 0, 0, 0, 0, 0, 0, 0, 0, 0, 0, 0, 0, 0, 0, 0, 0, 0, 0, 0, 0, 0, 0, 0, 0, 0, 0, 0, 0, 0, 0, 0, 0, 0, 0, 0, 0, 0, 0, 0, 0, 0, 0, 0, 0, 0, 0, 0, 0, 0, 0, 0, 0, 0, 0, 0, 0, 0, 0, 0, 0, 0, 0, 0, 0, 0, 0, 0, 0, 0, 0, 0, 0, 0, 0, 0, 0, 0, 0, 0, 0, 0, 0, 0, 0, 0, 0, 0, 0, 0, 0, 0, 0, 0, 0, 0, 0, 0, 0, 0, 0, 0, 0, 0, 0, 0, 0, 0, 0, 0, 0, 0, 0, 0, 0, 0, 0, 0, 0, 0, 0, 0, 0, 0, 0, 0, 0, 0, 0, 0, 0, 0, 0, 0, 0, 0, 0, 0, 0, 0, 0, 0, 0, 0, 0, 0, 0, 0, 0, 0, 0, 0, 0, 0, 0, 0, 0, 0, 0, 0, 0, 0, 0, 0, 0, 0, 0, 0, 0, 0, 0, 0, 0, 0, 0, 0, 0, 0, 0, 0, 0, 0, 0, 0, 0, 0, 0, 0, 0, 0, 0, 0, 0, 0, 0, 0, 0, 0, 0, 0, 0, 0, 0, 0, 0, 0, 0, 0, 0, 0, 0, 0, 0, 0, 0, 0, 0, 0, 0, 0, 0, 0, 0, 0, 0, 0, 0, 1, 0, 0, 0, 0, 0, 0, 0, 0, 0, 0, 0, 0, 0, 0, 0, 0, 0, 0, 0, 0, 0, 0, 0, 0, 0, 0, 0, 0, 0, 0, 0, 0, 0, 0, 0, 0, 0, 0, 0, 0, 0, 0, 0, 0, 0, 0, 0, 0, 0, 0, 0, 0, 0, 0, 0, 0, 0, 0, 0, 0, 0, 0, 0, 0, 0, 0, 0, 0, 0, 0, 0, 0, 0, 0, 0, 0, 0, 0, 0, 0, 0, 0, 0, 0, 0, 0, 0, 0, 0, 0, 0, 0, 0, 0, 0, 0, 0, 0, 0, 0, 0, 0, 0, 0, 0, 0, 0, 0, 0, 2, 0, 0, 0, 0, 0, 0, 0, 0, 0, 0, 0, 0, 0, 0, 0, 0, 0, 0, 0, 0, 0, 0, 0, 0, 0, 0, 0, 0, 0, 0, 0, 0, 0, 0, 0, 0, 0, 0, 0, 0, 0, 0, 0, 0, 0, 0, 0, 0, 0, 0, 0, 0, 0, 0, 0, 0, 0, 0, 0, 0, 0, 0, 0, 0, 0, 0, 0, 0, 0, 0, 0, 0, 0, 0, 0, 0, 0, 0, 0, 0, 0, 0, 0, 0, 0, 0, 0, 0, 0, 0, 0, 0, 0, 0, 0, 0, 0, 0, 0, 0, 0, 0, 0, 0, 0, 0, 0, 0, 0, 0, 0, 0, 0, 0, 0, 0, 0, 0, 0, 0, 0, 0, 0, 0, 0, 0, 0, 0, 0, 0, 0, 0, 0, 0, 0, 0, 0, 0, 0, 0, 0, 0, 0, 0, 0, 0, 0, 0, 0, 0, 0, 0, 0, 0, 0, 0, 0, 0, 0, 0, 0, 0, 0, 0, 0, 0, 0, 0, 0, 0, 0, 0, 0, 0, 0, 0, 0, 0, 0, 0, 0, 0, 0, 0, 0, 0, 0, 0, 0, 0, 0, 0, 0, 0, 0, 0, 0, 0, 0, 0, 0, 0, 0, 0, 0, 0, 0, 0, 0, 0, 0, 0, 0, 0, 0, 0, 0, 0, 0, 0, 0, 0, 0, 0, 0, 0, 0, 0, 0, 0, 0, 0, 0, 0, 0, 0, 0, 0, 0, 0, 0, 0, 0, 0, 0, 0, 0, 0, 0, 0, 0, 0, 0, 0, 0, 0, 0, 0, 0, 0, 0, 0, 0, 0, 0, 0, 0, 0, 0, 0, 0, 0, 0, 0, 0, 0, 0, 0, 0, 0, 0, 0, 0, 0, 0, 0, 0, 0, 0, 0, 0, 0, 0, 0, 0, 0, 0, 0, 0, 0, 0, 0, 0, 0, 0, 0, 0, 0, 0, 0, 0, 0, 0, 0, 0, 0, 0, 0, 0, 0, 0, 0, 0, 0, 0, 0, 0, 0, 0, 0, 0, 0, 0, 0, 0, 0, 0, 0, 0, 0, 0, 0, 0, 0, 0, 0, 0, 0, 0, 0, 0, 0, 0, 0, 0, 0, 0, 0, 0, 0, 0, 0, 0, 0, 0, 0, 0, 0, 0, 0, 0, 0, 0, 0, 0, 0, 0, 0, 0, 0, 0, 0, 0, 0, 0, 0, 0, 0, 0, 0, 0, 0, 0, 0, 0, 0, 0, 0, 0, 0, 0, 0, 0, 0, 0, 0, 0, 0, 0, 0, 0, 0, 0, 0, 0, 0, 0, 0, 0, 0, 0, 0, 0, 0, 0, 0, 0, 0, 0, 0, 0, 0, 0, 0, 0, 0, 0, 0, 0, 0, 0, 0, 0, 0, 0, 0, 0, 0, 0, 0, 0, 0, 0, 0, 0, 0, 0, 0, 0, 0, 0, 0, 0, 0, 0, 0, 0, 0, 0, 0, 0, 0, 0, 0, 0, 0, 0, 0, 0, 0, 0, 0, 0, 0, 0, 0, 0, 0, 0, 0, 0, 0, 0, 0, 0, 0, 0, 0, 0, 0, 0, 0, 0, 0, 0, 0, 0, 0, 0, 0, 0, 0, 0, 0, 0, 0, 0, 0, 0, 0, 0, 0, 0, 0, 0, 0, 0, 0, 0, 0, 0, 0, 0, 0, 0, 0, 0, 0, 0, 0, 0, 0, 0, 0, 0, 0, 0, 0, 0, 0, 0, 0, 0, 0, 0, 0, 0, 0, 0, 0, 0, 0, 0, 0, 0, 0, 0, 0, 0, 0, 0, 0, 0, 0, 0, 0, 0, 0, 0, 0, 0, 0, 0, 0, 0, 0, 0, 0, 0, 0, 0, 0, 0, 0, 0, 0, 0, 0, 0, 0, 0, 0, 0, 0, 0, 0, 0, 0, 0, 0, 0, 0, 0, 0, 0, 0, 0, 0, 0, 0, 0, 0, 0, 0, 0, 0, 0, 0, 0, 0, 0, 0, 0, 0, 0, 0, 0, 0, 0, 0, 0, 0, 0, 0, 0, 0, 0, 0, 0, 0, 0, 0, 0, 0, 0, 0, 0, 0, 0, 0, 0, 0, 0, 0, 0, 0, 0, 0, 0, 0, 0, 0, 0, 0, 0, 0, 0, 0, 0, 0, 0, 0, 0, 0, 0, 0, 0, 0, 0, 0, 1, 0, 0, 0, 0, 0, 0, 0, 0, 0, 0, 0, 0, 0, 0, 0, 0, 0, 0, 0, 0, 0, 0, 0, 0, 0, 0, 0, 0, 0, 0, 0, 0, 0, 0, 0, 0, 0, 0, 0, 0, 0, 0, 0, 0, 0, 0, 0, 0, 0, 0, 0, 0, 0, 0, 0, 0, 0, 0, 0, 0, 0, 0, 0, 0, 0, 0, 0, 0, 0, 0, 0, 0, 0, 0, 0, 0, 0, 0, 0, 0, 0, 0, 0, 0, 0, 0, 0, 0, 0, 0, 0, 0, 0, 0, 0, 0, 0, 0, 0, 0, 0, 0, 0, 0, 0, 0, 0, 1, 0, 0, 0, 0, 0, 0, 0, 0, 0, 0, 0, 0, 0, 0, 0, 0, 0, 0, 0, 0, 0, 0, 0, 0, 0, 0, 0, 0, 0, 0, 0, 0, 0, 0, 0, 0, 0, 0, 0, 0, 0, 0, 0, 0, 0, 0, 0, 0, 0, 0, 0, 0, 0, 0, 0, 0, 0, 0, 0, 0, 0, 0, 0, 0, 0, 0, 0, 0, 0, 0, 0, 0, 0, 0, 0, 0, 0, 0, 0, 0, 0, 0, 0, 0, 0, 0, 0, 0, 0, 0, 0, 0, 0, 0, 0, 0, 0, 0, 0, 0, 0, 0, 0, 0, 0, 0, 0, 0, 0, 0, 0, 0, 0, 0, 0, 0, 0, 0, 0, 0, 0, 0, 0, 0, 0, 0, 0, 0, 0, 0, 0, 0, 0, 0, 0, 0, 0, 0, 0, 0, 0, 0, 0, 0, 0, 0, 0, 0, 0, 0, 0, 0, 0, 0, 0, 0, 0, 0, 0, 0, 0, 0, 0, 0, 0, 0, 0, 0, 0, 0, 0, 0, 0, 0, 0, 0, 0, 0, 0, 0, 0, 0, 0, 0, 0, 0, 0, 0, 0, 0, 0, 0, 0, 0, 0, 0, 0, 0, 0, 0, 0, 0, 0, 0, 0, 0, 0, 0, 0, 0, 0, 0, 0, 0, 0, 0, 0, 0, 0, 0, 0, 0, 0, 0, 0, 0, 0, 0, 0, 0, 0, 0, 0, 0, 0, 0, 0, 0, 0, 0, 0, 0, 0, 0, 0, 0, 0, 0, 0, 0, 0, 0, 0, 0, 0, 0, 0, 0, 0, 0, 0, 0, 0, 0, 0, 0, 0, 0, 0, 0, 0, 0, 0, 0, 0, 0, 0, 0, 0, 0, 0, 0, 0, 0, 0, 0, 0, 0, 0, 0, 0, 0, 0, 0, 0, 0, 0, 0, 0, 0, 0, 0, 0, 0, 0, 0, 0, 0, 0, 0, 0, 0, 0, 0, 0, 0, 0, 0, 0, 0, 0, 0, 0, 0, 0, 0, 0, 0, 0, 0, 0, 0, 0, 0, 0, 0, 0, 0, 0, 0, 0, 0, 0, 0, 0, 0, 0, 0, 0, 0, 0, 0, 0, 0, 0, 0, 0, 0, 0, 0, 0, 0, 0, 0, 0, 0, 0, 0, 0, 0, 0, 0, 0, 0, 0, 0, 0, 0, 0, 0, 0, 0, 0, 0, 0, 0, 0, 0, 0, 0, 0, 0, 0, 0, 0, 0, 0, 0, 0, 0, 0, 0, 0, 0, 0, 0, 0, 0, 0, 0, 0, 0, 0, 0, 0, 0, 0, 0, 0, 0, 0, 0, 0, 0, 0, 0, 0, 0, 0, 0, 0, 0, 0, 0, 0, 0, 0, 0, 0, 0, 0, 0, 0, 0, 0, 0, 0, 0, 0, 0, 0, 0, 0, 0, 0, 0, 0, 0, 0, 0, 0, 0, 0, 2, 0, 1, 0]\n"
     ]
    }
   ],
   "source": [
    "test_bow = bow_encoding(test_words, vocabulary)\n",
    "print(test_bow)"
   ]
  },
  {
   "cell_type": "code",
   "execution_count": 40,
   "metadata": {},
   "outputs": [
    {
     "data": {
      "text/plain": [
       "5000"
      ]
     },
     "execution_count": 40,
     "metadata": {},
     "output_type": "execute_result"
    }
   ],
   "source": [
    "len(test_bow)"
   ]
  },
  {
   "cell_type": "markdown",
   "metadata": {},
   "source": [
    "So now we know how to construct a bag of words encoding of a user provided review, how to we send it to our endpoint? First, we need to start the endpoint back up."
   ]
  },
  {
   "cell_type": "code",
   "execution_count": 41,
   "metadata": {},
   "outputs": [
    {
     "name": "stderr",
     "output_type": "stream",
     "text": [
      "Parameter image will be renamed to image_uri in SageMaker Python SDK v2.\n",
      "Using already existing model: xgboost-2020-09-10-07-21-06-119\n"
     ]
    },
    {
     "name": "stdout",
     "output_type": "stream",
     "text": [
      "-------------!"
     ]
    }
   ],
   "source": [
    "xgb_predictor = xgb.deploy(initial_instance_count = 1, instance_type = 'ml.m4.xlarge')"
   ]
  },
  {
   "cell_type": "markdown",
   "metadata": {},
   "source": [
    "At this point we could just do the same thing that we did earlier when we tested our deployed model and send `test_bow` to our endpoint using the `xgb_predictor` object. However, when we eventually construct our Lambda function we won't have access to this object, so how do we call a SageMaker endpoint?\n",
    "\n",
    "It turns out that Python functions that are used in Lambda have access to another Amazon library called `boto3`. This library provides an API for working with Amazon services, including SageMaker. To start with, we need to get a handle to the SageMaker runtime."
   ]
  },
  {
   "cell_type": "code",
   "execution_count": 42,
   "metadata": {},
   "outputs": [],
   "source": [
    "import boto3\n",
    "\n",
    "runtime = boto3.Session().client('sagemaker-runtime')"
   ]
  },
  {
   "cell_type": "markdown",
   "metadata": {},
   "source": [
    "And now that we have access to the SageMaker runtime, we can ask it to make use of (invoke) an endpoint that has already been created. However, we need to provide SageMaker with the name of the deployed endpoint. To find this out we can print it out using the `xgb_predictor` object."
   ]
  },
  {
   "cell_type": "code",
   "execution_count": 45,
   "metadata": {},
   "outputs": [
    {
     "data": {
      "text/plain": [
       "'xgboost-2020-09-10-07-21-06-119'"
      ]
     },
     "execution_count": 45,
     "metadata": {},
     "output_type": "execute_result"
    }
   ],
   "source": [
    "xgb_predictor.endpoint"
   ]
  },
  {
   "cell_type": "markdown",
   "metadata": {},
   "source": [
    "Using the SageMaker runtime and the name of our endpoint, we can invoke the endpoint and send it the `test_bow` data."
   ]
  },
  {
   "cell_type": "code",
   "execution_count": 46,
   "metadata": {},
   "outputs": [
    {
     "ename": "ParamValidationError",
     "evalue": "Parameter validation failed:\nInvalid type for parameter Body, value: [0, 0, 0, 0, 0, 0, 0, 0, 0, 0, 0, 0, 0, 0, 0, 0, 0, 0, 0, 0, 0, 0, 0, 0, 0, 0, 0, 0, 0, 0, 0, 0, 0, 0, 0, 0, 0, 0, 0, 0, 0, 0, 0, 0, 0, 0, 0, 0, 0, 0, 0, 0, 0, 0, 0, 0, 0, 0, 0, 0, 0, 0, 0, 0, 0, 0, 0, 0, 0, 0, 0, 0, 0, 0, 0, 0, 0, 0, 0, 0, 0, 0, 0, 0, 0, 0, 0, 0, 0, 0, 0, 0, 0, 0, 0, 0, 0, 0, 0, 0, 0, 0, 0, 0, 0, 0, 0, 0, 0, 0, 0, 0, 0, 0, 0, 0, 0, 0, 0, 0, 0, 0, 0, 0, 0, 0, 0, 0, 0, 0, 0, 0, 0, 0, 0, 0, 0, 0, 0, 0, 0, 0, 0, 0, 0, 0, 0, 0, 0, 0, 0, 0, 0, 0, 0, 0, 0, 0, 0, 0, 0, 0, 0, 0, 0, 0, 0, 0, 0, 0, 0, 0, 0, 0, 0, 0, 0, 0, 0, 0, 0, 0, 0, 0, 0, 0, 0, 0, 0, 0, 0, 0, 0, 0, 0, 0, 0, 0, 0, 0, 0, 0, 0, 0, 0, 0, 0, 0, 0, 0, 0, 0, 0, 0, 0, 0, 0, 0, 0, 0, 0, 0, 0, 0, 0, 0, 0, 1, 0, 0, 0, 0, 0, 0, 0, 0, 0, 0, 0, 0, 0, 0, 0, 0, 0, 0, 0, 0, 0, 0, 0, 0, 0, 0, 0, 0, 1, 0, 0, 0, 0, 0, 0, 0, 0, 0, 0, 0, 0, 0, 0, 0, 0, 0, 0, 0, 0, 0, 0, 0, 0, 0, 0, 0, 0, 0, 0, 0, 0, 0, 0, 0, 0, 0, 0, 0, 0, 0, 0, 0, 0, 0, 0, 0, 0, 0, 0, 0, 0, 0, 0, 0, 0, 0, 0, 0, 0, 0, 0, 0, 0, 0, 0, 0, 0, 0, 0, 0, 0, 0, 0, 0, 0, 0, 0, 0, 0, 0, 0, 0, 0, 0, 0, 0, 0, 0, 0, 0, 0, 0, 0, 0, 0, 0, 0, 0, 0, 0, 0, 0, 0, 0, 0, 0, 0, 0, 0, 0, 0, 0, 0, 0, 0, 0, 0, 0, 0, 0, 0, 0, 0, 0, 0, 0, 0, 0, 0, 0, 0, 0, 0, 0, 0, 0, 0, 0, 0, 0, 0, 0, 0, 0, 0, 0, 0, 0, 0, 0, 0, 0, 0, 0, 0, 0, 0, 0, 0, 0, 0, 0, 0, 0, 0, 0, 0, 0, 0, 0, 0, 0, 0, 0, 0, 0, 0, 0, 0, 0, 0, 0, 0, 0, 0, 0, 0, 0, 0, 0, 0, 0, 0, 0, 0, 0, 0, 0, 0, 0, 0, 0, 0, 0, 0, 0, 0, 0, 0, 0, 0, 0, 0, 0, 0, 0, 0, 0, 0, 0, 0, 0, 0, 0, 0, 0, 0, 0, 0, 0, 0, 0, 0, 0, 0, 0, 0, 0, 0, 0, 0, 0, 0, 0, 0, 0, 0, 0, 0, 0, 0, 0, 0, 0, 0, 0, 0, 0, 0, 0, 0, 0, 0, 0, 0, 0, 0, 0, 0, 0, 0, 0, 0, 0, 0, 0, 0, 0, 0, 0, 0, 0, 0, 0, 0, 0, 0, 0, 0, 0, 0, 0, 0, 0, 0, 0, 0, 0, 0, 0, 0, 0, 0, 0, 0, 0, 0, 0, 0, 0, 0, 0, 0, 0, 0, 0, 0, 0, 0, 0, 0, 0, 0, 0, 0, 0, 0, 0, 0, 0, 0, 0, 0, 0, 0, 0, 0, 0, 0, 0, 0, 0, 0, 0, 0, 0, 0, 0, 0, 0, 0, 0, 0, 0, 0, 0, 0, 0, 0, 0, 0, 0, 0, 0, 0, 0, 0, 0, 0, 0, 0, 0, 0, 0, 0, 0, 0, 0, 1, 0, 0, 0, 0, 0, 0, 0, 0, 0, 0, 0, 0, 0, 0, 0, 0, 0, 0, 0, 0, 0, 0, 0, 0, 0, 0, 0, 0, 0, 0, 0, 0, 0, 0, 0, 0, 0, 0, 0, 0, 0, 0, 0, 0, 0, 0, 0, 0, 0, 0, 0, 0, 0, 0, 0, 0, 0, 0, 0, 0, 0, 0, 0, 0, 0, 0, 0, 0, 0, 0, 0, 0, 0, 0, 0, 0, 0, 0, 0, 0, 0, 0, 0, 0, 0, 0, 0, 0, 0, 0, 0, 0, 0, 0, 0, 0, 0, 0, 0, 0, 0, 0, 0, 0, 0, 0, 0, 0, 0, 0, 0, 0, 0, 0, 0, 0, 0, 0, 0, 0, 0, 0, 0, 0, 0, 0, 0, 0, 0, 0, 0, 0, 0, 0, 0, 0, 0, 0, 0, 0, 0, 0, 0, 0, 0, 0, 0, 0, 0, 0, 0, 0, 0, 0, 0, 0, 0, 0, 0, 0, 0, 0, 0, 0, 0, 0, 0, 0, 0, 0, 0, 0, 0, 0, 0, 0, 0, 0, 0, 0, 0, 0, 0, 0, 0, 0, 0, 0, 0, 0, 0, 0, 0, 0, 0, 0, 0, 0, 0, 0, 0, 0, 0, 0, 0, 0, 0, 0, 0, 0, 0, 0, 0, 0, 0, 0, 0, 0, 0, 0, 0, 0, 0, 0, 0, 0, 0, 0, 0, 0, 0, 0, 0, 0, 0, 0, 0, 0, 0, 0, 0, 0, 0, 0, 0, 0, 0, 0, 0, 0, 0, 0, 0, 1, 0, 0, 0, 0, 0, 0, 0, 0, 0, 0, 0, 0, 0, 0, 0, 0, 0, 0, 0, 0, 0, 0, 0, 0, 0, 0, 0, 0, 0, 0, 0, 0, 0, 0, 0, 0, 0, 0, 0, 0, 0, 0, 0, 0, 0, 0, 0, 0, 0, 0, 0, 0, 0, 0, 0, 0, 0, 0, 0, 0, 0, 0, 0, 0, 0, 0, 0, 0, 0, 0, 0, 0, 0, 0, 0, 0, 0, 0, 0, 0, 0, 0, 0, 0, 0, 0, 0, 1, 0, 0, 0, 0, 0, 0, 0, 0, 0, 0, 0, 0, 0, 0, 0, 0, 0, 0, 0, 0, 0, 0, 0, 0, 0, 0, 0, 0, 0, 0, 0, 0, 0, 0, 0, 0, 0, 0, 0, 0, 0, 0, 0, 0, 0, 0, 0, 0, 0, 0, 0, 0, 0, 0, 0, 0, 0, 0, 0, 0, 0, 0, 0, 0, 0, 0, 0, 0, 0, 0, 0, 0, 0, 0, 0, 0, 0, 0, 0, 0, 0, 0, 0, 0, 0, 0, 0, 0, 0, 0, 0, 0, 0, 0, 0, 0, 0, 0, 0, 0, 0, 0, 0, 0, 0, 0, 0, 0, 0, 0, 0, 0, 0, 0, 0, 0, 0, 0, 0, 0, 0, 0, 0, 0, 0, 0, 0, 0, 0, 0, 0, 0, 0, 0, 0, 0, 0, 0, 0, 0, 0, 0, 0, 0, 0, 0, 0, 0, 0, 0, 0, 0, 0, 0, 0, 0, 0, 0, 0, 0, 0, 0, 0, 0, 0, 0, 0, 0, 0, 0, 0, 0, 0, 0, 0, 0, 0, 0, 0, 0, 0, 0, 0, 0, 0, 0, 0, 0, 0, 0, 0, 0, 0, 0, 0, 0, 0, 0, 0, 0, 0, 0, 0, 0, 0, 0, 0, 0, 0, 0, 0, 0, 0, 0, 0, 0, 0, 0, 0, 0, 0, 0, 0, 0, 0, 0, 0, 0, 0, 0, 0, 0, 0, 0, 0, 0, 0, 0, 0, 0, 0, 0, 0, 0, 0, 0, 0, 0, 0, 0, 0, 0, 1, 0, 0, 0, 0, 0, 0, 0, 0, 0, 0, 0, 0, 0, 0, 0, 0, 0, 0, 0, 0, 0, 0, 0, 0, 0, 0, 0, 0, 0, 0, 0, 0, 0, 0, 0, 0, 0, 0, 0, 0, 0, 0, 0, 0, 0, 0, 0, 0, 0, 0, 0, 0, 0, 0, 0, 1, 0, 0, 0, 0, 0, 0, 0, 0, 0, 0, 0, 0, 0, 0, 0, 0, 0, 0, 0, 0, 0, 0, 0, 0, 0, 0, 0, 0, 0, 0, 0, 0, 0, 0, 0, 0, 0, 0, 0, 0, 0, 0, 0, 0, 0, 0, 0, 0, 0, 0, 0, 0, 0, 0, 0, 0, 0, 0, 0, 0, 0, 0, 0, 0, 0, 0, 0, 0, 0, 0, 0, 0, 0, 0, 0, 0, 0, 0, 0, 0, 0, 0, 0, 0, 0, 0, 0, 0, 0, 0, 0, 0, 0, 0, 0, 0, 0, 0, 0, 0, 0, 0, 0, 0, 0, 0, 0, 0, 0, 0, 0, 0, 0, 0, 0, 0, 0, 0, 0, 0, 0, 0, 0, 0, 0, 0, 0, 0, 0, 0, 0, 0, 0, 0, 0, 0, 0, 0, 0, 0, 0, 0, 0, 0, 0, 0, 0, 0, 0, 0, 0, 0, 0, 0, 0, 0, 0, 0, 0, 0, 0, 0, 0, 0, 0, 0, 0, 0, 0, 0, 0, 0, 0, 0, 0, 0, 0, 0, 0, 0, 0, 0, 0, 0, 0, 0, 0, 0, 0, 0, 0, 0, 0, 0, 0, 0, 0, 0, 0, 0, 0, 0, 0, 0, 0, 0, 0, 0, 0, 0, 0, 0, 0, 0, 0, 0, 0, 0, 0, 0, 0, 0, 0, 0, 0, 0, 0, 0, 0, 0, 0, 0, 0, 0, 0, 0, 0, 0, 0, 0, 0, 0, 0, 0, 0, 0, 0, 0, 0, 0, 0, 0, 0, 0, 0, 0, 0, 0, 0, 0, 0, 0, 0, 0, 0, 0, 0, 0, 0, 0, 0, 0, 0, 0, 0, 0, 0, 0, 0, 0, 0, 0, 0, 0, 0, 0, 0, 0, 0, 0, 0, 0, 0, 0, 0, 0, 0, 0, 0, 0, 0, 0, 0, 0, 0, 0, 0, 0, 0, 0, 0, 0, 0, 0, 0, 0, 0, 0, 0, 0, 0, 0, 0, 0, 0, 0, 0, 0, 0, 0, 0, 0, 0, 0, 0, 0, 0, 0, 0, 0, 0, 0, 0, 0, 0, 0, 0, 0, 0, 0, 0, 0, 0, 0, 0, 0, 0, 0, 0, 0, 0, 0, 0, 0, 0, 0, 0, 0, 0, 0, 0, 0, 0, 0, 0, 0, 0, 0, 0, 0, 0, 0, 0, 0, 0, 0, 0, 0, 0, 0, 0, 0, 0, 0, 0, 0, 0, 0, 0, 0, 0, 0, 0, 0, 0, 0, 0, 0, 0, 0, 0, 0, 0, 0, 0, 0, 0, 0, 0, 0, 0, 0, 0, 0, 0, 0, 0, 0, 0, 0, 0, 0, 0, 0, 0, 0, 0, 0, 0, 0, 0, 0, 0, 0, 0, 0, 0, 0, 0, 0, 0, 0, 0, 0, 0, 0, 0, 0, 0, 0, 0, 0, 0, 0, 0, 0, 0, 0, 0, 0, 0, 0, 0, 0, 0, 0, 0, 0, 0, 0, 0, 0, 0, 0, 0, 0, 0, 0, 0, 0, 0, 0, 0, 0, 0, 0, 0, 0, 0, 0, 0, 0, 0, 0, 0, 0, 0, 0, 0, 0, 0, 0, 0, 0, 0, 0, 0, 0, 0, 0, 0, 0, 0, 0, 0, 0, 0, 0, 0, 0, 0, 0, 0, 0, 0, 0, 0, 0, 0, 0, 0, 0, 0, 0, 0, 0, 0, 0, 0, 0, 0, 0, 0, 0, 0, 0, 0, 0, 0, 0, 0, 0, 0, 0, 0, 0, 0, 0, 0, 0, 0, 0, 0, 0, 0, 0, 0, 0, 0, 0, 0, 0, 0, 0, 0, 0, 0, 0, 0, 0, 0, 0, 0, 0, 0, 0, 0, 0, 0, 0, 0, 0, 0, 0, 0, 0, 0, 0, 0, 0, 0, 0, 0, 0, 0, 0, 0, 0, 0, 0, 0, 0, 0, 0, 0, 0, 0, 0, 0, 0, 0, 0, 0, 0, 0, 0, 0, 0, 0, 0, 0, 0, 0, 0, 0, 0, 0, 0, 0, 0, 0, 0, 0, 0, 0, 0, 0, 0, 0, 0, 0, 0, 0, 0, 0, 0, 0, 0, 0, 0, 0, 0, 0, 0, 0, 0, 0, 0, 0, 0, 0, 1, 0, 0, 0, 0, 0, 0, 0, 0, 0, 0, 0, 0, 0, 0, 0, 0, 0, 0, 0, 0, 0, 0, 0, 0, 0, 0, 0, 0, 0, 0, 0, 0, 0, 0, 0, 0, 0, 0, 0, 0, 0, 0, 0, 0, 0, 0, 0, 0, 0, 0, 0, 0, 0, 0, 0, 0, 0, 0, 0, 0, 0, 0, 0, 0, 0, 0, 0, 0, 0, 0, 0, 0, 0, 0, 1, 0, 0, 0, 0, 0, 0, 0, 0, 0, 0, 0, 0, 0, 0, 0, 0, 0, 0, 0, 0, 1, 0, 0, 1, 0, 0, 0, 0, 0, 0, 0, 0, 0, 0, 0, 0, 0, 0, 0, 0, 0, 0, 0, 0, 0, 0, 0, 0, 0, 0, 0, 0, 0, 0, 0, 0, 0, 0, 0, 0, 0, 0, 0, 0, 0, 0, 0, 0, 0, 0, 0, 0, 0, 0, 0, 0, 0, 0, 0, 0, 0, 0, 0, 0, 0, 0, 0, 0, 0, 0, 0, 0, 0, 0, 0, 0, 0, 0, 0, 0, 0, 0, 0, 0, 0, 0, 0, 0, 0, 0, 0, 0, 0, 0, 0, 0, 0, 0, 0, 0, 0, 0, 0, 0, 0, 0, 0, 0, 0, 0, 0, 0, 0, 0, 0, 0, 0, 0, 0, 0, 0, 0, 0, 0, 0, 0, 0, 0, 0, 0, 0, 0, 0, 0, 0, 0, 0, 0, 0, 0, 0, 0, 0, 0, 0, 0, 0, 0, 0, 0, 0, 0, 0, 0, 0, 0, 0, 0, 0, 0, 0, 0, 0, 0, 0, 0, 0, 0, 0, 0, 0, 0, 0, 0, 0, 0, 0, 0, 0, 0, 0, 0, 0, 0, 0, 0, 0, 0, 0, 0, 0, 0, 0, 0, 0, 0, 0, 0, 0, 0, 0, 0, 0, 0, 0, 0, 0, 0, 0, 0, 0, 0, 0, 0, 0, 0, 0, 0, 0, 0, 0, 0, 0, 0, 0, 0, 0, 0, 0, 0, 0, 0, 0, 0, 0, 0, 0, 0, 0, 0, 0, 0, 0, 0, 0, 0, 0, 0, 0, 0, 0, 0, 0, 0, 0, 0, 0, 0, 0, 0, 0, 0, 0, 0, 0, 0, 0, 0, 0, 0, 0, 0, 0, 0, 0, 0, 0, 0, 0, 0, 0, 0, 0, 0, 0, 0, 0, 0, 0, 0, 0, 0, 0, 0, 0, 0, 0, 0, 0, 0, 0, 0, 0, 0, 0, 0, 0, 0, 0, 0, 0, 0, 0, 0, 0, 0, 0, 0, 0, 0, 0, 0, 0, 0, 0, 0, 0, 0, 0, 0, 0, 0, 0, 0, 0, 0, 0, 0, 0, 0, 0, 0, 0, 0, 0, 0, 0, 0, 0, 0, 0, 0, 0, 0, 0, 0, 0, 0, 0, 0, 0, 0, 0, 0, 0, 0, 0, 0, 0, 0, 0, 0, 0, 0, 0, 0, 0, 0, 0, 0, 0, 0, 0, 0, 0, 0, 0, 0, 0, 0, 0, 0, 0, 0, 0, 0, 0, 0, 0, 0, 0, 0, 0, 0, 0, 0, 0, 0, 0, 0, 0, 0, 0, 0, 0, 0, 0, 0, 0, 0, 0, 0, 0, 0, 0, 0, 0, 0, 0, 0, 0, 0, 0, 0, 0, 0, 0, 0, 0, 0, 0, 0, 0, 0, 0, 0, 0, 0, 0, 0, 0, 0, 0, 0, 0, 0, 0, 0, 0, 0, 0, 0, 0, 0, 0, 0, 0, 0, 0, 1, 0, 0, 0, 0, 0, 0, 0, 0, 0, 0, 0, 0, 0, 0, 0, 0, 0, 0, 0, 0, 0, 0, 0, 0, 0, 0, 0, 0, 0, 0, 0, 0, 0, 0, 0, 0, 0, 0, 0, 0, 0, 0, 0, 0, 0, 0, 0, 0, 0, 0, 0, 0, 0, 0, 0, 0, 0, 0, 0, 0, 0, 0, 0, 0, 0, 0, 0, 0, 0, 0, 0, 0, 0, 0, 0, 0, 0, 0, 0, 0, 0, 0, 0, 0, 0, 0, 0, 0, 0, 0, 0, 0, 0, 0, 0, 0, 0, 0, 0, 0, 0, 0, 0, 0, 0, 0, 0, 0, 0, 0, 0, 0, 0, 0, 0, 0, 0, 0, 0, 0, 0, 0, 0, 0, 0, 0, 0, 0, 0, 0, 0, 0, 0, 0, 0, 0, 0, 0, 0, 0, 0, 0, 0, 0, 0, 0, 0, 0, 0, 0, 0, 0, 0, 0, 0, 0, 0, 0, 0, 0, 0, 0, 0, 0, 0, 0, 0, 0, 0, 0, 0, 0, 0, 0, 0, 0, 0, 0, 0, 0, 0, 0, 0, 0, 0, 0, 0, 0, 0, 0, 0, 0, 0, 0, 0, 0, 0, 0, 0, 0, 0, 0, 0, 0, 0, 0, 0, 0, 0, 0, 0, 0, 0, 0, 0, 0, 0, 0, 0, 0, 0, 0, 0, 0, 0, 0, 0, 0, 0, 0, 0, 0, 0, 0, 0, 0, 0, 0, 0, 0, 0, 0, 0, 0, 0, 0, 0, 0, 0, 0, 0, 0, 0, 0, 0, 0, 0, 0, 0, 0, 0, 0, 0, 0, 0, 0, 0, 0, 0, 0, 0, 0, 0, 0, 0, 0, 0, 0, 0, 0, 0, 0, 0, 0, 0, 0, 0, 0, 0, 0, 0, 0, 0, 0, 0, 0, 0, 0, 0, 0, 0, 0, 0, 0, 0, 0, 0, 0, 0, 0, 0, 0, 0, 0, 0, 0, 0, 0, 0, 0, 0, 0, 0, 0, 0, 0, 0, 0, 0, 0, 0, 0, 0, 0, 0, 0, 0, 0, 0, 0, 0, 0, 0, 0, 0, 0, 0, 0, 0, 0, 0, 0, 0, 0, 0, 0, 0, 0, 0, 0, 0, 0, 0, 0, 0, 0, 0, 0, 0, 0, 0, 0, 0, 0, 0, 0, 0, 0, 0, 0, 0, 0, 0, 0, 0, 0, 0, 0, 0, 0, 0, 0, 0, 0, 0, 0, 0, 0, 0, 0, 0, 0, 0, 0, 0, 0, 0, 0, 0, 0, 0, 0, 0, 0, 0, 0, 0, 0, 0, 0, 0, 0, 0, 0, 0, 0, 0, 0, 0, 0, 0, 0, 0, 0, 0, 0, 0, 0, 0, 0, 0, 0, 0, 0, 0, 0, 0, 0, 0, 0, 0, 0, 0, 0, 0, 0, 0, 0, 0, 0, 0, 0, 0, 0, 0, 0, 0, 0, 0, 0, 0, 0, 0, 0, 0, 0, 0, 0, 0, 0, 0, 0, 0, 0, 0, 0, 0, 0, 0, 0, 0, 0, 0, 0, 0, 0, 0, 0, 0, 0, 0, 0, 0, 0, 0, 0, 0, 0, 0, 0, 0, 1, 0, 0, 0, 0, 0, 0, 0, 0, 0, 0, 0, 0, 0, 0, 0, 0, 0, 0, 0, 0, 0, 0, 0, 0, 0, 0, 0, 0, 0, 0, 0, 0, 0, 0, 0, 2, 0, 0, 0, 0, 0, 0, 0, 0, 0, 0, 0, 0, 0, 0, 0, 0, 0, 0, 0, 0, 0, 0, 0, 0, 0, 0, 0, 0, 0, 0, 0, 0, 0, 0, 0, 0, 0, 0, 0, 0, 1, 0, 0, 0, 0, 0, 0, 0, 0, 0, 0, 0, 0, 0, 0, 0, 0, 0, 0, 0, 0, 0, 0, 0, 0, 0, 0, 0, 0, 0, 0, 0, 0, 0, 0, 0, 0, 0, 0, 0, 0, 0, 0, 0, 0, 0, 0, 0, 0, 0, 0, 0, 0, 0, 0, 0, 0, 0, 0, 0, 0, 0, 0, 0, 0, 0, 0, 0, 0, 0, 0, 0, 0, 0, 0, 0, 0, 0, 0, 0, 0, 0, 0, 0, 0, 0, 0, 0, 0, 0, 0, 0, 0, 0, 0, 0, 0, 0, 0, 0, 0, 0, 0, 0, 0, 0, 0, 0, 0, 0, 0, 0, 0, 0, 0, 0, 0, 0, 0, 0, 0, 0, 0, 0, 0, 0, 0, 0, 0, 0, 0, 0, 0, 0, 0, 0, 0, 0, 0, 0, 0, 0, 0, 0, 0, 0, 0, 0, 0, 0, 0, 0, 0, 0, 0, 0, 0, 0, 0, 0, 0, 0, 0, 0, 0, 0, 0, 0, 0, 0, 0, 0, 0, 0, 0, 0, 0, 0, 0, 0, 0, 0, 0, 0, 0, 0, 0, 0, 0, 0, 0, 0, 0, 0, 0, 0, 0, 0, 0, 0, 0, 0, 0, 0, 0, 0, 0, 0, 0, 0, 0, 0, 0, 0, 0, 0, 0, 0, 0, 0, 0, 0, 0, 0, 0, 0, 0, 0, 0, 0, 0, 0, 0, 0, 0, 0, 0, 0, 0, 0, 0, 0, 0, 0, 0, 0, 0, 0, 0, 0, 0, 0, 0, 0, 0, 0, 0, 0, 0, 0, 0, 0, 0, 0, 0, 0, 0, 0, 0, 0, 0, 0, 0, 0, 0, 0, 0, 0, 0, 0, 0, 0, 0, 0, 0, 0, 0, 0, 0, 0, 0, 0, 0, 0, 0, 0, 0, 0, 0, 0, 0, 0, 0, 0, 0, 0, 0, 0, 0, 0, 0, 0, 0, 0, 0, 0, 0, 0, 0, 0, 0, 0, 0, 0, 0, 0, 0, 0, 0, 0, 0, 0, 0, 0, 0, 0, 0, 0, 0, 0, 0, 0, 0, 0, 0, 0, 0, 0, 0, 0, 0, 0, 0, 0, 0, 0, 0, 0, 0, 0, 0, 0, 0, 0, 0, 0, 0, 0, 0, 0, 0, 0, 0, 0, 0, 0, 0, 0, 0, 0, 0, 0, 0, 0, 0, 0, 0, 0, 0, 0, 0, 0, 0, 0, 0, 0, 0, 0, 0, 0, 0, 0, 0, 0, 0, 0, 0, 0, 0, 0, 0, 0, 0, 0, 0, 0, 0, 0, 0, 0, 0, 0, 0, 0, 0, 0, 0, 0, 0, 0, 0, 0, 0, 0, 0, 0, 0, 0, 0, 0, 0, 0, 0, 0, 0, 0, 0, 0, 0, 0, 0, 0, 0, 0, 0, 0, 0, 0, 0, 0, 0, 0, 0, 0, 0, 0, 0, 0, 0, 0, 0, 0, 0, 0, 0, 0, 0, 0, 0, 0, 0, 0, 0, 0, 0, 0, 0, 0, 0, 0, 0, 0, 0, 0, 0, 0, 0, 0, 0, 0, 1, 0, 0, 0, 0, 0, 0, 0, 0, 0, 0, 0, 0, 0, 0, 0, 0, 0, 0, 0, 0, 0, 0, 0, 0, 0, 0, 0, 0, 0, 0, 0, 0, 0, 0, 0, 0, 0, 0, 0, 0, 0, 0, 0, 0, 0, 0, 0, 0, 0, 0, 0, 0, 0, 0, 0, 0, 0, 0, 0, 0, 0, 0, 0, 0, 0, 0, 0, 0, 0, 0, 0, 0, 0, 0, 0, 0, 0, 0, 0, 0, 0, 0, 0, 0, 0, 0, 0, 0, 0, 0, 0, 0, 0, 0, 0, 0, 0, 0, 0, 0, 0, 0, 0, 0, 0, 0, 0, 0, 0, 2, 0, 0, 0, 0, 0, 0, 0, 0, 0, 0, 0, 0, 0, 0, 0, 0, 0, 0, 0, 0, 0, 0, 0, 0, 0, 0, 0, 0, 0, 0, 0, 0, 0, 0, 0, 0, 0, 0, 0, 0, 0, 0, 0, 0, 0, 0, 0, 0, 0, 0, 0, 0, 0, 0, 0, 0, 0, 0, 0, 0, 0, 0, 0, 0, 0, 0, 0, 0, 0, 0, 0, 0, 0, 0, 0, 0, 0, 0, 0, 0, 0, 0, 0, 0, 0, 0, 0, 0, 0, 0, 0, 0, 0, 0, 0, 0, 0, 0, 0, 0, 0, 0, 0, 0, 0, 0, 0, 0, 0, 0, 0, 0, 0, 0, 0, 0, 0, 0, 0, 0, 0, 0, 0, 0, 0, 0, 0, 0, 0, 0, 0, 0, 0, 0, 0, 0, 0, 0, 0, 0, 0, 0, 0, 0, 0, 0, 0, 0, 0, 0, 0, 0, 0, 0, 0, 0, 0, 0, 0, 0, 0, 0, 0, 0, 0, 0, 0, 0, 0, 0, 0, 0, 0, 0, 0, 0, 0, 0, 0, 0, 0, 0, 0, 0, 0, 0, 0, 0, 0, 0, 0, 0, 0, 0, 0, 0, 0, 0, 0, 0, 0, 0, 0, 0, 0, 0, 0, 0, 0, 0, 0, 0, 0, 0, 0, 0, 0, 0, 0, 0, 0, 0, 0, 0, 0, 0, 0, 0, 0, 0, 0, 0, 0, 0, 0, 0, 0, 0, 0, 0, 0, 0, 0, 0, 0, 0, 0, 0, 0, 0, 0, 0, 0, 0, 0, 0, 0, 0, 0, 0, 0, 0, 0, 0, 0, 0, 0, 0, 0, 0, 0, 0, 0, 0, 0, 0, 0, 0, 0, 0, 0, 0, 0, 0, 0, 0, 0, 0, 0, 0, 0, 0, 0, 0, 0, 0, 0, 0, 0, 0, 0, 0, 0, 0, 0, 0, 0, 0, 0, 0, 0, 0, 0, 0, 0, 0, 0, 0, 0, 0, 0, 0, 0, 0, 0, 0, 0, 0, 0, 0, 0, 0, 0, 0, 0, 0, 0, 0, 0, 0, 0, 0, 0, 0, 0, 0, 0, 0, 0, 0, 0, 0, 0, 0, 0, 0, 0, 0, 0, 0, 0, 0, 0, 0, 0, 0, 0, 0, 0, 0, 0, 0, 0, 0, 0, 0, 0, 0, 0, 0, 0, 0, 0, 0, 0, 0, 0, 0, 0, 0, 0, 0, 0, 0, 0, 0, 0, 0, 0, 0, 0, 0, 0, 0, 0, 0, 0, 0, 0, 0, 0, 0, 0, 0, 0, 0, 0, 0, 0, 0, 0, 0, 0, 0, 0, 0, 0, 0, 0, 0, 0, 0, 0, 0, 0, 0, 0, 0, 0, 0, 0, 0, 0, 0, 0, 0, 0, 0, 0, 0, 0, 0, 0, 0, 0, 0, 0, 0, 0, 0, 0, 0, 0, 0, 0, 0, 0, 0, 0, 0, 0, 0, 0, 0, 0, 0, 0, 0, 0, 0, 0, 0, 0, 0, 0, 0, 0, 0, 0, 0, 0, 0, 0, 0, 0, 0, 0, 0, 0, 0, 0, 0, 0, 0, 0, 0, 0, 0, 0, 0, 0, 0, 0, 0, 0, 0, 0, 0, 0, 0, 0, 0, 0, 0, 0, 0, 0, 0, 0, 0, 0, 0, 0, 0, 0, 0, 0, 0, 0, 0, 0, 0, 0, 0, 0, 0, 0, 0, 0, 0, 0, 0, 0, 0, 0, 0, 0, 0, 0, 0, 0, 0, 0, 0, 0, 0, 0, 0, 0, 0, 0, 0, 0, 0, 0, 0, 0, 0, 0, 0, 0, 0, 0, 0, 0, 0, 0, 0, 0, 0, 0, 0, 0, 0, 0, 0, 0, 0, 0, 0, 0, 0, 0, 0, 0, 0, 0, 0, 0, 0, 0, 0, 0, 0, 0, 0, 0, 0, 0, 0, 0, 0, 0, 0, 0, 0, 0, 0, 0, 0, 0, 0, 0, 0, 0, 0, 0, 0, 0, 0, 0, 0, 0, 0, 0, 0, 0, 0, 0, 0, 0, 0, 0, 0, 0, 0, 0, 0, 0, 0, 0, 0, 0, 0, 0, 0, 0, 0, 0, 0, 0, 0, 0, 0, 0, 0, 0, 0, 0, 0, 0, 0, 0, 0, 0, 0, 0, 0, 0, 0, 1, 0, 0, 0, 0, 0, 0, 0, 0, 0, 0, 0, 0, 0, 0, 0, 0, 0, 0, 0, 0, 0, 0, 0, 0, 0, 0, 0, 0, 0, 0, 0, 0, 0, 0, 0, 0, 0, 0, 0, 0, 0, 0, 0, 0, 0, 0, 0, 0, 0, 0, 0, 0, 0, 0, 0, 0, 0, 0, 0, 0, 0, 0, 0, 0, 0, 0, 0, 0, 0, 0, 0, 0, 0, 0, 0, 0, 0, 0, 0, 0, 0, 0, 0, 0, 0, 0, 0, 0, 0, 0, 0, 0, 0, 0, 0, 0, 0, 0, 0, 0, 0, 0, 0, 0, 0, 0, 0, 1, 0, 0, 0, 0, 0, 0, 0, 0, 0, 0, 0, 0, 0, 0, 0, 0, 0, 0, 0, 0, 0, 0, 0, 0, 0, 0, 0, 0, 0, 0, 0, 0, 0, 0, 0, 0, 0, 0, 0, 0, 0, 0, 0, 0, 0, 0, 0, 0, 0, 0, 0, 0, 0, 0, 0, 0, 0, 0, 0, 0, 0, 0, 0, 0, 0, 0, 0, 0, 0, 0, 0, 0, 0, 0, 0, 0, 0, 0, 0, 0, 0, 0, 0, 0, 0, 0, 0, 0, 0, 0, 0, 0, 0, 0, 0, 0, 0, 0, 0, 0, 0, 0, 0, 0, 0, 0, 0, 0, 0, 0, 0, 0, 0, 0, 0, 0, 0, 0, 0, 0, 0, 0, 0, 0, 0, 0, 0, 0, 0, 0, 0, 0, 0, 0, 0, 0, 0, 0, 0, 0, 0, 0, 0, 0, 0, 0, 0, 0, 0, 0, 0, 0, 0, 0, 0, 0, 0, 0, 0, 0, 0, 0, 0, 0, 0, 0, 0, 0, 0, 0, 0, 0, 0, 0, 0, 0, 0, 0, 0, 0, 0, 0, 0, 0, 0, 0, 0, 0, 0, 0, 0, 0, 0, 0, 0, 0, 0, 0, 0, 0, 0, 0, 0, 0, 0, 0, 0, 0, 0, 0, 0, 0, 0, 0, 0, 0, 0, 0, 0, 0, 0, 0, 0, 0, 0, 0, 0, 0, 0, 0, 0, 0, 0, 0, 0, 0, 0, 0, 0, 0, 0, 0, 0, 0, 0, 0, 0, 0, 0, 0, 0, 0, 0, 0, 0, 0, 0, 0, 0, 0, 0, 0, 0, 0, 0, 0, 0, 0, 0, 0, 0, 0, 0, 0, 0, 0, 0, 0, 0, 0, 0, 0, 0, 0, 0, 0, 0, 0, 0, 0, 0, 0, 0, 0, 0, 0, 0, 0, 0, 0, 0, 0, 0, 0, 0, 0, 0, 0, 0, 0, 0, 0, 0, 0, 0, 0, 0, 0, 0, 0, 0, 0, 0, 0, 0, 0, 0, 0, 0, 0, 0, 0, 0, 0, 0, 0, 0, 0, 0, 0, 0, 0, 0, 0, 0, 0, 0, 0, 0, 0, 0, 0, 0, 0, 0, 0, 0, 0, 0, 0, 0, 0, 0, 0, 0, 0, 0, 0, 0, 0, 0, 0, 0, 0, 0, 0, 0, 0, 0, 0, 0, 0, 0, 0, 0, 0, 0, 0, 0, 0, 0, 0, 0, 0, 0, 0, 0, 0, 0, 0, 0, 0, 0, 0, 0, 0, 0, 0, 0, 0, 0, 0, 0, 0, 0, 0, 0, 0, 0, 0, 0, 0, 0, 0, 0, 0, 0, 0, 0, 0, 0, 0, 0, 0, 0, 0, 0, 0, 0, 0, 0, 0, 0, 0, 0, 0, 0, 0, 0, 0, 0, 0, 0, 0, 0, 0, 0, 0, 0, 0, 0, 0, 0, 2, 0, 1, 0], type: <class 'list'>, valid types: <class 'bytes'>, <class 'bytearray'>, file-like object",
     "output_type": "error",
     "traceback": [
      "\u001b[0;31m---------------------------------------------------------------------------\u001b[0m",
      "\u001b[0;31mParamValidationError\u001b[0m                      Traceback (most recent call last)",
      "\u001b[0;32m<ipython-input-46-c9ab54ae3a48>\u001b[0m in \u001b[0;36m<module>\u001b[0;34m\u001b[0m\n\u001b[1;32m      1\u001b[0m response = runtime.invoke_endpoint(EndpointName = xgb_predictor.endpoint, # The name of the endpoint we created\n\u001b[1;32m      2\u001b[0m                                        \u001b[0mContentType\u001b[0m \u001b[0;34m=\u001b[0m \u001b[0;34m'text/csv'\u001b[0m\u001b[0;34m,\u001b[0m                     \u001b[0;31m# The data format that is expected\u001b[0m\u001b[0;34m\u001b[0m\u001b[0;34m\u001b[0m\u001b[0m\n\u001b[0;32m----> 3\u001b[0;31m                                        Body = test_bow)\n\u001b[0m",
      "\u001b[0;32m~/anaconda3/envs/python3/lib/python3.6/site-packages/botocore/client.py\u001b[0m in \u001b[0;36m_api_call\u001b[0;34m(self, *args, **kwargs)\u001b[0m\n\u001b[1;32m    335\u001b[0m                     \"%s() only accepts keyword arguments.\" % py_operation_name)\n\u001b[1;32m    336\u001b[0m             \u001b[0;31m# The \"self\" in this scope is referring to the BaseClient.\u001b[0m\u001b[0;34m\u001b[0m\u001b[0;34m\u001b[0m\u001b[0;34m\u001b[0m\u001b[0m\n\u001b[0;32m--> 337\u001b[0;31m             \u001b[0;32mreturn\u001b[0m \u001b[0mself\u001b[0m\u001b[0;34m.\u001b[0m\u001b[0m_make_api_call\u001b[0m\u001b[0;34m(\u001b[0m\u001b[0moperation_name\u001b[0m\u001b[0;34m,\u001b[0m \u001b[0mkwargs\u001b[0m\u001b[0;34m)\u001b[0m\u001b[0;34m\u001b[0m\u001b[0;34m\u001b[0m\u001b[0m\n\u001b[0m\u001b[1;32m    338\u001b[0m \u001b[0;34m\u001b[0m\u001b[0m\n\u001b[1;32m    339\u001b[0m         \u001b[0m_api_call\u001b[0m\u001b[0;34m.\u001b[0m\u001b[0m__name__\u001b[0m \u001b[0;34m=\u001b[0m \u001b[0mstr\u001b[0m\u001b[0;34m(\u001b[0m\u001b[0mpy_operation_name\u001b[0m\u001b[0;34m)\u001b[0m\u001b[0;34m\u001b[0m\u001b[0;34m\u001b[0m\u001b[0m\n",
      "\u001b[0;32m~/anaconda3/envs/python3/lib/python3.6/site-packages/botocore/client.py\u001b[0m in \u001b[0;36m_make_api_call\u001b[0;34m(self, operation_name, api_params)\u001b[0m\n\u001b[1;32m    627\u001b[0m         }\n\u001b[1;32m    628\u001b[0m         request_dict = self._convert_to_request_dict(\n\u001b[0;32m--> 629\u001b[0;31m             api_params, operation_model, context=request_context)\n\u001b[0m\u001b[1;32m    630\u001b[0m \u001b[0;34m\u001b[0m\u001b[0m\n\u001b[1;32m    631\u001b[0m         \u001b[0mservice_id\u001b[0m \u001b[0;34m=\u001b[0m \u001b[0mself\u001b[0m\u001b[0;34m.\u001b[0m\u001b[0m_service_model\u001b[0m\u001b[0;34m.\u001b[0m\u001b[0mservice_id\u001b[0m\u001b[0;34m.\u001b[0m\u001b[0mhyphenize\u001b[0m\u001b[0;34m(\u001b[0m\u001b[0;34m)\u001b[0m\u001b[0;34m\u001b[0m\u001b[0;34m\u001b[0m\u001b[0m\n",
      "\u001b[0;32m~/anaconda3/envs/python3/lib/python3.6/site-packages/botocore/client.py\u001b[0m in \u001b[0;36m_convert_to_request_dict\u001b[0;34m(self, api_params, operation_model, context)\u001b[0m\n\u001b[1;32m    675\u001b[0m             api_params, operation_model, context)\n\u001b[1;32m    676\u001b[0m         request_dict = self._serializer.serialize_to_request(\n\u001b[0;32m--> 677\u001b[0;31m             api_params, operation_model)\n\u001b[0m\u001b[1;32m    678\u001b[0m         \u001b[0;32mif\u001b[0m \u001b[0;32mnot\u001b[0m \u001b[0mself\u001b[0m\u001b[0;34m.\u001b[0m\u001b[0m_client_config\u001b[0m\u001b[0;34m.\u001b[0m\u001b[0minject_host_prefix\u001b[0m\u001b[0;34m:\u001b[0m\u001b[0;34m\u001b[0m\u001b[0;34m\u001b[0m\u001b[0m\n\u001b[1;32m    679\u001b[0m             \u001b[0mrequest_dict\u001b[0m\u001b[0;34m.\u001b[0m\u001b[0mpop\u001b[0m\u001b[0;34m(\u001b[0m\u001b[0;34m'host_prefix'\u001b[0m\u001b[0;34m,\u001b[0m \u001b[0;32mNone\u001b[0m\u001b[0;34m)\u001b[0m\u001b[0;34m\u001b[0m\u001b[0;34m\u001b[0m\u001b[0m\n",
      "\u001b[0;32m~/anaconda3/envs/python3/lib/python3.6/site-packages/botocore/validate.py\u001b[0m in \u001b[0;36mserialize_to_request\u001b[0;34m(self, parameters, operation_model)\u001b[0m\n\u001b[1;32m    295\u001b[0m                                                     operation_model.input_shape)\n\u001b[1;32m    296\u001b[0m             \u001b[0;32mif\u001b[0m \u001b[0mreport\u001b[0m\u001b[0;34m.\u001b[0m\u001b[0mhas_errors\u001b[0m\u001b[0;34m(\u001b[0m\u001b[0;34m)\u001b[0m\u001b[0;34m:\u001b[0m\u001b[0;34m\u001b[0m\u001b[0;34m\u001b[0m\u001b[0m\n\u001b[0;32m--> 297\u001b[0;31m                 \u001b[0;32mraise\u001b[0m \u001b[0mParamValidationError\u001b[0m\u001b[0;34m(\u001b[0m\u001b[0mreport\u001b[0m\u001b[0;34m=\u001b[0m\u001b[0mreport\u001b[0m\u001b[0;34m.\u001b[0m\u001b[0mgenerate_report\u001b[0m\u001b[0;34m(\u001b[0m\u001b[0;34m)\u001b[0m\u001b[0;34m)\u001b[0m\u001b[0;34m\u001b[0m\u001b[0;34m\u001b[0m\u001b[0m\n\u001b[0m\u001b[1;32m    298\u001b[0m         return self._serializer.serialize_to_request(parameters,\n\u001b[1;32m    299\u001b[0m                                                      operation_model)\n",
      "\u001b[0;31mParamValidationError\u001b[0m: Parameter validation failed:\nInvalid type for parameter Body, value: [0, 0, 0, 0, 0, 0, 0, 0, 0, 0, 0, 0, 0, 0, 0, 0, 0, 0, 0, 0, 0, 0, 0, 0, 0, 0, 0, 0, 0, 0, 0, 0, 0, 0, 0, 0, 0, 0, 0, 0, 0, 0, 0, 0, 0, 0, 0, 0, 0, 0, 0, 0, 0, 0, 0, 0, 0, 0, 0, 0, 0, 0, 0, 0, 0, 0, 0, 0, 0, 0, 0, 0, 0, 0, 0, 0, 0, 0, 0, 0, 0, 0, 0, 0, 0, 0, 0, 0, 0, 0, 0, 0, 0, 0, 0, 0, 0, 0, 0, 0, 0, 0, 0, 0, 0, 0, 0, 0, 0, 0, 0, 0, 0, 0, 0, 0, 0, 0, 0, 0, 0, 0, 0, 0, 0, 0, 0, 0, 0, 0, 0, 0, 0, 0, 0, 0, 0, 0, 0, 0, 0, 0, 0, 0, 0, 0, 0, 0, 0, 0, 0, 0, 0, 0, 0, 0, 0, 0, 0, 0, 0, 0, 0, 0, 0, 0, 0, 0, 0, 0, 0, 0, 0, 0, 0, 0, 0, 0, 0, 0, 0, 0, 0, 0, 0, 0, 0, 0, 0, 0, 0, 0, 0, 0, 0, 0, 0, 0, 0, 0, 0, 0, 0, 0, 0, 0, 0, 0, 0, 0, 0, 0, 0, 0, 0, 0, 0, 0, 0, 0, 0, 0, 0, 0, 0, 0, 0, 1, 0, 0, 0, 0, 0, 0, 0, 0, 0, 0, 0, 0, 0, 0, 0, 0, 0, 0, 0, 0, 0, 0, 0, 0, 0, 0, 0, 0, 1, 0, 0, 0, 0, 0, 0, 0, 0, 0, 0, 0, 0, 0, 0, 0, 0, 0, 0, 0, 0, 0, 0, 0, 0, 0, 0, 0, 0, 0, 0, 0, 0, 0, 0, 0, 0, 0, 0, 0, 0, 0, 0, 0, 0, 0, 0, 0, 0, 0, 0, 0, 0, 0, 0, 0, 0, 0, 0, 0, 0, 0, 0, 0, 0, 0, 0, 0, 0, 0, 0, 0, 0, 0, 0, 0, 0, 0, 0, 0, 0, 0, 0, 0, 0, 0, 0, 0, 0, 0, 0, 0, 0, 0, 0, 0, 0, 0, 0, 0, 0, 0, 0, 0, 0, 0, 0, 0, 0, 0, 0, 0, 0, 0, 0, 0, 0, 0, 0, 0, 0, 0, 0, 0, 0, 0, 0, 0, 0, 0, 0, 0, 0, 0, 0, 0, 0, 0, 0, 0, 0, 0, 0, 0, 0, 0, 0, 0, 0, 0, 0, 0, 0, 0, 0, 0, 0, 0, 0, 0, 0, 0, 0, 0, 0, 0, 0, 0, 0, 0, 0, 0, 0, 0, 0, 0, 0, 0, 0, 0, 0, 0, 0, 0, 0, 0, 0, 0, 0, 0, 0, 0, 0, 0, 0, 0, 0, 0, 0, 0, 0, 0, 0, 0, 0, 0, 0, 0, 0, 0, 0, 0, 0, 0, 0, 0, 0, 0, 0, 0, 0, 0, 0, 0, 0, 0, 0, 0, 0, 0, 0, 0, 0, 0, 0, 0, 0, 0, 0, 0, 0, 0, 0, 0, 0, 0, 0, 0, 0, 0, 0, 0, 0, 0, 0, 0, 0, 0, 0, 0, 0, 0, 0, 0, 0, 0, 0, 0, 0, 0, 0, 0, 0, 0, 0, 0, 0, 0, 0, 0, 0, 0, 0, 0, 0, 0, 0, 0, 0, 0, 0, 0, 0, 0, 0, 0, 0, 0, 0, 0, 0, 0, 0, 0, 0, 0, 0, 0, 0, 0, 0, 0, 0, 0, 0, 0, 0, 0, 0, 0, 0, 0, 0, 0, 0, 0, 0, 0, 0, 0, 0, 0, 0, 0, 0, 0, 0, 0, 0, 0, 0, 0, 0, 0, 0, 0, 0, 0, 0, 0, 0, 0, 0, 0, 0, 0, 0, 0, 0, 0, 0, 0, 0, 0, 0, 0, 0, 0, 0, 0, 0, 0, 0, 0, 0, 0, 0, 0, 0, 0, 1, 0, 0, 0, 0, 0, 0, 0, 0, 0, 0, 0, 0, 0, 0, 0, 0, 0, 0, 0, 0, 0, 0, 0, 0, 0, 0, 0, 0, 0, 0, 0, 0, 0, 0, 0, 0, 0, 0, 0, 0, 0, 0, 0, 0, 0, 0, 0, 0, 0, 0, 0, 0, 0, 0, 0, 0, 0, 0, 0, 0, 0, 0, 0, 0, 0, 0, 0, 0, 0, 0, 0, 0, 0, 0, 0, 0, 0, 0, 0, 0, 0, 0, 0, 0, 0, 0, 0, 0, 0, 0, 0, 0, 0, 0, 0, 0, 0, 0, 0, 0, 0, 0, 0, 0, 0, 0, 0, 0, 0, 0, 0, 0, 0, 0, 0, 0, 0, 0, 0, 0, 0, 0, 0, 0, 0, 0, 0, 0, 0, 0, 0, 0, 0, 0, 0, 0, 0, 0, 0, 0, 0, 0, 0, 0, 0, 0, 0, 0, 0, 0, 0, 0, 0, 0, 0, 0, 0, 0, 0, 0, 0, 0, 0, 0, 0, 0, 0, 0, 0, 0, 0, 0, 0, 0, 0, 0, 0, 0, 0, 0, 0, 0, 0, 0, 0, 0, 0, 0, 0, 0, 0, 0, 0, 0, 0, 0, 0, 0, 0, 0, 0, 0, 0, 0, 0, 0, 0, 0, 0, 0, 0, 0, 0, 0, 0, 0, 0, 0, 0, 0, 0, 0, 0, 0, 0, 0, 0, 0, 0, 0, 0, 0, 0, 0, 0, 0, 0, 0, 0, 0, 0, 0, 0, 0, 0, 0, 0, 0, 0, 0, 0, 0, 0, 1, 0, 0, 0, 0, 0, 0, 0, 0, 0, 0, 0, 0, 0, 0, 0, 0, 0, 0, 0, 0, 0, 0, 0, 0, 0, 0, 0, 0, 0, 0, 0, 0, 0, 0, 0, 0, 0, 0, 0, 0, 0, 0, 0, 0, 0, 0, 0, 0, 0, 0, 0, 0, 0, 0, 0, 0, 0, 0, 0, 0, 0, 0, 0, 0, 0, 0, 0, 0, 0, 0, 0, 0, 0, 0, 0, 0, 0, 0, 0, 0, 0, 0, 0, 0, 0, 0, 0, 1, 0, 0, 0, 0, 0, 0, 0, 0, 0, 0, 0, 0, 0, 0, 0, 0, 0, 0, 0, 0, 0, 0, 0, 0, 0, 0, 0, 0, 0, 0, 0, 0, 0, 0, 0, 0, 0, 0, 0, 0, 0, 0, 0, 0, 0, 0, 0, 0, 0, 0, 0, 0, 0, 0, 0, 0, 0, 0, 0, 0, 0, 0, 0, 0, 0, 0, 0, 0, 0, 0, 0, 0, 0, 0, 0, 0, 0, 0, 0, 0, 0, 0, 0, 0, 0, 0, 0, 0, 0, 0, 0, 0, 0, 0, 0, 0, 0, 0, 0, 0, 0, 0, 0, 0, 0, 0, 0, 0, 0, 0, 0, 0, 0, 0, 0, 0, 0, 0, 0, 0, 0, 0, 0, 0, 0, 0, 0, 0, 0, 0, 0, 0, 0, 0, 0, 0, 0, 0, 0, 0, 0, 0, 0, 0, 0, 0, 0, 0, 0, 0, 0, 0, 0, 0, 0, 0, 0, 0, 0, 0, 0, 0, 0, 0, 0, 0, 0, 0, 0, 0, 0, 0, 0, 0, 0, 0, 0, 0, 0, 0, 0, 0, 0, 0, 0, 0, 0, 0, 0, 0, 0, 0, 0, 0, 0, 0, 0, 0, 0, 0, 0, 0, 0, 0, 0, 0, 0, 0, 0, 0, 0, 0, 0, 0, 0, 0, 0, 0, 0, 0, 0, 0, 0, 0, 0, 0, 0, 0, 0, 0, 0, 0, 0, 0, 0, 0, 0, 0, 0, 0, 0, 0, 0, 0, 0, 0, 0, 0, 0, 0, 0, 0, 1, 0, 0, 0, 0, 0, 0, 0, 0, 0, 0, 0, 0, 0, 0, 0, 0, 0, 0, 0, 0, 0, 0, 0, 0, 0, 0, 0, 0, 0, 0, 0, 0, 0, 0, 0, 0, 0, 0, 0, 0, 0, 0, 0, 0, 0, 0, 0, 0, 0, 0, 0, 0, 0, 0, 0, 1, 0, 0, 0, 0, 0, 0, 0, 0, 0, 0, 0, 0, 0, 0, 0, 0, 0, 0, 0, 0, 0, 0, 0, 0, 0, 0, 0, 0, 0, 0, 0, 0, 0, 0, 0, 0, 0, 0, 0, 0, 0, 0, 0, 0, 0, 0, 0, 0, 0, 0, 0, 0, 0, 0, 0, 0, 0, 0, 0, 0, 0, 0, 0, 0, 0, 0, 0, 0, 0, 0, 0, 0, 0, 0, 0, 0, 0, 0, 0, 0, 0, 0, 0, 0, 0, 0, 0, 0, 0, 0, 0, 0, 0, 0, 0, 0, 0, 0, 0, 0, 0, 0, 0, 0, 0, 0, 0, 0, 0, 0, 0, 0, 0, 0, 0, 0, 0, 0, 0, 0, 0, 0, 0, 0, 0, 0, 0, 0, 0, 0, 0, 0, 0, 0, 0, 0, 0, 0, 0, 0, 0, 0, 0, 0, 0, 0, 0, 0, 0, 0, 0, 0, 0, 0, 0, 0, 0, 0, 0, 0, 0, 0, 0, 0, 0, 0, 0, 0, 0, 0, 0, 0, 0, 0, 0, 0, 0, 0, 0, 0, 0, 0, 0, 0, 0, 0, 0, 0, 0, 0, 0, 0, 0, 0, 0, 0, 0, 0, 0, 0, 0, 0, 0, 0, 0, 0, 0, 0, 0, 0, 0, 0, 0, 0, 0, 0, 0, 0, 0, 0, 0, 0, 0, 0, 0, 0, 0, 0, 0, 0, 0, 0, 0, 0, 0, 0, 0, 0, 0, 0, 0, 0, 0, 0, 0, 0, 0, 0, 0, 0, 0, 0, 0, 0, 0, 0, 0, 0, 0, 0, 0, 0, 0, 0, 0, 0, 0, 0, 0, 0, 0, 0, 0, 0, 0, 0, 0, 0, 0, 0, 0, 0, 0, 0, 0, 0, 0, 0, 0, 0, 0, 0, 0, 0, 0, 0, 0, 0, 0, 0, 0, 0, 0, 0, 0, 0, 0, 0, 0, 0, 0, 0, 0, 0, 0, 0, 0, 0, 0, 0, 0, 0, 0, 0, 0, 0, 0, 0, 0, 0, 0, 0, 0, 0, 0, 0, 0, 0, 0, 0, 0, 0, 0, 0, 0, 0, 0, 0, 0, 0, 0, 0, 0, 0, 0, 0, 0, 0, 0, 0, 0, 0, 0, 0, 0, 0, 0, 0, 0, 0, 0, 0, 0, 0, 0, 0, 0, 0, 0, 0, 0, 0, 0, 0, 0, 0, 0, 0, 0, 0, 0, 0, 0, 0, 0, 0, 0, 0, 0, 0, 0, 0, 0, 0, 0, 0, 0, 0, 0, 0, 0, 0, 0, 0, 0, 0, 0, 0, 0, 0, 0, 0, 0, 0, 0, 0, 0, 0, 0, 0, 0, 0, 0, 0, 0, 0, 0, 0, 0, 0, 0, 0, 0, 0, 0, 0, 0, 0, 0, 0, 0, 0, 0, 0, 0, 0, 0, 0, 0, 0, 0, 0, 0, 0, 0, 0, 0, 0, 0, 0, 0, 0, 0, 0, 0, 0, 0, 0, 0, 0, 0, 0, 0, 0, 0, 0, 0, 0, 0, 0, 0, 0, 0, 0, 0, 0, 0, 0, 0, 0, 0, 0, 0, 0, 0, 0, 0, 0, 0, 0, 0, 0, 0, 0, 0, 0, 0, 0, 0, 0, 0, 0, 0, 0, 0, 0, 0, 0, 0, 0, 0, 0, 0, 0, 0, 0, 0, 0, 0, 0, 0, 0, 0, 0, 0, 0, 0, 0, 0, 0, 0, 0, 0, 0, 0, 0, 0, 0, 0, 0, 0, 0, 0, 0, 0, 0, 0, 0, 0, 0, 0, 0, 0, 0, 0, 0, 0, 0, 0, 0, 0, 0, 0, 0, 0, 0, 0, 0, 0, 0, 0, 0, 0, 0, 0, 0, 0, 0, 0, 0, 0, 0, 0, 0, 0, 0, 0, 0, 0, 0, 0, 0, 0, 0, 0, 0, 0, 0, 0, 0, 0, 0, 0, 0, 0, 0, 0, 0, 0, 0, 0, 0, 0, 0, 0, 0, 0, 0, 0, 0, 0, 0, 0, 0, 0, 0, 0, 0, 0, 0, 0, 0, 0, 0, 0, 0, 0, 0, 0, 0, 0, 0, 0, 0, 0, 0, 0, 0, 0, 0, 0, 0, 0, 0, 0, 0, 0, 0, 0, 0, 0, 1, 0, 0, 0, 0, 0, 0, 0, 0, 0, 0, 0, 0, 0, 0, 0, 0, 0, 0, 0, 0, 0, 0, 0, 0, 0, 0, 0, 0, 0, 0, 0, 0, 0, 0, 0, 0, 0, 0, 0, 0, 0, 0, 0, 0, 0, 0, 0, 0, 0, 0, 0, 0, 0, 0, 0, 0, 0, 0, 0, 0, 0, 0, 0, 0, 0, 0, 0, 0, 0, 0, 0, 0, 0, 0, 1, 0, 0, 0, 0, 0, 0, 0, 0, 0, 0, 0, 0, 0, 0, 0, 0, 0, 0, 0, 0, 1, 0, 0, 1, 0, 0, 0, 0, 0, 0, 0, 0, 0, 0, 0, 0, 0, 0, 0, 0, 0, 0, 0, 0, 0, 0, 0, 0, 0, 0, 0, 0, 0, 0, 0, 0, 0, 0, 0, 0, 0, 0, 0, 0, 0, 0, 0, 0, 0, 0, 0, 0, 0, 0, 0, 0, 0, 0, 0, 0, 0, 0, 0, 0, 0, 0, 0, 0, 0, 0, 0, 0, 0, 0, 0, 0, 0, 0, 0, 0, 0, 0, 0, 0, 0, 0, 0, 0, 0, 0, 0, 0, 0, 0, 0, 0, 0, 0, 0, 0, 0, 0, 0, 0, 0, 0, 0, 0, 0, 0, 0, 0, 0, 0, 0, 0, 0, 0, 0, 0, 0, 0, 0, 0, 0, 0, 0, 0, 0, 0, 0, 0, 0, 0, 0, 0, 0, 0, 0, 0, 0, 0, 0, 0, 0, 0, 0, 0, 0, 0, 0, 0, 0, 0, 0, 0, 0, 0, 0, 0, 0, 0, 0, 0, 0, 0, 0, 0, 0, 0, 0, 0, 0, 0, 0, 0, 0, 0, 0, 0, 0, 0, 0, 0, 0, 0, 0, 0, 0, 0, 0, 0, 0, 0, 0, 0, 0, 0, 0, 0, 0, 0, 0, 0, 0, 0, 0, 0, 0, 0, 0, 0, 0, 0, 0, 0, 0, 0, 0, 0, 0, 0, 0, 0, 0, 0, 0, 0, 0, 0, 0, 0, 0, 0, 0, 0, 0, 0, 0, 0, 0, 0, 0, 0, 0, 0, 0, 0, 0, 0, 0, 0, 0, 0, 0, 0, 0, 0, 0, 0, 0, 0, 0, 0, 0, 0, 0, 0, 0, 0, 0, 0, 0, 0, 0, 0, 0, 0, 0, 0, 0, 0, 0, 0, 0, 0, 0, 0, 0, 0, 0, 0, 0, 0, 0, 0, 0, 0, 0, 0, 0, 0, 0, 0, 0, 0, 0, 0, 0, 0, 0, 0, 0, 0, 0, 0, 0, 0, 0, 0, 0, 0, 0, 0, 0, 0, 0, 0, 0, 0, 0, 0, 0, 0, 0, 0, 0, 0, 0, 0, 0, 0, 0, 0, 0, 0, 0, 0, 0, 0, 0, 0, 0, 0, 0, 0, 0, 0, 0, 0, 0, 0, 0, 0, 0, 0, 0, 0, 0, 0, 0, 0, 0, 0, 0, 0, 0, 0, 0, 0, 0, 0, 0, 0, 0, 0, 0, 0, 0, 0, 0, 0, 0, 0, 0, 0, 0, 0, 0, 0, 0, 0, 0, 0, 0, 0, 0, 0, 0, 0, 0, 0, 0, 0, 0, 0, 0, 0, 0, 0, 0, 0, 0, 0, 0, 0, 0, 0, 0, 0, 0, 0, 0, 0, 0, 0, 0, 0, 0, 0, 0, 0, 0, 0, 0, 0, 0, 0, 0, 0, 0, 0, 0, 0, 0, 0, 0, 0, 0, 0, 0, 0, 0, 0, 0, 0, 0, 0, 0, 1, 0, 0, 0, 0, 0, 0, 0, 0, 0, 0, 0, 0, 0, 0, 0, 0, 0, 0, 0, 0, 0, 0, 0, 0, 0, 0, 0, 0, 0, 0, 0, 0, 0, 0, 0, 0, 0, 0, 0, 0, 0, 0, 0, 0, 0, 0, 0, 0, 0, 0, 0, 0, 0, 0, 0, 0, 0, 0, 0, 0, 0, 0, 0, 0, 0, 0, 0, 0, 0, 0, 0, 0, 0, 0, 0, 0, 0, 0, 0, 0, 0, 0, 0, 0, 0, 0, 0, 0, 0, 0, 0, 0, 0, 0, 0, 0, 0, 0, 0, 0, 0, 0, 0, 0, 0, 0, 0, 0, 0, 0, 0, 0, 0, 0, 0, 0, 0, 0, 0, 0, 0, 0, 0, 0, 0, 0, 0, 0, 0, 0, 0, 0, 0, 0, 0, 0, 0, 0, 0, 0, 0, 0, 0, 0, 0, 0, 0, 0, 0, 0, 0, 0, 0, 0, 0, 0, 0, 0, 0, 0, 0, 0, 0, 0, 0, 0, 0, 0, 0, 0, 0, 0, 0, 0, 0, 0, 0, 0, 0, 0, 0, 0, 0, 0, 0, 0, 0, 0, 0, 0, 0, 0, 0, 0, 0, 0, 0, 0, 0, 0, 0, 0, 0, 0, 0, 0, 0, 0, 0, 0, 0, 0, 0, 0, 0, 0, 0, 0, 0, 0, 0, 0, 0, 0, 0, 0, 0, 0, 0, 0, 0, 0, 0, 0, 0, 0, 0, 0, 0, 0, 0, 0, 0, 0, 0, 0, 0, 0, 0, 0, 0, 0, 0, 0, 0, 0, 0, 0, 0, 0, 0, 0, 0, 0, 0, 0, 0, 0, 0, 0, 0, 0, 0, 0, 0, 0, 0, 0, 0, 0, 0, 0, 0, 0, 0, 0, 0, 0, 0, 0, 0, 0, 0, 0, 0, 0, 0, 0, 0, 0, 0, 0, 0, 0, 0, 0, 0, 0, 0, 0, 0, 0, 0, 0, 0, 0, 0, 0, 0, 0, 0, 0, 0, 0, 0, 0, 0, 0, 0, 0, 0, 0, 0, 0, 0, 0, 0, 0, 0, 0, 0, 0, 0, 0, 0, 0, 0, 0, 0, 0, 0, 0, 0, 0, 0, 0, 0, 0, 0, 0, 0, 0, 0, 0, 0, 0, 0, 0, 0, 0, 0, 0, 0, 0, 0, 0, 0, 0, 0, 0, 0, 0, 0, 0, 0, 0, 0, 0, 0, 0, 0, 0, 0, 0, 0, 0, 0, 0, 0, 0, 0, 0, 0, 0, 0, 0, 0, 0, 0, 0, 0, 0, 0, 0, 0, 0, 0, 0, 0, 0, 0, 0, 0, 0, 0, 0, 0, 0, 0, 0, 0, 0, 0, 0, 0, 0, 0, 0, 0, 0, 0, 0, 0, 0, 0, 0, 0, 0, 0, 0, 0, 0, 0, 0, 0, 0, 0, 0, 0, 0, 0, 0, 0, 0, 0, 0, 0, 0, 0, 0, 0, 0, 0, 0, 0, 0, 0, 0, 0, 0, 0, 0, 0, 0, 0, 0, 0, 0, 0, 0, 0, 0, 0, 0, 0, 0, 0, 0, 0, 0, 0, 0, 0, 0, 0, 0, 0, 0, 0, 0, 0, 1, 0, 0, 0, 0, 0, 0, 0, 0, 0, 0, 0, 0, 0, 0, 0, 0, 0, 0, 0, 0, 0, 0, 0, 0, 0, 0, 0, 0, 0, 0, 0, 0, 0, 0, 0, 2, 0, 0, 0, 0, 0, 0, 0, 0, 0, 0, 0, 0, 0, 0, 0, 0, 0, 0, 0, 0, 0, 0, 0, 0, 0, 0, 0, 0, 0, 0, 0, 0, 0, 0, 0, 0, 0, 0, 0, 0, 1, 0, 0, 0, 0, 0, 0, 0, 0, 0, 0, 0, 0, 0, 0, 0, 0, 0, 0, 0, 0, 0, 0, 0, 0, 0, 0, 0, 0, 0, 0, 0, 0, 0, 0, 0, 0, 0, 0, 0, 0, 0, 0, 0, 0, 0, 0, 0, 0, 0, 0, 0, 0, 0, 0, 0, 0, 0, 0, 0, 0, 0, 0, 0, 0, 0, 0, 0, 0, 0, 0, 0, 0, 0, 0, 0, 0, 0, 0, 0, 0, 0, 0, 0, 0, 0, 0, 0, 0, 0, 0, 0, 0, 0, 0, 0, 0, 0, 0, 0, 0, 0, 0, 0, 0, 0, 0, 0, 0, 0, 0, 0, 0, 0, 0, 0, 0, 0, 0, 0, 0, 0, 0, 0, 0, 0, 0, 0, 0, 0, 0, 0, 0, 0, 0, 0, 0, 0, 0, 0, 0, 0, 0, 0, 0, 0, 0, 0, 0, 0, 0, 0, 0, 0, 0, 0, 0, 0, 0, 0, 0, 0, 0, 0, 0, 0, 0, 0, 0, 0, 0, 0, 0, 0, 0, 0, 0, 0, 0, 0, 0, 0, 0, 0, 0, 0, 0, 0, 0, 0, 0, 0, 0, 0, 0, 0, 0, 0, 0, 0, 0, 0, 0, 0, 0, 0, 0, 0, 0, 0, 0, 0, 0, 0, 0, 0, 0, 0, 0, 0, 0, 0, 0, 0, 0, 0, 0, 0, 0, 0, 0, 0, 0, 0, 0, 0, 0, 0, 0, 0, 0, 0, 0, 0, 0, 0, 0, 0, 0, 0, 0, 0, 0, 0, 0, 0, 0, 0, 0, 0, 0, 0, 0, 0, 0, 0, 0, 0, 0, 0, 0, 0, 0, 0, 0, 0, 0, 0, 0, 0, 0, 0, 0, 0, 0, 0, 0, 0, 0, 0, 0, 0, 0, 0, 0, 0, 0, 0, 0, 0, 0, 0, 0, 0, 0, 0, 0, 0, 0, 0, 0, 0, 0, 0, 0, 0, 0, 0, 0, 0, 0, 0, 0, 0, 0, 0, 0, 0, 0, 0, 0, 0, 0, 0, 0, 0, 0, 0, 0, 0, 0, 0, 0, 0, 0, 0, 0, 0, 0, 0, 0, 0, 0, 0, 0, 0, 0, 0, 0, 0, 0, 0, 0, 0, 0, 0, 0, 0, 0, 0, 0, 0, 0, 0, 0, 0, 0, 0, 0, 0, 0, 0, 0, 0, 0, 0, 0, 0, 0, 0, 0, 0, 0, 0, 0, 0, 0, 0, 0, 0, 0, 0, 0, 0, 0, 0, 0, 0, 0, 0, 0, 0, 0, 0, 0, 0, 0, 0, 0, 0, 0, 0, 0, 0, 0, 0, 0, 0, 0, 0, 0, 0, 0, 0, 0, 0, 0, 0, 0, 0, 0, 0, 0, 0, 0, 0, 0, 0, 0, 0, 0, 0, 0, 0, 0, 0, 0, 0, 0, 0, 0, 0, 0, 0, 0, 0, 0, 0, 0, 0, 0, 0, 0, 0, 0, 0, 0, 0, 0, 0, 0, 0, 0, 0, 0, 0, 0, 0, 0, 0, 0, 0, 0, 0, 0, 0, 0, 0, 0, 0, 1, 0, 0, 0, 0, 0, 0, 0, 0, 0, 0, 0, 0, 0, 0, 0, 0, 0, 0, 0, 0, 0, 0, 0, 0, 0, 0, 0, 0, 0, 0, 0, 0, 0, 0, 0, 0, 0, 0, 0, 0, 0, 0, 0, 0, 0, 0, 0, 0, 0, 0, 0, 0, 0, 0, 0, 0, 0, 0, 0, 0, 0, 0, 0, 0, 0, 0, 0, 0, 0, 0, 0, 0, 0, 0, 0, 0, 0, 0, 0, 0, 0, 0, 0, 0, 0, 0, 0, 0, 0, 0, 0, 0, 0, 0, 0, 0, 0, 0, 0, 0, 0, 0, 0, 0, 0, 0, 0, 0, 0, 2, 0, 0, 0, 0, 0, 0, 0, 0, 0, 0, 0, 0, 0, 0, 0, 0, 0, 0, 0, 0, 0, 0, 0, 0, 0, 0, 0, 0, 0, 0, 0, 0, 0, 0, 0, 0, 0, 0, 0, 0, 0, 0, 0, 0, 0, 0, 0, 0, 0, 0, 0, 0, 0, 0, 0, 0, 0, 0, 0, 0, 0, 0, 0, 0, 0, 0, 0, 0, 0, 0, 0, 0, 0, 0, 0, 0, 0, 0, 0, 0, 0, 0, 0, 0, 0, 0, 0, 0, 0, 0, 0, 0, 0, 0, 0, 0, 0, 0, 0, 0, 0, 0, 0, 0, 0, 0, 0, 0, 0, 0, 0, 0, 0, 0, 0, 0, 0, 0, 0, 0, 0, 0, 0, 0, 0, 0, 0, 0, 0, 0, 0, 0, 0, 0, 0, 0, 0, 0, 0, 0, 0, 0, 0, 0, 0, 0, 0, 0, 0, 0, 0, 0, 0, 0, 0, 0, 0, 0, 0, 0, 0, 0, 0, 0, 0, 0, 0, 0, 0, 0, 0, 0, 0, 0, 0, 0, 0, 0, 0, 0, 0, 0, 0, 0, 0, 0, 0, 0, 0, 0, 0, 0, 0, 0, 0, 0, 0, 0, 0, 0, 0, 0, 0, 0, 0, 0, 0, 0, 0, 0, 0, 0, 0, 0, 0, 0, 0, 0, 0, 0, 0, 0, 0, 0, 0, 0, 0, 0, 0, 0, 0, 0, 0, 0, 0, 0, 0, 0, 0, 0, 0, 0, 0, 0, 0, 0, 0, 0, 0, 0, 0, 0, 0, 0, 0, 0, 0, 0, 0, 0, 0, 0, 0, 0, 0, 0, 0, 0, 0, 0, 0, 0, 0, 0, 0, 0, 0, 0, 0, 0, 0, 0, 0, 0, 0, 0, 0, 0, 0, 0, 0, 0, 0, 0, 0, 0, 0, 0, 0, 0, 0, 0, 0, 0, 0, 0, 0, 0, 0, 0, 0, 0, 0, 0, 0, 0, 0, 0, 0, 0, 0, 0, 0, 0, 0, 0, 0, 0, 0, 0, 0, 0, 0, 0, 0, 0, 0, 0, 0, 0, 0, 0, 0, 0, 0, 0, 0, 0, 0, 0, 0, 0, 0, 0, 0, 0, 0, 0, 0, 0, 0, 0, 0, 0, 0, 0, 0, 0, 0, 0, 0, 0, 0, 0, 0, 0, 0, 0, 0, 0, 0, 0, 0, 0, 0, 0, 0, 0, 0, 0, 0, 0, 0, 0, 0, 0, 0, 0, 0, 0, 0, 0, 0, 0, 0, 0, 0, 0, 0, 0, 0, 0, 0, 0, 0, 0, 0, 0, 0, 0, 0, 0, 0, 0, 0, 0, 0, 0, 0, 0, 0, 0, 0, 0, 0, 0, 0, 0, 0, 0, 0, 0, 0, 0, 0, 0, 0, 0, 0, 0, 0, 0, 0, 0, 0, 0, 0, 0, 0, 0, 0, 0, 0, 0, 0, 0, 0, 0, 0, 0, 0, 0, 0, 0, 0, 0, 0, 0, 0, 0, 0, 0, 0, 0, 0, 0, 0, 0, 0, 0, 0, 0, 0, 0, 0, 0, 0, 0, 0, 0, 0, 0, 0, 0, 0, 0, 0, 0, 0, 0, 0, 0, 0, 0, 0, 0, 0, 0, 0, 0, 0, 0, 0, 0, 0, 0, 0, 0, 0, 0, 0, 0, 0, 0, 0, 0, 0, 0, 0, 0, 0, 0, 0, 0, 0, 0, 0, 0, 0, 0, 0, 0, 0, 0, 0, 0, 0, 0, 0, 0, 0, 0, 0, 0, 0, 0, 0, 0, 0, 0, 0, 0, 0, 0, 0, 0, 0, 0, 0, 0, 0, 0, 0, 0, 0, 0, 0, 0, 0, 0, 0, 0, 0, 0, 0, 0, 0, 0, 0, 0, 0, 0, 0, 0, 0, 0, 0, 0, 0, 0, 0, 0, 0, 0, 0, 0, 0, 0, 0, 0, 0, 0, 0, 0, 0, 0, 0, 0, 0, 0, 0, 0, 0, 0, 0, 0, 0, 0, 0, 0, 0, 0, 0, 0, 0, 0, 0, 0, 0, 0, 0, 0, 0, 0, 0, 0, 0, 0, 0, 0, 0, 0, 0, 0, 0, 0, 0, 0, 0, 0, 0, 0, 0, 0, 0, 0, 0, 0, 0, 0, 0, 0, 0, 0, 0, 0, 0, 0, 0, 0, 1, 0, 0, 0, 0, 0, 0, 0, 0, 0, 0, 0, 0, 0, 0, 0, 0, 0, 0, 0, 0, 0, 0, 0, 0, 0, 0, 0, 0, 0, 0, 0, 0, 0, 0, 0, 0, 0, 0, 0, 0, 0, 0, 0, 0, 0, 0, 0, 0, 0, 0, 0, 0, 0, 0, 0, 0, 0, 0, 0, 0, 0, 0, 0, 0, 0, 0, 0, 0, 0, 0, 0, 0, 0, 0, 0, 0, 0, 0, 0, 0, 0, 0, 0, 0, 0, 0, 0, 0, 0, 0, 0, 0, 0, 0, 0, 0, 0, 0, 0, 0, 0, 0, 0, 0, 0, 0, 0, 1, 0, 0, 0, 0, 0, 0, 0, 0, 0, 0, 0, 0, 0, 0, 0, 0, 0, 0, 0, 0, 0, 0, 0, 0, 0, 0, 0, 0, 0, 0, 0, 0, 0, 0, 0, 0, 0, 0, 0, 0, 0, 0, 0, 0, 0, 0, 0, 0, 0, 0, 0, 0, 0, 0, 0, 0, 0, 0, 0, 0, 0, 0, 0, 0, 0, 0, 0, 0, 0, 0, 0, 0, 0, 0, 0, 0, 0, 0, 0, 0, 0, 0, 0, 0, 0, 0, 0, 0, 0, 0, 0, 0, 0, 0, 0, 0, 0, 0, 0, 0, 0, 0, 0, 0, 0, 0, 0, 0, 0, 0, 0, 0, 0, 0, 0, 0, 0, 0, 0, 0, 0, 0, 0, 0, 0, 0, 0, 0, 0, 0, 0, 0, 0, 0, 0, 0, 0, 0, 0, 0, 0, 0, 0, 0, 0, 0, 0, 0, 0, 0, 0, 0, 0, 0, 0, 0, 0, 0, 0, 0, 0, 0, 0, 0, 0, 0, 0, 0, 0, 0, 0, 0, 0, 0, 0, 0, 0, 0, 0, 0, 0, 0, 0, 0, 0, 0, 0, 0, 0, 0, 0, 0, 0, 0, 0, 0, 0, 0, 0, 0, 0, 0, 0, 0, 0, 0, 0, 0, 0, 0, 0, 0, 0, 0, 0, 0, 0, 0, 0, 0, 0, 0, 0, 0, 0, 0, 0, 0, 0, 0, 0, 0, 0, 0, 0, 0, 0, 0, 0, 0, 0, 0, 0, 0, 0, 0, 0, 0, 0, 0, 0, 0, 0, 0, 0, 0, 0, 0, 0, 0, 0, 0, 0, 0, 0, 0, 0, 0, 0, 0, 0, 0, 0, 0, 0, 0, 0, 0, 0, 0, 0, 0, 0, 0, 0, 0, 0, 0, 0, 0, 0, 0, 0, 0, 0, 0, 0, 0, 0, 0, 0, 0, 0, 0, 0, 0, 0, 0, 0, 0, 0, 0, 0, 0, 0, 0, 0, 0, 0, 0, 0, 0, 0, 0, 0, 0, 0, 0, 0, 0, 0, 0, 0, 0, 0, 0, 0, 0, 0, 0, 0, 0, 0, 0, 0, 0, 0, 0, 0, 0, 0, 0, 0, 0, 0, 0, 0, 0, 0, 0, 0, 0, 0, 0, 0, 0, 0, 0, 0, 0, 0, 0, 0, 0, 0, 0, 0, 0, 0, 0, 0, 0, 0, 0, 0, 0, 0, 0, 0, 0, 0, 0, 0, 0, 0, 0, 0, 0, 0, 0, 0, 0, 0, 0, 0, 0, 0, 0, 0, 0, 0, 0, 0, 0, 0, 0, 0, 0, 0, 0, 0, 0, 0, 0, 0, 0, 0, 0, 0, 0, 0, 0, 0, 0, 0, 0, 0, 0, 0, 0, 0, 0, 0, 0, 0, 0, 0, 0, 0, 0, 0, 0, 0, 0, 0, 0, 0, 0, 0, 0, 0, 0, 0, 2, 0, 1, 0], type: <class 'list'>, valid types: <class 'bytes'>, <class 'bytearray'>, file-like object"
     ]
    }
   ],
   "source": [
    "response = runtime.invoke_endpoint(EndpointName = xgb_predictor.endpoint, # The name of the endpoint we created\n",
    "                                       ContentType = 'text/csv',                     # The data format that is expected\n",
    "                                       Body = test_bow)"
   ]
  },
  {
   "cell_type": "markdown",
   "metadata": {},
   "source": [
    "So why did we get an error?\n",
    "\n",
    "Because we tried to send the endpoint a list of integers but it expected us to send data of type `text/csv`. So, we need to convert it."
   ]
  },
  {
   "cell_type": "code",
   "execution_count": 47,
   "metadata": {},
   "outputs": [],
   "source": [
    "response = runtime.invoke_endpoint(EndpointName = xgb_predictor.endpoint, # The name of the endpoint we created\n",
    "                                       ContentType = 'text/csv',                     # The data format that is expected\n",
    "                                       Body = ','.join([str(val) for val in test_bow]).encode('utf-8'))"
   ]
  },
  {
   "cell_type": "code",
   "execution_count": 48,
   "metadata": {},
   "outputs": [
    {
     "name": "stdout",
     "output_type": "stream",
     "text": [
      "{'ResponseMetadata': {'RequestId': '79ca059b-5fec-4c5c-8f11-22ecbdb305a0', 'HTTPStatusCode': 200, 'HTTPHeaders': {'x-amzn-requestid': '79ca059b-5fec-4c5c-8f11-22ecbdb305a0', 'x-amzn-invoked-production-variant': 'AllTraffic', 'date': 'Thu, 10 Sep 2020 07:52:43 GMT', 'content-type': 'text/csv; charset=utf-8', 'content-length': '14'}, 'RetryAttempts': 0}, 'ContentType': 'text/csv; charset=utf-8', 'InvokedProductionVariant': 'AllTraffic', 'Body': <botocore.response.StreamingBody object at 0x7fb04aa3d748>}\n"
     ]
    }
   ],
   "source": [
    "print(response)"
   ]
  },
  {
   "cell_type": "markdown",
   "metadata": {},
   "source": [
    "As we can see, the response from our model is a somewhat complicated looking dict that contains a bunch of information. The bit that we are most interested in is `'Body'` object which is a streaming object that we need to `read` in order to make use of."
   ]
  },
  {
   "cell_type": "code",
   "execution_count": 49,
   "metadata": {},
   "outputs": [
    {
     "name": "stdout",
     "output_type": "stream",
     "text": [
      "0.453777730465\n"
     ]
    }
   ],
   "source": [
    "response = response['Body'].read().decode('utf-8')\n",
    "print(response)"
   ]
  },
  {
   "cell_type": "markdown",
   "metadata": {},
   "source": [
    "Now that we know how to process the incoming user data we can start setting up the infrastructure to make our simple web app work. To do this we will make use of two different services. Amazon's Lambda and API Gateway services.\n",
    "\n",
    "Lambda is a service which allows someone to write some relatively simple code and have it executed whenever a chosen trigger occurs. For example, you may want to update a database whenever new data is uploaded to a folder stored on S3.\n",
    "\n",
    "API Gateway is a service that allows you to create HTTP endpoints (url addresses) which are connected to other AWS services. One of the benefits to this is that you get to decide what credentials, if any, are required to access these endpoints.\n",
    "\n",
    "In our case we are going to set up an HTTP endpoint through API Gateway which is open to the public. Then, whenever anyone sends data to our public endpoint we will trigger a Lambda function which will send the input (in our case a review) to our model's endpoint and then return the result."
   ]
  },
  {
   "cell_type": "markdown",
   "metadata": {},
   "source": [
    "### Setting up a Lambda function\n",
    "\n",
    "The first thing we are going to do is set up a Lambda function. This Lambda function will be executed whenever our public API has data sent to it. When it is executed it will receive the data, perform any sort of processing that is required, send the data (the review) to the SageMaker endpoint we've created and then return the result.\n",
    "\n",
    "#### Part A: Create an IAM Role for the Lambda function\n",
    "\n",
    "Since we want the Lambda function to call a SageMaker endpoint, we need to make sure that it has permission to do so. To do this, we will construct a role that we can later give the Lambda function.\n",
    "\n",
    "Using the AWS Console, navigate to the **IAM** page and click on **Roles**. Then, click on **Create role**. Make sure that the **AWS service** is the type of trusted entity selected and choose **Lambda** as the service that will use this role, then click **Next: Permissions**.\n",
    "\n",
    "In the search box type `sagemaker` and select the check box next to the **AmazonSageMakerFullAccess** policy. Then, click on **Next: Review**.\n",
    "\n",
    "Lastly, give this role a name. Make sure you use a name that you will remember later on, for example `LambdaSageMakerRole`. Then, click on **Create role**."
   ]
  },
  {
   "cell_type": "markdown",
   "metadata": {},
   "source": [
    "#### Part B: Create a Lambda function\n",
    "\n",
    "Now it is time to actually create the Lambda function. Remember from earlier that in order to process the user provided input and send it to our endpoint we need to gather two pieces of information:\n",
    "\n",
    " - The name of the endpoint, and\n",
    " - the vocabulary object.\n",
    "\n",
    "We will copy these pieces of information to our Lambda function after we create it.\n",
    "\n",
    "To start, using the AWS Console, navigate to the AWS Lambda page and click on **Create a function**. When you get to the next page, make sure that **Author from scratch** is selected. Now, name your Lambda function, using a name that you will remember later on, for example `sentiment_analysis_xgboost_func`. Make sure that the **Python 3.6** runtime is selected and then choose the role that you created in the previous part. Then, click on **Create Function**.\n",
    "\n",
    "On the next page you will see some information about the Lambda function you've just created. If you scroll down you should see an editor in which you can write the code that will be executed when your Lambda function is triggered. Collecting the code we wrote above to process a single review and adding it to the provided example `lambda_handler` we arrive at the following.\n",
    "\n",
    "```python\n",
    "# We need to use the low-level library to interact with SageMaker since the SageMaker API\n",
    "# is not available natively through Lambda.\n",
    "import boto3\n",
    "\n",
    "# And we need the regular expression library to do some of the data processing\n",
    "import re\n",
    "\n",
    "REPLACE_NO_SPACE = re.compile(\"(\\.)|(\\;)|(\\:)|(\\!)|(\\')|(\\?)|(\\,)|(\\\")|(\\()|(\\))|(\\[)|(\\])\")\n",
    "REPLACE_WITH_SPACE = re.compile(\"(<br\\s*/><br\\s*/>)|(\\-)|(\\/)\")\n",
    "\n",
    "def review_to_words(review):\n",
    "    words = REPLACE_NO_SPACE.sub(\"\", review.lower())\n",
    "    words = REPLACE_WITH_SPACE.sub(\" \", words)\n",
    "    return words\n",
    "    \n",
    "def bow_encoding(words, vocabulary):\n",
    "    bow = [0] * len(vocabulary) # Start by setting the count for each word in the vocabulary to zero.\n",
    "    for word in words.split():  # For each word in the string\n",
    "        if word in vocabulary:  # If the word is one that occurs in the vocabulary, increase its count.\n",
    "            bow[vocabulary[word]] += 1\n",
    "    return bow\n",
    "\n",
    "\n",
    "def lambda_handler(event, context):\n",
    "    \n",
    "    vocab = \"*** ACTUAL VOCABULARY GOES HERE ***\"\n",
    "    \n",
    "    words = review_to_words(event['body'])\n",
    "    bow = bow_encoding(words, vocab)\n",
    "\n",
    "    # The SageMaker runtime is what allows us to invoke the endpoint that we've created.\n",
    "    runtime = boto3.Session().client('sagemaker-runtime')\n",
    "\n",
    "    # Now we use the SageMaker runtime to invoke our endpoint, sending the review we were given\n",
    "    response = runtime.invoke_endpoint(EndpointName = '***ENDPOINT NAME HERE***',# The name of the endpoint we created\n",
    "                                       ContentType = 'text/csv',                 # The data format that is expected\n",
    "                                       Body = ','.join([str(val) for val in bow]).encode('utf-8')) # The actual review\n",
    "\n",
    "    # The response is an HTTP response whose body contains the result of our inference\n",
    "    result = response['Body'].read().decode('utf-8')\n",
    "    \n",
    "    # Round the result so that our web app only gets '1' or '0' as a response.\n",
    "    result = round(float(result))\n",
    "\n",
    "    return {\n",
    "        'statusCode' : 200,\n",
    "        'headers' : { 'Content-Type' : 'text/plain', 'Access-Control-Allow-Origin' : '*' },\n",
    "        'body' : str(result)\n",
    "    }\n",
    "```"
   ]
  },
  {
   "cell_type": "markdown",
   "metadata": {},
   "source": [
    "Once you have copy and pasted the code above into the Lambda code editor, replace the `**ENDPOINT NAME HERE**` portion with the name of the endpoint that we deployed earlier. You can determine the name of the endpoint using the code cell below."
   ]
  },
  {
   "cell_type": "code",
   "execution_count": 50,
   "metadata": {},
   "outputs": [
    {
     "data": {
      "text/plain": [
       "'xgboost-2020-09-10-07-21-06-119'"
      ]
     },
     "execution_count": 50,
     "metadata": {},
     "output_type": "execute_result"
    }
   ],
   "source": [
    "xgb_predictor.endpoint"
   ]
  },
  {
   "cell_type": "markdown",
   "metadata": {},
   "source": [
    "In addition, you will need to copy the vocabulary dict to the appropriate place in the code at the beginning of the `lambda_handler` method. The cell below prints out the vocabulary dict in a way that is easy to copy and paste."
   ]
  },
  {
   "cell_type": "code",
   "execution_count": 51,
   "metadata": {},
   "outputs": [
    {
     "name": "stdout",
     "output_type": "stream",
     "text": [
      "{'as': 311, 'big': 478, 'texas': 4418, 'and': 227, 'equally': 1512, 'boring': 543, 'even': 1535, 'taylor': 4371, 'james': 2379, 'dean': 1140, 'dennis': 1180, 'hopper': 2162, 'cant': 671, 'this': 4457, 'boat': 523, 'actually': 110, 'looks': 2649, 'bad': 382, 'wrong': 4973, 'hair': 2006, 'makeup': 2717, 'unique': 4661, 'in': 2258, 'her': 2086, 'remarkable': 3614, 'career': 686, 'gives': 1915, 'the': 4426, 'only': 3109, 'believable': 453, 'performance': 3229, 'climactic': 848, 'scene': 3809, 'displays': 1294, 'talent': 4353, 'something': 4066, 'we': 4823, 'usually': 4700, 'dont': 1325, 'remember': 3617, 'him': 2111, 'for': 1785, 'comic': 893, 'actor': 104, 'rock': 3720, 'hudson': 2185, 'is': 2361, 'his': 2119, 'usual': 4699, 'of': 3082, 'doll': 1314, 'ken': 2454, 'makes': 2716, 'one': 3106, 'wonder': 4926, 'what': 4858, 'say': 3799, 'could': 1008, 'have': 2053, 'done': 1323, 'with': 4911, 'male': 2719, 'lead': 2545, 'there': 4438, 'no': 3019, 'plot': 3310, 'that': 4424, 'provides': 3451, 'any': 256, 'tension': 4404, 'until': 4679, 'final': 1723, 'twenty': 4611, 'minutes': 2859, 'just': 2438, 'little': 2624, 'relationship': 3598, 'to': 4507, 'each': 1396, 'other': 3135, 'except': 1558, 'character': 758, 'development': 1226, 'collection': 874, 'cardboard': 682, 'pop': 3331, 'up': 4682, 'reason': 3559, 'like': 2599, 'random': 3515, 'shooting': 3943, 'its': 2371, 'credit': 1050, 'film': 1717, 'does': 1309, 'racism': 3503, 'at': 331, 'time': 4495, 'when': 4862, 'they': 4442, 'were': 4848, 'subjects': 4254, 'it': 2367, 'size': 4012, 'making': 2718, 'an': 224, 'excellent': 1557, 'choice': 797, 'yourself': 4993, 'house': 2179, 'those': 4460, 'dvd': 1392, 'version': 4720, 'can': 665, 'spare': 4093, 'themselves': 4435, 'some': 4061, 'by': 642, 'starting': 4158, 'second': 3846, 'you': 4986, 'wont': 4932, 'be': 418, 'missing': 2869, 'anything': 260, 'interest': 2324, 'think': 4452, 'women': 4923, 'prison': 3402, 'my': 2950, 'mind': 2849, 'often': 3094, 'goes': 1931, 'sleazy': 4023, 'italian': 2368, 'spanish': 4092, 'productions': 3421, 'directors': 1267, 'such': 4268, 'franco': 1821, 'while': 4868, 'these': 4441, 'films': 1722, 'are': 285, 'very': 4723, 'theyre': 4445, 'also': 200, 'once': 3105, 'youve': 4995, 'seen': 3865, 'might': 2835, 'well': 4843, 'them': 4432, 'all': 188, 'admit': 123, 'types': 4621, 'generally': 1882, 'arent': 288, 'but': 636, 'fact': 1623, 'idea': 2214, 'behind': 447, 'has': 2044, 'been': 438, 'on': 3104, 'several': 3905, 'outside': 3146, 'italy': 2369, 'spain': 4091, 'roger': 3724, 'new': 3002, 'world': 4946, 'pictures': 3271, 'responsible': 3657, 'best': 469, 'heat': 2068, 'directorial': 1266, 'debut': 1144, 'oscar': 3133, 'winning': 4898, 'director': 1265, 'jonathan': 2418, 'flick': 1755, 'plenty': 3308, 'entertainment': 1502, 'value': 4709, 'naturally': 2973, 'story': 4207, 'girl': 1910, 'who': 4871, 'caught': 722, 'crime': 1056, 'sent': 3880, 'womens': 4924, 'where': 4864, 'she': 3923, 'introduced': 2338, 'host': 2174, 'violent': 4748, 'over': 3148, 'stuff': 4243, 'bound': 553, 'takes': 4350, 'play': 3297, 'put': 3481, 'girls': 1912, 'leading': 2547, 'escape': 1519, 'much': 2933, 'than': 4420, 'im': 2233, 'used': 4693, 'more': 2903, 'great': 1965, 'action': 101, 'scenes': 3811, 'dialogue': 1235, 'thats': 4425, 'throughout': 4478, 'said': 3774, 'not': 3039, 'particularly': 3196, 'original': 3128, 'or': 3123, 'ambitious': 212, 'basically': 407, 'follows': 1776, 'structure': 4233, 'similar': 3978, 'many': 2732, 'came': 656, 'before': 440, 'problem': 3409, 'never': 3000, 'gets': 1901, 'including': 2265, 'attempt': 340, 'out': 3141, 'working': 4944, 'field': 1705, 'bank': 394, 'robbery': 3711, 'helped': 2081, 'along': 196, 'direction': 1262, 'from': 1841, 'man': 2721, 'would': 4957, 'go': 1925, 'masterpiece': 2759, 'silence': 3974, 'cast': 710, 'legendary': 2565, 'barbara': 397, 'role': 3726, 'head': 2058, 'overall': 3150, 'may': 2775, 'leave': 2555, 'viewer': 4738, 'about': 67, 'end': 1470, 'brilliantly': 584, 'entertaining': 1501, 'anyone': 259, 'enjoys': 1491, 'type': 4620, 'will': 4886, 'surely': 4308, 'want': 4788, 'track': 4544, 'down': 1336, 'aka': 169, 'alien': 184, 'expected': 1579, 'budget': 610, 'australian': 357, 'special': 4097, 'effects': 1433, 'quick': 3491, 'cuts': 1092, 'female': 1694, 'comes': 891, 'immediately': 2243, 'able': 66, 'speak': 4094, 'perfectly': 3227, 'place': 3283, 'flow': 1763, 'match': 2762, 'faster': 1664, 'humans': 2191, 'elderly': 1442, 'grandmother': 1956, 'tells': 4397, 'two': 4619, 'wandering': 4785, 'told': 4513, '40': 48, 'years': 4979, 'planet': 3290, 'naked': 2958, 'completely': 922, 'unable': 4630, 'recognize': 3571, 'which': 4867, 'star': 4150, 'sky': 4017, 'meets': 2795, 'alone': 195, 'apparently': 270, 'here': 2087, 'mistake': 2871, 'angry': 238, 'earth': 1404, 'known': 2493, 'environment': 1507, 'most': 2908, 'insulting': 2311, 'thing': 4450, 'rest': 3658, 'universe': 4665, 'foul': 1811, 'air': 165, 'do': 1303, 'nothing': 3046, 'their': 4431, 'heads': 2060, 'under': 4638, 'another': 250, 'amusing': 222, 'entirely': 1505, 'tries': 4584, 'understand': 4642, 'shes': 3930, 'calls': 654, 'begins': 444, 'realize': 3554, 'maybe': 2776, 'thinking': 4453, 'straight': 4210, 'yet': 4984, 'waiting': 4772, 'back': 378, 'home': 2143, 'sees': 3866, 'human': 2189, 'falls': 1642, 'love': 2669, 'spots': 4132, 'interesting': 2326, 'heavy': 2071, 'handed': 2017, 'message': 2819, 'low': 2676, 'feel': 1685, 'main': 2707, 'actors': 105, 'around': 297, 'various': 4715, 'evil': 1550, 'offers': 3089, 'dire': 1258, 'happen': 2027, 'nature': 2974, 'if': 2223, 'isnt': 2363, 'logic': 2638, 'doesnt': 1310, 'hang': 2023, 'together': 4511, 'given': 1914, 'space': 4090, 'woman': 4921, 'manages': 2725, 'effect': 1430, 'positive': 3347, 'change': 749, 'conclusion': 936, 'movie': 2925, 'aliens': 185, 'deliberately': 1167, 'manage': 2722, 'achieve': 93, 'against': 148, 'waste': 4808, 'eric': 1516, 'lady': 2508, 'duke': 1384, 'better': 472, 'translation': 4561, 'title': 4504, 'english': 1485, 'perhaps': 3236, 'accurate': 91, 'obvious': 3070, 'everyone': 1544, 'judging': 2426, 'comments': 901, 'worth': 4953, 'watching': 4815, 'because': 432, 'spite': 4117, 'mr': 2928, 'created': 1038, 'art': 304, 'museum': 2944, 'mixed': 2877, 'technology': 4385, 'ultimately': 4627, 'works': 4945, 'strange': 4211, 'grace': 1951, 'noble': 3020, 'had': 2004, 'mistress': 2874, 'king': 2480, 'england': 1484, 'french': 1831, 'holds': 2132, 'our': 3139, 'attention': 345, 'setting': 3900, 'paris': 3190, 'during': 1388, 'days': 1131, 'followed': 1774, 'revolution': 3680, 'country': 1015, 'was': 4805, 'power': 3360, 'hands': 2021, 'people': 3222, 'couldnt': 1009, 'care': 684, 'less': 2575, 'images': 2236, 'show': 3953, 'running': 3756, 'famous': 1649, 'right': 3696, 'after': 144, 'trip': 4587, 'relation': 3596, 'ended': 1472, 'remains': 3612, 'true': 4595, 'friend': 1836, 'danger': 1110, 'himself': 2112, 'losing': 2658, 'own': 3158, 'moves': 2924, 'through': 4477, 'horrors': 2170, 'without': 4913, 'being': 448, 'enemy': 1479, 'form': 1799, 'cook': 989, 'least': 2554, 'times': 4497, 'impression': 2253, 'going': 1932, 'huge': 2186, 'crucial': 1069, 'era': 1515, 'history': 2122, 'rather': 3530, 'finding': 1728, 'process': 3413, 'distracting': 1298, 'found': 1812, 'ways': 4822, 'lucy': 2684, 'russell': 3761, 'fine': 1730, 'job': 2406, 'portray': 3341, 'saw': 3798, 'lot': 2661, 'lifetime': 2594, 'seems': 3864, 'appears': 278, 'jean': 2390, 'made': 2697, 'fantastic': 1653, 'us': 4690, 'believe': 454, 'he': 2057, 'effort': 1434, 'supporting': 4303, 'ensemble': 1494, 'piece': 3273, 'good': 1938, 'performances': 3230, 'lovers': 2673, 'watch': 4811, 'thanks': 4423, 'vision': 4754, 'sat': 3786, 'enjoyable': 1487, 'fast': 1663, 'paced': 3162, '45': 50, 'roll': 3728, 'boy': 557, 'dreams': 1356, 'becoming': 435, 'sports': 4130, 'travels': 4568, 'city': 825, 'picked': 3267, 'cousin': 1022, 'george': 1894, 'plan': 3288, 'anyway': 261, 'involved': 2347, 'gangster': 1869, 'tiny': 4500, 'john': 2410, 'delivery': 1174, 'needless': 2988, 'dragged': 1344, 'into': 2333, 'georges': 1895, 'thought': 4462, 'how': 2182, 'respect': 3653, 'enjoy': 1486, 'life': 2592, 'did': 1242, 'outstanding': 3147, 'every': 1541, 'cops': 994, 'david': 1125, 'brought': 600, 'relief': 3606, 'played': 3298, 'likable': 2598, 'reminded': 3620, 'me': 2778, 'favourite': 1675, 'characters': 760, 'things': 4451, 'liked': 2600, 'cities': 823, 'grew': 1973, 'lived': 2626, '20': 29, 'see': 3855, 'especially': 1522, 'old': 3099, 'rocks': 3722, 'read': 3545, 'lips': 2615, 'probably': 3408, 'different': 1249, 'contemporary': 966, 'tale': 4352, 'office': 3090, 'politics': 3327, 'becomes': 434, 'matched': 2763, 'leads': 2548, 'ive': 2373, 'despite': 1212, 'lengthy': 2570, 'movies': 2926, 'vincent': 4746, 'sexy': 3911, 'threatening': 4468, 'look': 2646, 'voice': 4761, 'first': 1737, 'half': 2008, 'real': 3549, 'estate': 1527, 'hes': 2094, 'ex': 1551, 'con': 928, 'adaptation': 114, 'writer': 4968, 'cleverly': 842, 'uses': 4697, 'womans': 4922, 'hearing': 2064, 'turning': 4607, 'sound': 4081, 'hear': 2062, 'so': 4046, 'annoying': 249, 'audience': 352, 'members': 2801, 'talk': 4357, 'using': 4698, 'visuals': 4759, 'none': 3027, 'act': 98, 'victim': 4729, 'company': 910, 'men': 2805, 'individual': 2278, 'unpredictable': 4674, 'line': 2610, 'last': 2521, 'shot': 3949, 'heck': 2072, 'move': 2920, 'modern': 2882, 'romantic': 3733, 'criminal': 1058, 'side': 3965, 'unnecessary': 4671, 'few': 1701, 'catch': 714, 'favorites': 1674, 'year': 4978, 'originally': 3130, 'written': 4972, '2002': 32, 'watched': 4813, 'starred': 4153, 'lawrence': 2539, 'knew': 2487, 'whose': 4877, 'wacky': 4769, 'british': 589, 'comedy': 890, 'pleasantly': 3304, 'surprised': 4312, 'magical': 2704, 'gem': 1878, 'uplifting': 4683, 'touching': 4536, 'sappy': 3784, 'sentimental': 3882, 'fears': 1679, 'needs': 2989, 'halloween': 2011, 'godfather': 1928, 'slasher': 4020, 'greatest': 1967, 'horror': 2169, 'ever': 1540, 'carpenter': 694, 'hill': 2109, 'suspenseful': 4330, 'creepy': 1053, 'terrifying': 4410, 'classic': 835, 'michael': 2829, 'myers': 2951, 'monster': 2891, 'inspired': 2302, 'scores': 3823, 'jason': 2384, 'friday': 1835, '13th': 5, 'bloody': 513, 'charlie': 765, 'night': 3012, 'brings': 587, 'okay': 3098, 'got': 1945, 'obscure': 3067, 'impact': 2245, 'entire': 1504, 'genre': 1889, 'longer': 2645, 'come': 886, 'dr': 1341, 'lab': 2502, 'viewers': 4739, 'same': 3778, 'aspects': 322, 'make': 2713, 'normal': 3032, 'neighborhood': 2992, 'area': 286, 'easily': 1407, 'identify': 2217, 'safe': 3771, 'trouble': 4591, 'starts': 4159, 'nobody': 3021, 'wants': 4791, 'finger': 1732, 'get': 1900, 'trying': 4600, 'young': 4989, 'heroine': 2092, 'jack': 2374, 'looking': 2648, 'besides': 468, 'acting': 100, 'jamie': 2380, 'lee': 2559, 'curtis': 1088, 'shoes': 3941, 'high': 2101, 'seem': 3861, 'find': 1727, 'date': 1119, 'however': 2184, 'donald': 1322, 'sam': 3777, 'really': 3558, 'steals': 4172, 'portrayal': 3342, 'doctor': 1305, 'knows': 2494, 'black': 493, 'eyes': 1615, 'feels': 1688, 'compelled': 915, 'send': 3875, 'hell': 2078, 'legend': 2564, 'score': 3822, 'drives': 1368, 'picture': 3270, 'almost': 194, 'forget': 1794, 'nowadays': 3054, 'image': 2234, 'giving': 1916, 'possible': 3351, 'detail': 1218, 'supposed': 4305, 'afraid': 141, 'lets': 2580, 'complete': 921, 'always': 204, 'part': 3194, 'shadows': 3913, 'partly': 3198, 'visible': 4753, 'teens': 4392, 'adds': 120, 'now': 3053, 'wouldnt': 4958, 'know': 2490, 'unfortunately': 4653, 'teenagers': 4391, 'fortunately': 1806, 'fans': 1652, 'candy': 668, 'blood': 512, 'finally': 1725, 'key': 2459, 'element': 1444, 'pursuit': 3477, 'killer': 2471, 'stop': 4201, 'your': 4991, 'still': 4188, 'havent': 2054, 'grab': 1950, 'popcorn': 3332, 'turn': 4604, 'off': 3083, 'light': 2595, 'trick': 4581, 'treat': 4571, 'biggest': 480, 'pile': 3276, 'growing': 1984, '90': 60, 'aside': 315, 'names': 2962, 'victims': 4730, 'else': 1450, 'correct': 1001, 'footage': 1783, 'stock': 4193, 'slaughter': 4021, 'fun': 1849, 'due': 1383, 'poorly': 3330, 'prepared': 3372, 'non': 3026, 'existent': 1574, 'sets': 3899, 'dull': 1385, 'short': 3946, 'struggle': 4234, 'ending': 1473, 'recommend': 3573, 'money': 2888, 'sorry': 4076, 'snow': 4045, 'white': 4870, 'opinion': 3117, 'artistic': 308, 'point': 3317, 'view': 4736, 'pretty': 3385, 'stereotypes': 4179, 'editing': 1423, 'too': 4522, 'exaggerated': 1554, 'instead': 2308, 'commercial': 902, 'leader': 2546, 'band': 391, 'bands': 392, 'called': 652, 'larger': 2519, 'german': 1897, 'sold': 4052, 'vice': 4727, 'product': 3419, 'remembered': 3618, 'clips': 852, 'topic': 4526, 'taking': 4351, 'drugs': 1375, 'lives': 2628, 'wide': 4880, 'spread': 4133, 'reality': 3553, 'therefore': 4439, 'should': 3951, 'hope': 2156, 'enough': 1493, 'order': 3125, 'next': 3006, 'gonna': 1937, 'skills': 4014, 'stand': 4143, 'happy': 2033, 'joined': 2414, 'featured': 1681, 'scott': 3824, 'chase': 769, 'foster': 1810, 'grown': 1985, 'turns': 4608, 'professional': 3422, 'excuse': 1566, 'mess': 2818, 'hours': 2178, 'ill': 2229, 'unbelievable': 4633, 'storyline': 4208, 'questionable': 3489, 'horrendous': 2163, 'cinematography': 820, 'worst': 4952, 'cared': 685, 'california': 650, '1970s': 17, 'kids': 2468, 'live': 2625, 'miserable': 2863, 'parents': 3189, 'idiots': 2221, 'ugly': 4624, 'mystery': 2955, 'imdb': 2241, 'rented': 3629, 'assume': 328, 'countless': 1013, 'network': 2999, 'cable': 644, 'otherwise': 3137, 'kill': 2469, 'thrown': 4481, 'opening': 3113, 'sequence': 3887, 'clues': 865, 'intended': 2316, 'cinema': 816, 'cheesy': 781, 'music': 2945, 'close': 853, 'shots': 3950, 'let': 2579, 'youre': 4992, 'seeing': 3857, 'puts': 3482, 'van': 4713, 'richards': 3687, 'cover': 1023, 'front': 1842, 'funny': 1853, 'travesty': 4569, 'book': 535, 'hot': 2175, 'review': 3676, 'pilot': 3277, 'apparent': 269, 'success': 4265, 'bond': 532, 'wild': 4885, 'references': 3585, 'threw': 4470, 'sex': 3907, 'involving': 2350, 'minor': 2857, 'reach': 3538, 'rated': 3529, 'status': 4165, 'suspense': 4329, 'video': 4733, 'rental': 3628, 'event': 1537, 'left': 2561, 'sell': 3871, 'porn': 3337, 'section': 3853, 'hate': 2047, 'spoil': 4121, 'telling': 4396, 'tv': 4609, 'though': 4461, 'pull': 3462, 'expect': 1577, 'cinematic': 818, 'differences': 1248, 'between': 475, 'clear': 839, 'rent': 3627, 'again': 147, 'why': 4878, 'attempts': 343, 'hitting': 2127, 'mid': 2832, '90s': 61, 'guy': 2001, 'whos': 4876, 'gay': 1877, 'avoid': 363, 'racial': 3502, 'dating': 1121, 'asian': 314, 'japanese': 2383, 'name': 2959, 'science': 3816, 'talking': 4359, 'beautiful': 428, 'intelligent': 2315, 'pre': 3366, 'student': 4238, 'everything': 1546, 'familys': 1648, 'account': 90, 'ok': 3097, 'gave': 1876, '10': 0, 'considering': 953, 'forced': 1788, 'become': 433, 'evening': 1536, 'ask': 316, 'although': 202, 'barely': 399, 'tonight': 4519, 'wanted': 4789, 'hadnt': 2005, 'didnt': 1243, 'user': 4696, 'wrote': 4974, 'ages': 153, 'shown': 3959, 'summary': 4289, 'absolutely': 73, 'midnight': 2834, 'cowboy': 1026, 'born': 544, 'released': 3604, 'mentioning': 2812, 'jon': 2417, 'voight': 4764, 'hoffman': 2129, 'appeared': 276, 'later': 2525, 'frank': 1822, 'am': 205, 'familiar': 1645, 'youll': 4988, 'aware': 368, '60': 53, 'youd': 4987, 'club': 863, 'persona': 3240, 'bet': 470, 'bit': 488, 'ashamed': 312, 'run': 3755, 'loss': 2659, 'theres': 4440, 'chance': 747, 'sons': 4073, 'daughters': 1123, 'surprise': 4311, 'secret': 3849, 'actresses': 107, 'backgrounds': 381, 'judge': 2425, 'current': 1085, 'stars': 4155, 'raised': 3509, 'streets': 4217, 'werent': 4849, 'spent': 4108, 'courage': 1019, 'intelligence': 2314, 'matter': 2769, 'package': 3166, 'prove': 3446, 'driving': 1369, 'los': 2653, 'angeles': 233, 'lots': 2662, 'stood': 4199, 'worked': 4941, 'constantly': 959, 'chased': 770, 'street': 4216, 'pick': 3266, 'today': 4508, 'definitely': 1163, 'hollywood': 2138, 'large': 2517, 'small': 4033, 'wake': 4774, 'sweet': 4335, 'joe': 2408, 'buck': 605, 'bed': 436, 'boyfriend': 558, 'rooms': 3736, 'must': 2949, 'tell': 4395, 'kinda': 2478, 'master': 2757, 'bedroom': 437, 'business': 633, 'major': 2711, 'filming': 1719, 'actual': 109, 'doubt': 1333, 'nor': 3031, 'work': 4940, 'defined': 1161, 'devils': 1230, 'commented': 900, '60s': 54, 'open': 3111, 'society': 4050, 'hip': 2115, 'clearly': 840, 'purely': 3473, 'higher': 2102, 'friendship': 1839, 'then': 4436, 'wasted': 4809, 'yes': 4982, 'deserved': 1201, 'wayne': 4821, 'handsome': 2022, 'youth': 4994, 'superbly': 4296, 'beautifully': 429, 'mistaken': 2872, 'party': 3201, 'attend': 344, 'younger': 4990, 'lines': 2612, 'outrageous': 3145, 'personality': 3243, 'brenda': 575, 'gritty': 1978, 'shocked': 3939, 'brilliant': 583, 'todays': 4509, 'ladies': 2507, 'displayed': 1293, 'violence': 4747, 'named': 2960, 'purpose': 3475, 'situation': 4008, 'id': 2213, 'asked': 317, 'break': 569, 'both': 547, 'certainly': 738, 'direct': 1259, 'eye': 1613, 'write': 4967, 'getting': 1902, 'screen': 3829, 'realized': 3555, 'proud': 3445, 'honesty': 2149, 'america': 213, 'unpleasant': 4673, 'situations': 4009, 'makers': 2715, 'public': 3461, 'mean': 2779, 'give': 1913, 'truth': 4598, 'trailer': 4553, 'justice': 2439, 'across': 97, 'romance': 3732, 'serious': 3891, 'drama': 1347, 'thriller': 4472, 'turned': 4605, 'course': 1020, 'proved': 3447, 'sensitive': 3879, 'somewhat': 4068, 'quirky': 3494, 'three': 4469, 'four': 1813, 'kubrick': 2497, 'sounded': 4082, 'promising': 3434, 'spring': 4134, '1980': 20, 'since': 3990, 'stanley': 4148, 'took': 4523, 'ruined': 3751, 'damn': 1101, 'kings': 2482, 'camera': 659, 'considered': 952, 'happens': 2030, 'views': 4742, 'novel': 3051, 'shining': 3933, 'indeed': 2272, 'failure': 1631, 'opportunity': 3120, 'series': 3890, 'narrative': 2965, 'blame': 499, 'screenwriter': 3833, 'diane': 1239, 'johnson': 2412, 'author': 359, 'le': 2544, 'marriage': 2743, 'divorce': 1302, 'etc': 1529, 'reputation': 3641, 'social': 4049, 'chosen': 805, 'subtle': 4260, 'grasp': 1961, 'relations': 3597, 'family': 1647, 'blue': 518, 'town': 4541, 'exist': 1571, 'map': 2733, 'merits': 2817, 'screenplay': 3831, 'logical': 2639, 'analysis': 225, 'willing': 4889, 'consider': 950, 'terms': 4406, 'take': 4348, 'conventional': 980, 'succeed': 4262, 'study': 4242, 'madness': 2698, 'either': 1440, 'way': 4820, 'apart': 264, 'overlook': 3153, 'hotel': 2176, 'nightmares': 3014, 'suffered': 4276, 'danny': 1113, 'father': 1668, 'notes': 3045, 'whenever': 4863, 'ghost': 1903, 'mirror': 2861, 'convoluted': 988, 'deep': 1155, 'ghosts': 1904, 'exactly': 1553, 'trapped': 4563, 'dead': 1133, 'walk': 4775, 'closet': 858, 'explain': 1588, 'face': 1618, 'nicholson': 3010, 'pops': 3333, 'onto': 3110, 'wall': 4781, 'closing': 859, 'seconds': 3848, 'seriously': 3892, 'sort': 4077, 'past': 3208, 'experience': 1582, 'exact': 1552, 'physical': 3263, 'mood': 2897, 'whatever': 4859, 'case': 707, 'supernatural': 4301, 'result': 3661, 'hasnt': 2045, 'improved': 2256, 'age': 149, 'improve': 2255, 'repeated': 3632, 'viewings': 4741, 'moments': 2887, 'fear': 1678, 'general': 1881, 'long': 2644, 'repeatedly': 3633, 'absurd': 74, 'laughable': 2530, 'infamous': 2285, 'tag': 4347, 'wendy': 4846, 'johnny': 2411, 'merely': 2815, 'dramatic': 1349, 'energy': 1480, 'theater': 4427, 'heard': 2063, 'laugh': 2529, 'glad': 1917, 'sea': 3838, 'utterly': 4702, 'cynical': 1094, 'empty': 1467, 'husband': 2205, 'son': 4070, 'full': 1847, 'sitting': 4007, 'brilliance': 582, 'rolling': 3730, 'scenery': 3810, 'shelley': 3928, 'don': 1321, 'passed': 3203, 'simply': 3986, 'cute': 1091, 'burned': 626, 'abilities': 64, 'body': 527, 'china': 795, 'upset': 4687, 'police': 3323, 'officer': 3091, 'decides': 1151, 'call': 651, 'roots': 3738, 'dad': 1096, 'local': 2634, 'sheriff': 3929, 'older': 3100, 'changed': 750, 'gangsters': 1870, 'taken': 4349, 'started': 4157, 'start': 4156, 'tricks': 4582, 'sick': 3963, 'tired': 4501, 'guess': 1990, 'fights': 1711, 'tragedy': 4550, 'strikes': 4225, 'wonderful': 4928, 'top': 4525, 'fan': 1650, 'crap': 1032, 'toy': 4542, 'previous': 3388, 'compared': 912, 'animation': 242, 'looked': 2647, 'humor': 2193, 'broad': 590, 'consistently': 955, 'promised': 3432, 'mother': 2910, 'doing': 1313, 'voices': 4763, 'animated': 241, 'concept': 930, 'loved': 2670, 'ones': 3107, 'interview': 2330, 'rob': 3710, 'plays': 3302, 'laughing': 2533, 'obviously': 3071, 'listening': 2620, 'disaster': 1277, 'unfunny': 4654, 'disappointment': 1276, 'hilarious': 2107, 'stupid': 4247, 'loser': 2655, 'cop': 992, 'filled': 1716, 'bunch': 623, 'animal': 239, 'car': 680, 'accident': 85, 'mad': 2696, 'scientist': 3818, 'lose': 2654, 'control': 978, 'hidden': 2097, 'horses': 2172, 'nasty': 2967, 'eating': 1414, 'peoples': 3223, 'price': 3390, 'pay': 3217, 'desired': 1207, 'irritating': 2360, 'force': 1787, 'popular': 3334, 'fame': 1644, 'survivor': 4323, 'proves': 3448, 'button': 639, 'actress': 106, 'whats': 4860, 'ed': 1416, 'chief': 788, 'wilson': 4891, 'tried': 4583, 'eat': 1412, 'seemed': 3862, 'breath': 573, 'whole': 4873, 'brief': 579, 'cameo': 657, 'adam': 112, 'sandler': 3781, 'served': 3894, 'executive': 1569, 'producer': 3416, 'twice': 4612, 'playing': 3301, 'toys': 4543, 'horrible': 2164, 'cannot': 670, 'writers': 4969, 'plots': 3311, 'wish': 4904, 'birthday': 487, 'adult': 126, 'sounds': 4084, '80s': 59, 'jennifer': 2393, '13': 4, 'acts': 108, 'wow': 4962, 'awesome': 371, 'wins': 4899, 'dancing': 1108, 'thousand': 4465, 'expecting': 1580, 'gore': 1942, 'box': 555, 'claimed': 829, 'extreme': 1611, 'cut': 1090, 'theatrical': 4430, 'release': 3603, 'doubts': 1334, 'wondered': 4927, 'receive': 3565, 'group': 1981, 'crash': 1034, 'tree': 4575, 'somehow': 4063, 'mansion': 2731, 'contains': 965, 'extremely': 1612, 'beyond': 476, 'mainly': 2708, 'composed': 926, 'useless': 4695, 'awful': 372, 'lisa': 2616, 'reading': 3546, 'cards': 683, 'others': 3136, 'nearly': 2980, 'technique': 4383, 'cameras': 660, 'attached': 336, 'progresses': 3427, 'rating': 3531, 'reviews': 3679, 'pointless': 3319, 'matthew': 2772, 'horribly': 2165, 'miscast': 2862, 'accent': 79, 'totally': 4532, 'chemistry': 782, 'suddenly': 4273, 'mouth': 2919, 'goofy': 1940, 'begin': 442, 'frankly': 1824, 'disagree': 1270, 'stunning': 4244, 'scottish': 3825, 'difficult': 1250, 'poignant': 3316, 'strong': 4229, 'community': 908, 'standard': 4144, 'bore': 540, 'pushing': 3480, 'polished': 3324, 'offer': 3086, 'recent': 3568, 'style': 4249, 'blockbuster': 509, 'seemingly': 3863, 'roles': 3727, 'grandfather': 1955, 'convincing': 986, 'bears': 421, 'viewing': 4740, 'feed': 1684, 'combination': 883, 'plus': 3312, 'approach': 282, 'quite': 3496, 'memorable': 2802, 'please': 3305, 'initially': 2292, 'disappointed': 1274, 'silver': 3977, 'dvds': 1393, 'features': 1682, 'oh': 3095, 'god': 1927, 'commentary': 899, 'flawless': 1752, 'industry': 2281, 'secrets': 3852, 'impressed': 2252, 'security': 3854, 'guard': 1989, 'favorite': 1673, 'sequel': 3885, 'blown': 516, 'away': 369, 'martial': 2747, 'arts': 310, 'sign': 3970, 'location': 2635, 'library': 2589, 'school': 3813, 'possibly': 3352, 'timeless': 4496, 'europe': 1531, 'oscars': 3134, 'dawn': 1128, 'normally': 3033, 'try': 4599, 'sci': 3815, 'fi': 1702, 'traveling': 4567, 'list': 2617, 'twelve': 4610, 'monkeys': 2890, 'having': 2055, 'already': 198, 'somewhere': 4069, 'distant': 1296, 'future': 1857, 'underground': 4639, 'unknown': 4667, 'virus': 4752, 'five': 1744, '1996': 26, 'leaving': 2557, 'population': 3336, 'alive': 187, 'cole': 873, 'prisoner': 3403, 'cage': 645, 'information': 2289, 'mysterious': 2954, 'need': 2986, 'scientists': 3819, 'machine': 2693, 'accidentally': 86, '1990': 24, 'psychiatrist': 3456, 'jeffrey': 2392, 'insane': 2297, 'expert': 1587, 'whether': 4866, 'mentally': 2809, 'travel': 4566, 'army': 295, 'questions': 3490, 'wondering': 4930, 'beginning': 443, 'sure': 4307, 'keeps': 2452, 'interested': 2325, 'amazing': 210, 'bruce': 602, 'willis': 4890, 'brad': 560, 'pitt': 3281, 'won': 4925, 'awards': 367, 'incredibly': 2271, 'terry': 4415, 'vegas': 4717, 'wasnt': 4807, 'convince': 984, 'forward': 1809, 'kidding': 2466, 'flicks': 1756, 'laughs': 2534, 'dubbed': 1380, 'quality': 3485, 'properly': 3438, 'cheap': 774, 'badly': 383, 'rip': 3700, 'ability': 65, 'painful': 3172, 'costs': 1005, 'six': 4010, 'hour': 2177, 'mini': 2854, 'curious': 1084, 'beast': 422, 'creating': 1040, 'ancient': 226, 'roman': 3731, 'fashion': 1661, 'classical': 836, 'literature': 2623, 'lost': 2660, 'background': 380, 'episode': 1509, 'via': 4726, 'letters': 2582, 'lack': 2503, 'far': 1655, 'thankfully': 4422, 'angle': 236, 'survive': 4320, 'court': 1021, 'emotion': 1460, 'maria': 2736, 'wannabe': 4787, 'elsewhere': 1451, 'max': 2774, 'von': 4765, 'briefly': 580, 'episodes': 1510, 'shows': 3960, 'impressive': 2254, 'genuinely': 1893, 'moving': 2927, 'encounters': 1469, 'child': 789, 'kind': 2477, 'potentially': 3357, 'emotional': 1461, 'inspiring': 2303, 'exciting': 1565, 'moment': 2886, 'hero': 2089, 'walls': 4783, 'coming': 896, 'quiet': 3493, 'slightly': 4029, 'says': 3801, 'parties': 3197, 'dave': 1124, 'meet': 2793, 'christians': 809, 'battle': 414, 'bull': 619, 'passes': 3204, 'loses': 2657, 'ends': 1476, 'gotta': 1947, 'game': 1865, 'resident': 3648, 'silent': 3975, 'games': 1866, 'captured': 677, 'pure': 3472, 'horrific': 2167, 'elements': 1445, 'hand': 2016, 'everywhere': 1547, 'atmosphere': 333, 'shake': 3914, 'stick': 4185, 'beat': 423, 'books': 536, 'system': 4344, 'alas': 173, 'poor': 3329, 'bud': 607, 'dark': 1116, 'moral': 2901, 'fell': 1691, 'flat': 1749, 'redeeming': 3579, 'qualities': 3484, 'synopsis': 4343, 'typical': 4622, '1930s': 11, 'contrived': 977, 'subject': 4253, 'strength': 4219, 'beauty': 430, 'display': 1292, 'range': 3518, 'feeling': 1686, 'rich': 3685, 'faces': 1620, 'wedding': 4836, 'depth': 1191, 'principal': 3399, 'raw': 3534, 'emotions': 1463, 'portrayed': 3343, 'clark': 832, 'joy': 2423, 'kid': 2465, 'help': 2080, 'finest': 1731, 'examples': 1556, 'depression': 1190, 'larry': 2520, 'writing': 4971, 'directing': 1261, 'keep': 2450, 'day': 1130, 'scary': 3807, 'spooky': 4128, 'thin': 4449, 'blair': 497, 'witch': 4909, 'project': 3428, 'words': 4938, 'complex': 923, 'scared': 3805, 'assumed': 329, 'bought': 552, 'meeting': 2794, 'happened': 2028, 'holiday': 2135, 'nice': 3007, 'slightest': 4028, 'stage': 4139, 'build': 614, 'dies': 1246, 'nurse': 3062, 'spirit': 4113, 'tracks': 4545, 'clumsy': 866, '3rd': 47, 'grade': 1952, 'leaves': 2556, '15': 7, 'itself': 2372, 'stuck': 4237, 'agree': 156, 'post': 3353, 'ahead': 160, 'magazine': 2701, 'feature': 1680, 'early': 1401, 'soundtrack': 4085, 'punk': 3469, 'wave': 4818, 'la': 2501, 'academy': 78, 'jokes': 2416, 'fall': 1639, 'laid': 2509, 'hey': 2096, 'store': 4204, 'third': 4455, 'fourth': 1814, 'antics': 255, 'lame': 2511, 'total': 4531, 'disappointing': 1275, 'forgotten': 1798, 'pity': 3282, 'bother': 548, 'board': 522, 'throw': 4479, 'enjoyed': 1488, 'theme': 4433, 'psychological': 3459, 'birth': 486, 'brother': 598, 'mothers': 2911, 'recently': 3569, 'finds': 1729, 'arrived': 301, 'imagery': 2235, 'captures': 678, 'certain': 737, 'unforgettable': 4651, 'deserves': 1202, 'means': 2783, 'landscapes': 2514, 'surreal': 4316, 'parallel': 3186, 'living': 2629, 'eventually': 1539, 'excessive': 1562, 'limits': 2607, 'protagonist': 3442, 'brothers': 599, 'hurts': 2204, 'clever': 841, 'failed': 1628, 'level': 2584, 'randomly': 3516, 'disgusting': 1287, 'hard': 2034, 'minute': 2858, 'joke': 2415, 'within': 4912, 'saying': 3800, 'fit': 1741, 'ideas': 2216, 'mature': 2773, 'skill': 4013, 'script': 3834, 'funnier': 1851, 'parody': 3193, 'use': 4692, 'christmas': 810, 'summer': 4290, 'adventures': 132, 'moved': 2921, 'middle': 2833, 'nowhere': 3055, 'relate': 3594, 'charles': 764, 'felt': 1693, 'mary': 2751, 'formulaic': 1804, 'bothered': 549, 'competition': 918, 'sadly': 3769, 'fx': 1859, 'effective': 1431, 'revolves': 3682, 'motives': 2915, 'gradually': 1953, 'builds': 617, 'finale': 1724, 'widely': 4881, 'flaws': 1753, 'effectively': 1432, 'mysteries': 2953, 'confusing': 943, 'towards': 4540, 'basic': 406, 'forgot': 1797, 'terrific': 4409, 'carrie': 697, 'anne': 246, 'billy': 482, 'chaplin': 756, 'check': 777, 'arrives': 302, 'road': 3709, 'bar': 396, 'wife': 4884, 'fat': 1665, 'de': 1132, 'mechanical': 2788, 'food': 1779, 'affair': 136, 'decide': 1149, 'affect': 137, 'guilty': 1996, 'investigation': 2344, 'tragic': 4551, 'noir': 3022, 'neo': 2997, 'realistic': 3552, 'rings': 3699, 'turner': 4606, 'jessica': 2399, 'vote': 4766, 'ten': 4399, 'oddly': 3080, 'bettie': 473, 'page': 3168, 'christian': 808, 'south': 4087, 'married': 2744, 'york': 4985, 'successful': 4266, 'driven': 1366, 'allowed': 191, 'touch': 4533, 'inspiration': 2301, 'artist': 307, 'figure': 1712, 'die': 1244, 'innocent': 2295, 'sense': 3877, 'simple': 3983, 'glorious': 1922, 'lovely': 2671, 'spend': 4105, 'couple': 1017, 'lincoln': 2608, 'marks': 2742, 'ford': 1790, 'henry': 2085, 'fonda': 1778, 'recall': 3564, 'ago': 155, 'nervous': 2998, 'abraham': 69, 'challenge': 743, 'ease': 1405, 'leg': 2562, 'lawyer': 2541, 'headed': 2059, 'directed': 1260, 'walter': 4784, 'raymond': 3536, 'prize': 3406, 'robert': 3713, 'law': 2538, 'path': 3210, 'cross': 1067, 'ann': 244, 'death': 1142, 'attorney': 348, 'notice': 3047, 'private': 3405, 'practice': 3364, 'hed': 2073, 'gotten': 1948, 'accused': 92, 'murder': 2938, 'defend': 1159, 'ordinary': 3127, 'trial': 4579, 'fiction': 1703, 'defense': 1160, 'richard': 3686, 'eddie': 1417, 'based': 404, 'musical': 2946, 'themes': 4434, 'moore': 2900, 'miles': 2843, 'dance': 1104, 'tune': 4601, 'susan': 4325, 'brown': 601, 'todd': 4510, 'raising': 3510, 'church': 813, 'forever': 1793, 'reasons': 3562, 'american': 214, 'rising': 3703, 'bottom': 551, 'efforts': 1435, 'secondly': 3847, 'president': 3379, 'crisis': 1061, 'decision': 1152, 'free': 1828, 'civil': 826, 'war': 4792, 'albeit': 174, 'necessary': 2983, 'political': 3325, 'mentioned': 2811, 'praise': 3365, 'fred': 1826, 'jr': 2424, 'ward': 4793, 'alice': 183, 'brady': 561, 'set': 3898, 'hat': 2046, 'ruthless': 3764, 'aspect': 321, 'hop': 2155, 'culture': 1080, 'tap': 4363, 'focused': 1768, 'satire': 3788, 'honest': 2147, 'charming': 768, 'complicated': 925, 'suffice': 4279, 'unrealistic': 4676, 'everybody': 1542, 'creates': 1039, 'enjoying': 1489, 'ryan': 3765, 'extra': 1608, 'song': 4071, 'peter': 3248, 'perfect': 3225, 'example': 1555, 'awfully': 373, 'hence': 2084, 'advice': 134, 'presents': 3378, 'lie': 2590, 'ruin': 3750, 'includes': 2264, 'breasts': 572, 'drinking': 1363, 'superman': 4300, 'batman': 413, 'deal': 1136, 'suited': 4285, 'filmmakers': 1721, 'someone': 4064, 'class': 833, 'charm': 767, 'granted': 1958, 'casting': 711, '1980s': 21, 'bringing': 586, 'killers': 2472, 'material': 2766, 'gray': 1964, 'stilted': 4190, 'mostly': 2909, 'building': 615, 'false': 1643, 'ridiculous': 3693, 'truly': 4596, 'newly': 3003, 'falling': 1641, 'hired': 2118, 'week': 4837, 'died': 1245, 'luck': 2681, 'villain': 4744, 'owner': 3159, 'buy': 640, 'land': 2512, 'shell': 3927, 'steal': 4170, 'gun': 1997, 'armed': 293, 'west': 4852, 'bullets': 621, 'dangerous': 1111, 'folk': 1771, 'riding': 3695, 'shoot': 3942, 'grim': 1975, 'thank': 4421, 'goodness': 1939, 'lacks': 2506, 'sun': 4291, 'endless': 1475, 'zero': 4996, 'premise': 3371, 'boys': 559, 'fathers': 1669, 'herself': 2093, 'friends': 1838, 'learns': 2553, 'committed': 905, 'suicide': 4282, 'calling': 653, 'marry': 2745, 'reveals': 3673, 'returning': 3667, 'continue': 970, 'above': 68, 'constant': 958, 'singing': 3995, 'critics': 1065, 'songs': 4072, 'numbers': 3060, 'tedious': 4387, 'forgettable': 1795, 'lyrics': 2692, 'stands': 4147, 'placed': 3284, 'streisand': 4218, 'chances': 748, 'superb': 4295, 'singer': 3993, 'believing': 457, 'talks': 4360, 'sings': 3997, 'fooled': 1781, 'wearing': 4831, 'clothing': 861, 'naive': 2957, 'actions': 102, 'facial': 1621, 'included': 2263, 'mention': 2810, 'relatives': 3602, 'nevertheless': 3001, 'dressed': 1359, 'wore': 4939, 'pass': 3202, 'solely': 4056, 'caused': 724, 'credibility': 1048, 'toward': 4539, 'smart': 4035, 'learn': 2550, 'fetched': 1699, 'vehicle': 4718, 'fault': 1670, 'musicals': 2947, 'perspective': 3246, 'noted': 3044, 'problems': 3410, 'talented': 4354, 'hurt': 2203, 'appear': 273, 'self': 3869, 'thus': 4486, 'fest': 1697, 'attitude': 346, 'prom': 3430, 'ii': 2227, 'campy': 664, 'lou': 2663, 'channels': 754, 'rage': 3506, 'possessed': 3348, 'wicked': 4879, '2001': 31, 'clown': 862, 'easy': 1411, 'busy': 635, 'manhattan': 2726, 'dated': 1120, 'bold': 528, 'cult': 1078, 'hit': 2123, 'bomb': 531, 'jazz': 2388, 'initial': 2291, 'introduction': 2340, 'talents': 4355, 'davies': 1126, 'gorgeous': 1943, 'ball': 388, 'cameos': 658, 'slapstick': 4019, 'jerk': 2396, 'reaction': 3543, 'sit': 4003, 'painting': 3176, 'color': 877, 'stereotypical': 4180, 'originality': 3129, 'easier': 1406, 'bored': 541, 'barry': 401, 'diamond': 1237, 'centers': 734, 'reunion': 3669, '1950s': 14, 'pulled': 3463, 'revenge': 3675, 'killed': 2470, 'led': 2558, 'continued': 971, 'national': 2969, 'gene': 1880, 'government': 1949, 'bits': 490, 'pieces': 3274, 'mission': 2870, 'messed': 2821, 'orders': 3126, 'reviewers': 3678, 'pointed': 3318, 'tend': 4400, 'widmark': 4882, 'mickey': 2831, 'edward': 1428, 'albert': 175, 'thoroughly': 4459, 'fbi': 1677, 'cia': 814, 'recognition': 3570, 'ties': 4490, 'requires': 3643, 'understanding': 4644, 'fully': 1848, 'hong': 2150, 'kong': 2495, 'welcome': 4842, 'frame': 1816, 'fighting': 1710, 'epic': 1508, 'fair': 1632, 'nail': 2956, 'happening': 2029, 'points': 3320, 'embarrassing': 1456, 'heres': 2088, '100': 1, 'embarrassment': 1457, 'christopher': 811, 'lloyd': 2630, 'jeff': 2391, 'remake': 3613, 'purple': 3474, 'rose': 3739, 'theatre': 4429, 'wallace': 4782, 'disney': 1290, 'jet': 2401, 'li': 2587, 'bob': 524, 'ray': 3535, 'suit': 4283, 'voiced': 4762, 'degree': 1165, 'ha': 2003, 'wrap': 4963, 'silly': 3976, 'starring': 4154, 'tim': 4494, 'allen': 189, 'kate': 2447, 'miller': 2846, 'involves': 2349, 'blake': 498, 'nancy': 2963, 'wrapped': 4964, 'discover': 1280, 'identity': 2218, 'psycho': 3458, 'important': 2248, 'historically': 2121, 'earlier': 1400, 'hide': 2098, 'seek': 3858, '2005': 35, 'odd': 3079, 'brian': 576, 'hitchcock': 2124, 'literally': 2622, 'parts': 3200, 'kills': 2475, 'shower': 3957, 'method': 2824, 'similarities': 3979, 'influence': 2287, 'deeply': 1157, 'flawed': 1751, 'viewed': 4737, 'subsequent': 4257, '25': 40, 'influenced': 2288, 'thrillers': 4473, 'wise': 4903, 'inept': 2282, 'nudity': 3058, 'strongly': 4231, 'soft': 4051, 'core': 996, 'opposite': 3122, 'disturbing': 1301, 'emphasis': 1465, 'flesh': 1754, 'follow': 1773, 'cultural': 1079, 'conservative': 949, 'ups': 4686, 'fond': 1777, 'angles': 237, 'whale': 4857, 'theyve': 4446, 'dropped': 1371, 'following': 1775, 'caring': 691, 'slow': 4031, 'primary': 3395, 'concern': 931, 'facts': 1626, 'occurs': 3077, 'improvement': 2257, 'clichéd': 845, 'occasionally': 3074, 'caine': 647, 'wed': 4835, 'likely': 2601, 'hold': 2130, 'contained': 964, 'aged': 150, 'primarily': 3394, 'historical': 2120, 'jim': 2403, 'wouldve': 4959, 'uninteresting': 4659, 'scale': 3802, 'meant': 2784, 'idiot': 2219, 'late': 2523, 'internet': 2328, 'television': 4394, 'concerned': 932, 'length': 2569, 'removed': 3625, 'began': 441, 'drag': 1343, 'adventure': 131, 'captivating': 675, 'magnificent': 2705, 'africa': 142, 'snl': 4044, 'fill': 1715, 'largely': 2518, 'funniest': 1852, 'shame': 3918, 'enormous': 1492, 'france': 1817, 'inevitable': 2283, 'ranks': 3521, 'among': 218, 'promises': 3433, 'sole': 4055, 'century': 736, 'stories': 4205, 'sometimes': 4067, 'suffers': 4278, 'trap': 4562, 'marie': 2737, 'maker': 2714, 'engage': 1481, 'robin': 3715, 'unbearable': 4632, 'gags': 1863, 'sequences': 3888, 'dialogs': 1234, 'affected': 138, 'hollow': 2136, 'relative': 3600, 'asks': 319, 'bat': 410, 'twilight': 4613, 'zone': 4999, 'understated': 4645, 'focusing': 1770, 'aging': 154, 'changing': 752, 'reveal': 3670, 'martin': 2748, 'frustrated': 1843, 'agent': 151, 'shine': 3931, 'supposedly': 4306, 'unconvincing': 4637, 'desperation': 1211, 'return': 3665, 'sympathetic': 4341, 'donna': 1324, 'feelings': 1687, 'co': 867, 'reminds': 3621, 'glory': 1923, 'surprising': 4314, 'scares': 3806, 'sucked': 4270, 'harsh': 2041, 'lesson': 2577, 'testament': 4417, 'notch': 3042, 'combine': 884, 'create': 1037, 'became': 431, 'personal': 3241, 'thirty': 4456, 'baseball': 403, 'missed': 2867, 'team': 4377, 'thinks': 4454, 'closest': 857, 'till': 4493, 'worn': 4948, 'events': 1538, 'met': 2822, 'careful': 688, 'weak': 4824, 'solid': 4057, 'finish': 1733, 'simon': 3982, 'nonetheless': 3028, 'humour': 2195, 'frustration': 1844, 'wit': 4908, 'awkward': 374, 'number': 3059, 'comedic': 888, 'warned': 4798, 'dislike': 1289, 'stopped': 4202, 'triumph': 4589, 'pleasure': 3307, 'iron': 2355, 'taste': 4368, 'bigger': 479, 'card': 681, 'myself': 2952, 'excitement': 1564, 'average': 362, 'garbage': 1871, 'luckily': 2682, 'faith': 1635, '24': 39, 'season': 3843, 'choices': 798, 'cinemas': 817, 'limited': 2606, 'screens': 3832, 'dedicated': 1154, 'screening': 3830, 'bollywood': 530, 'share': 3920, 'highly': 2106, 'trailers': 4554, 'lower': 2677, 'substance': 4258, 'tad': 4346, 'standards': 4145, 'question': 3488, 'motivation': 2913, 'guessing': 1992, 'hollywoods': 2139, 'ludicrous': 2685, 'include': 2262, 'kitchen': 2486, 'sink': 3999, 'appearing': 277, 'cake': 648, 'homage': 2142, 'unintentional': 4657, 'khan': 2460, 'jimmy': 2404, 'cliff': 847, 'center': 732, 'girlfriend': 1911, 'kapoor': 2444, 'boss': 546, 'speaks': 4096, 'broken': 594, 'ah': 159, 'akshay': 170, 'hire': 2117, 'engaged': 1482, 'hunt': 2199, 'stolen': 4195, 'sorts': 4078, 'enemies': 1478, 'whom': 4875, 'wears': 4832, 'implausible': 2246, 'rambo': 3512, 'factor': 1624, 'costumes': 1007, 'green': 1972, 'incredible': 2270, 'sad': 3767, 'language': 2516, 'catchy': 717, 'routine': 3743, 'bring': 585, 'versus': 4722, 'settings': 3901, 'mountain': 2916, 'beach': 419, 'decent': 1148, 'continuity': 973, 'stealing': 4171, 'compare': 911, 'anymore': 258, 'brain': 562, 'progress': 3426, 'east': 1408, 'mountains': 2917, 'dalton': 1099, 'southern': 4088, 'twists': 4618, 'phony': 3257, 'pretend': 3382, 'pulls': 3465, 'loaded': 2632, 'ready': 3548, 'fire': 1735, 'weapons': 4829, 'market': 2740, 'segment': 3867, 'suppose': 4304, 'ironically': 2357, 'arms': 294, 'fairly': 1633, 'available': 361, 'relevant': 3605, 'soldier': 4053, 'rights': 3697, 'winner': 4897, 'bare': 398, 'endings': 1474, 'carter': 703, 'daughter': 1122, 'guys': 2002, 'variety': 4714, 'classes': 834, 'motion': 2912, 'traditional': 4549, 'immensely': 2244, 'putting': 3483, 'broadcast': 591, 'nine': 3016, 'production': 3420, 'destiny': 1213, 'treasure': 4570, 'went': 4847, 'cutting': 1093, 'teeth': 4393, 'ms': 2930, 'innocence': 2294, 'audiences': 353, 'jones': 2419, '80': 58, 'potential': 3356, 'appealing': 272, 'stay': 4166, 'awake': 365, 'ideal': 2215, 'virtually': 4751, 'loves': 2674, 'attractive': 351, 'hospital': 2173, 'florida': 1762, 'wood': 4933, 'harris': 2039, 'creative': 1042, 'speed': 4103, 'protect': 3444, 'possibilities': 3349, 'player': 3299, 'mom': 2885, 'dollars': 1316, 'ourselves': 3140, 'sucks': 4271, 'smile': 4036, 'painfully': 3173, 'pace': 3161, 'crying': 1075, 'hysterical': 2209, 'fits': 1742, 'laughter': 2535, 'amateur': 207, 'lily': 2605, 'mars': 2746, 'disappeared': 1272, 'studio': 4240, 'judy': 2427, 'heart': 2065, 'period': 3237, 'pride': 3392, 'fay': 1676, 'designed': 1204, 'warning': 4800, 'celluloid': 731, 'save': 3794, 'insult': 2310, 'intellectual': 2313, 'appreciated': 280, 'genius': 1888, 'smoking': 4040, 'airplane': 167, 'latter': 2528, 'neither': 2995, 'vampire': 4711, 'blind': 506, 'soul': 4079, 'devil': 1229, 'vacation': 4704, 'educational': 1427, 'saved': 3795, 'mst3k': 2931, 'explaining': 1590, 'keeping': 2451, 'count': 1011, 'june': 2434, 'rocky': 3723, 'hated': 2048, 'manager': 2724, '40s': 49, 'recorded': 3576, 'seeking': 3859, 'record': 3575, 'shop': 3945, 'grey': 1974, 'superior': 4299, '1st': 28, 'universal': 4664, 'mummy': 2936, 'results': 3662, 'ho': 2128, 'sends': 3876, 'hopes': 2160, 'opened': 3112, 'difference': 1247, 'priest': 3393, 'dirty': 1269, 'frankenstein': 1823, 'burning': 627, 'creature': 1046, 'hoping': 2161, 'western': 4853, 'reasonable': 3560, 'mine': 2853, 'connected': 946, 'gone': 1936, 'convincingly': 987, 'developed': 1224, 'needed': 2987, 'gang': 1868, 'killing': 2473, 'laws': 2540, 'listen': 2619, 'hung': 2198, 'breaks': 571, 'note': 3043, 'trail': 4552, 'details': 1220, 'island': 2362, 'position': 3346, 'soldiers': 4054, 'fight': 1708, 'contrary': 975, 'morning': 2905, 'bodies': 526, 'dare': 1114, 'hello': 2079, 'widow': 4883, 'funeral': 1850, 'remarkably': 3615, 'knowing': 2491, 'resort': 3651, 'damage': 1100, 'particular': 3195, 'cause': 723, 'adapted': 115, 'managed': 2723, 'memory': 2804, 'figured': 1713, 'contain': 963, 'upon': 4684, 'remotely': 3624, 'cry': 1074, 'wait': 4770, 'ring': 3698, 'tape': 4364, 'instantly': 2307, 'curiosity': 1083, 'trust': 4597, 'favor': 1672, '1999': 27, 'asleep': 320, 'expression': 1604, 'destroy': 1214, 'capture': 676, 'causes': 725, 'destruction': 1217, 'pokemon': 3321, 'pleased': 3306, 'join': 2413, 'cheese': 780, 'farm': 1658, 'drug': 1374, 'unlikely': 4670, 'arrival': 299, 'further': 1854, 'ride': 3692, 'teenager': 4390, 'signs': 3973, 'crimes': 1057, 'aid': 161, 'worker': 4942, 'edge': 1419, 'seat': 3845, 'split': 4120, 'cool': 990, 'personally': 3244, 'drive': 1364, 'suspects': 4327, 'twist': 4616, 'mile': 2842, 'loose': 2650, 'pleasant': 3303, 'kept': 2457, 'packed': 3167, 'held': 2075, 'table': 4345, 'step': 4175, 'below': 462, 'tons': 4520, 'watchable': 4812, 'photographed': 3259, 'spoilers': 4124, 'credits': 1051, 'instant': 2306, 'sheer': 3925, 'walked': 4776, 'ticket': 4487, 'counter': 1012, 'purchase': 3470, 'dozen': 1339, 'multiple': 2935, 'huh': 2188, 'embarrassed': 1455, 'levels': 2585, 'complexity': 924, 'unexpected': 4649, 'revealed': 3671, 'davis': 1127, 'paulie': 3216, 'homosexual': 2146, 'chris': 806, 'reminiscent': 3622, 'reynolds': 3684, 'fate': 1667, 'personalities': 3242, 'timing': 4498, 'expressions': 1605, 'reflect': 3586, 'dry': 1378, 'heroes': 2090, 'experienced': 1583, 'storytelling': 4209, 'pulp': 3466, 'mediocre': 2791, 'saturday': 3792, 'compelling': 916, 'person': 3239, 'essence': 1523, 'pulling': 3464, 'regarding': 3590, 'north': 3035, 'hearted': 2066, 'conflict': 940, 'continues': 972, 'producers': 3417, 'convinced': 985, 'flop': 1761, 'weekend': 4838, 'delightful': 1169, 'lively': 2627, 'circle': 821, 'tears': 4379, 'develops': 1227, 'capturing': 679, 'common': 906, 'reactions': 3544, 'cash': 709, '12': 3, 'dancers': 1106, 'red': 3578, 'answer': 251, 'william': 4887, 'obnoxious': 3066, 'picks': 3269, 'dancer': 1105, 'opens': 3114, 'amount': 220, 'dreary': 1357, 'wind': 4893, 'sudden': 4272, 'commercials': 903, 'hopefully': 2158, 'pathetic': 3211, 'door': 1329, 'couldve': 1010, 'worse': 4951, 'cuba': 1076, 'lasted': 2522, 'arm': 292, 'bus': 631, 'unlike': 4669, 'trash': 4564, 'idiotic': 2220, 'belongs': 460, 'access': 84, 'succeeds': 4264, 'goal': 1926, 'inane': 2259, 'lay': 2542, 'worry': 4950, 'presented': 3377, 'text': 4419, 'tour': 4538, 'chicago': 785, 'satan': 3787, 'jesus': 2400, 'souls': 4080, 'fool': 1780, 'directly': 1264, 'driver': 1367, 'explanation': 1592, 'sits': 4006, 'belong': 459, 'copy': 995, 'aired': 166, 'wishing': 4907, 'filmed': 1718, '70s': 56, 'imagination': 2237, 'attraction': 350, 'dramas': 1348, 'comedies': 889, '50': 51, 'wanting': 4790, 'underrated': 4641, 'wealthy': 4827, 'hopeless': 2159, 'patients': 3213, 'liners': 2611, 'exception': 1559, 'utter': 4701, 'loving': 2675, 'extras': 1610, 'kung': 2499, 'fu': 1845, 'edited': 1422, 'suggest': 4280, 'vhs': 4725, 'icon': 2212, 'portrays': 3345, 'elegant': 1443, 'howard': 2183, 'beloved': 461, 'miss': 2866, 'natural': 2972, 'bone': 533, 'sidekick': 3966, 'dub': 1379, 'ham': 2012, 'portion': 3339, 'helps': 2083, 'journey': 2422, 'carry': 700, 'weight': 4840, 'provided': 3450, 'promise': 3431, 'countryside': 1016, 'craig': 1031, 'appeal': 271, 'central': 735, 'exploitation': 1594, 'alternate': 201, 'gender': 1879, 'overwhelming': 3157, 'majority': 2712, 'protagonists': 3443, 'childhood': 790, 'carl': 692, 'producing': 3418, 'distribution': 1299, 'speaking': 4095, 'hundreds': 2197, 'competent': 917, 'reviewer': 3677, 'stated': 4161, 'league': 2549, 'combined': 885, 'fascinating': 1660, 'months': 2896, 'movements': 2923, 'sixties': 4011, 'plight': 3309, 'serves': 3895, 'empathy': 1464, 'remind': 3619, 'depicts': 1187, 'hills': 2110, 'castle': 712, 'atlantis': 332, 'addition': 119, 'ruins': 3752, 'round': 3742, 'likes': 2602, 'alexander': 181, 'online': 3108, 'prince': 3397, '1968': 16, 'flying': 1765, 'ship': 3934, 'rare': 3525, 'gift': 1907, 'fail': 1627, 'realise': 3550, 'anybody': 257, 'cg': 739, 'creatures': 1047, 'wholly': 4874, 'dragon': 1345, 'wars': 4804, 'germany': 1899, 'paul': 3215, 'technically': 4382, 'gold': 1933, 'previously': 3389, 'runs': 3757, 'hyde': 2207, 'developing': 1225, 'sides': 3967, 'rule': 3753, 'occasion': 3072, 'laughed': 2532, 'advantage': 130, 'latest': 2526, 'decades': 1146, 'robinson': 3716, 'swedish': 4334, 'williams': 4888, 'sandra': 3782, 'noticed': 3048, 'refreshing': 3587, 'impress': 2251, 'complaint': 920, 'mgm': 2828, 'rate': 3528, 'classics': 837, 'rain': 3507, 'kelly': 2453, 'sinatra': 3989, 'introduces': 2339, 'aunt': 355, 'struggling': 4236, 'attracted': 349, 'waitress': 4773, 'pamela': 3180, 'brooklyn': 595, 'paper': 3184, 'room': 3735, 'fellow': 1692, 'rendition': 3626, 'fantasy': 1654, 'jerry': 2397, 'mouse': 2918, 'tom': 4514, 'kissing': 2485, 'ballet': 389, 'earned': 1402, 'nomination': 3025, 'shy': 3962, 'factory': 1625, 'marvelous': 2750, 'stinker': 4191, 'lousy': 2667, 'shut': 3961, 'queen': 3486, 'elizabeth': 1447, 'virgin': 4749, 'helen': 2076, 'states': 4163, 'troops': 4590, 'olivier': 3102, 'boredom': 542, 'convey': 983, 'stewart': 4184, 'dealing': 1137, '35': 45, 'depicted': 1184, 'deals': 1138, 'indians': 2276, 'gain': 1864, 'nazis': 2977, 'raise': 3508, 'children': 792, 'hamilton': 2013, 'edgar': 1418, 'par': 3185, 'wing': 4896, 'propaganda': 3436, 'relationships': 3599, 'selfish': 3870, 'meaning': 2780, 'appreciate': 279, 'ratings': 3532, 'lighting': 2596, 'matters': 2770, 'fake': 1637, 'terrible': 4407, 'emily': 1458, 'breaking': 570, 'waves': 4819, 'fascinated': 1659, 'jackie': 2375, 'tortured': 4530, 'gentle': 1891, 'poetic': 3314, 'poem': 3313, 'channel': 753, 'describe': 1195, 'bell': 458, 'laughably': 2531, 'produce': 3414, 'intention': 2320, 'accomplished': 88, 'angels': 234, 'presence': 3374, 'treated': 4572, 'sake': 3775, 'cliché': 844, 'phone': 3256, 'duo': 1387, 'row': 3744, 'discovered': 1281, 'zombie': 4997, 'feet': 1689, 'imagine': 2239, '30': 42, 'documentary': 1308, 'smith': 4038, 'dream': 1355, 'loads': 2633, 'students': 4239, 'describes': 1197, 'eve': 1534, 'vs': 4767, 'giant': 1906, 'hall': 2010, 'tunes': 4602, 'ramones': 3513, 'concert': 935, 'sight': 3969, 'teenage': 4389, 'appearance': 274, 'joey': 2409, 'wanna': 4786, 'wet': 4855, 'subtitles': 4259, 'corny': 998, 'mix': 2876, 'melodrama': 2797, 'entertained': 1500, 'loud': 2664, 'shelf': 3926, 'covered': 1024, 'dust': 1389, 'touched': 4534, 'bucks': 606, 'swear': 4333, 'forms': 1802, 'weird': 4841, 'helping': 2082, 'adults': 127, 'add': 116, 'comment': 898, 'stanwyck': 4149, 'phantom': 3252, 'witnessed': 4915, 'absolute': 72, 'douglas': 1335, 'blowing': 515, 'pages': 3169, 'flashback': 1747, 'intrigue': 2334, 'wealth': 4826, 'americans': 215, 'dollar': 1315, 'sister': 4001, 'dorothy': 1331, 'spoiled': 4122, 'troubled': 4592, 'oil': 3096, 'fortune': 1807, 'bride': 577, 'bacall': 377, 'grows': 1986, 'mere': 2814, 'object': 3065, '50s': 52, 'lucky': 2683, 'versions': 4721, 'ultimate': 4626, 'suitable': 4284, 'lights': 2597, 'crude': 1070, 'spell': 4104, 'melodramatic': 2798, 'fifteen': 1707, 'models': 2881, 'apartment': 265, 'demon': 1178, 'journalist': 2421, 'murders': 2942, 'independent': 2273, 'creators': 1045, 'nonsensical': 3030, 'handful': 2018, 'dialog': 1233, 'ad': 111, 'focuses': 1769, 'explains': 1591, 'source': 4086, 'careers': 687, 'dude': 1382, 'jumps': 2433, 'places': 3285, 'flashbacks': 1748, 'overdone': 3152, 'response': 3655, 'bathroom': 412, 'felix': 1690, 'superhero': 4298, 'test': 4416, 'experiment': 1585, 'choose': 799, 'dick': 1240, 'tracy': 4546, 'craft': 1029, 'kick': 2461, 'colors': 879, 'authentic': 358, 'cd': 728, 'featuring': 1683, 'performed': 3231, 'september': 3884, 'crew': 1054, 'yeah': 4977, 'psychotic': 3460, 'filmmaker': 1720, '11': 2, 'bin': 483, 'eight': 1438, 'terrorist': 4413, 'significant': 3972, 'learned': 2551, 'cares': 690, 'dumb': 1386, 'wear': 4830, 'doom': 1327, 'theyd': 4443, 'terrorists': 4414, 'weeks': 4839, 'sequels': 3886, 'nelson': 2996, 'cabin': 643, 'lake': 2510, 'graphics': 1960, 'magic': 2703, 'prequel': 3373, 'spectacular': 4101, 'encounter': 1468, 'darkness': 1118, 'water': 4816, 'ice': 2211, 'spirits': 4115, 'allow': 190, 'thrills': 4475, 'tales': 4356, 'concerns': 934, 'deceased': 1147, 'desert': 1199, 'park': 3191, 'word': 4937, 'pot': 3355, 'buddy': 609, 'prior': 3401, 'airport': 168, 'shortly': 3947, 'ensues': 1495, 'cringe': 1060, 'worthy': 4956, 'stone': 4197, 'faced': 1619, 'officers': 3092, 'pal': 3178, 'incompetent': 2267, 'tone': 4517, 'titanic': 4503, 'halfway': 2009, 'replaced': 3635, 'chasing': 772, 'honestly': 2148, 'altogether': 203, 'aforementioned': 140, 'ultra': 4628, 'dig': 1251, 'fictional': 1704, 'advise': 135, 'likewise': 2603, 'wished': 4905, 'performer': 3232, 'surprisingly': 4315, 'turkey': 4603, 'serial': 3889, 'fresh': 1834, 'criminals': 1059, 'stress': 4220, 'bay': 416, 'notion': 3049, 'patient': 3212, 'described': 1196, 'vulnerable': 4768, 'basis': 408, 'whatsoever': 4861, 'sleeping': 4025, 'sexually': 3910, 'resist': 3649, 'connection': 947, 'soon': 4074, 'sexual': 3908, 'essentially': 1525, 'mental': 2808, 'discovers': 1282, 'clean': 838, 'twisted': 4617, 'del': 1166, 'argument': 291, 'quest': 3487, 'pants': 3183, 'explained': 1589, 'aids': 162, 'dawson': 1129, 'win': 4892, 'spot': 4131, 'birds': 485, 'lol': 2640, 'crazy': 1036, 'resources': 3652, 'single': 3996, 'computer': 927, 'waited': 4771, 'appalling': 268, 'cruel': 1071, 'intentions': 2322, 'bumbling': 622, 'rachel': 3501, 'highlight': 2104, 'robbins': 3712, 'causing': 726, 'uk': 4625, 'indie': 2277, 'hooked': 2154, 'ie': 2222, 'glimpse': 1920, 'afternoon': 145, 'african': 143, 'boot': 538, 'gary': 1874, 'unintentionally': 4658, 'delivering': 1172, 'urban': 4688, 'abuse': 75, 'lazy': 2543, 'refuses': 3588, 'trained': 4556, 'performers': 3233, 'fox': 1815, 'guide': 1994, 'uncomfortable': 4636, 'predictable': 3368, 'mans': 2730, 'crappy': 1033, 'digital': 1252, 'term': 4405, 'loosely': 2651, 'dozens': 1340, 'cried': 1055, 'related': 3595, 'bill': 481, 'million': 2847, 'craven': 1035, 'chooses': 800, 'jaws': 2386, 'mayor': 2777, 'roy': 3745, 'partner': 3199, 'solve': 4060, 'pool': 3328, 'mob': 2879, 'handle': 2019, 'hundred': 2196, 'skip': 4016, 'coffee': 870, 'allows': 193, 'remote': 3623, 'upper': 4685, 'college': 875, 'weakest': 4825, 'slave': 4022, 'minded': 2850, 'cup': 1081, 'tea': 4372, 'sunshine': 4293, 'slowly': 4032, 'thrill': 4471, 'suffering': 4277, 'stretched': 4222, 'happily': 2031, 'drops': 1373, 'screaming': 3827, 'tied': 4489, 'standing': 4146, 'nonsense': 3029, 'produced': 3415, 'somebody': 4062, 'load': 2631, 'site': 4005, 'delivers': 1173, 'philosophy': 3255, 'blows': 517, 'comparison': 914, 'sunday': 4292, 'meanwhile': 2785, 'insight': 2299, 'guest': 1993, 'spoiler': 4123, 'animals': 240, 'bbc': 417, 'patrick': 3214, 'captain': 674, 'appropriate': 283, 'calm': 655, 'families': 1646, 'bear': 420, 'elephant': 1446, 'chapter': 757, 'fish': 1739, 'jungle': 2435, 'near': 2978, 'presentation': 3376, 'accompanied': 87, 'brutal': 603, 'killings': 2474, 'hunter': 2200, 'cases': 708, 'shed': 3924, 'cost': 1004, 'dutch': 1390, 'yesterday': 4983, 'month': 2895, 'rarely': 3526, 'semi': 3874, 'stellar': 4174, 'morris': 2907, 'pitch': 3280, '2004': 34, 'blew': 505, 'disc': 1279, 'photography': 3261, 'moon': 2899, 'bridge': 578, 'mtv': 2932, 'suck': 4269, 'balls': 390, 'videos': 4734, 'baby': 376, 'bird': 484, 'ass': 323, 'stale': 4141, 'modesty': 2883, 'shocking': 3940, 'showcase': 3954, 'consists': 956, 'hardly': 2037, 'program': 3425, 'drawing': 1351, 'prime': 3396, 'suspect': 4326, 'sub': 4252, 'absence': 70, 'manipulative': 2727, 'suspicious': 4331, 'dynamic': 1395, 'construction': 961, 'justify': 2440, 'detective': 1221, 'claim': 828, 'rubbish': 3748, 'innovative': 2296, 'code': 869, 'suits': 4286, 'beats': 426, 'saves': 3796, 'unless': 4668, 'gripping': 1977, 'directions': 1263, 'norman': 3034, 'adequate': 121, 'mark': 2739, 'powerful': 3361, 'rolled': 3729, 'added': 117, 'wonderfully': 4929, 'push': 3478, 'groups': 1982, 'freddy': 1827, 'occurred': 3076, 'train': 4555, 'cars': 702, 'harry': 2040, 'uncle': 4635, 'unseen': 4677, 'whoever': 4872, 'jake': 2378, 'fired': 1736, 'greatly': 1968, 'resemblance': 3646, 'escapes': 1521, 'tony': 4521, 'surfing': 4310, 'shark': 3921, 'waters': 4817, 'vicious': 4728, 'monsters': 2892, 'hilariously': 2108, 'crocodile': 1066, 'charge': 761, 'meaningless': 2782, 'shadow': 3912, 'dogs': 1312, 'cat': 713, 'movement': 2922, '1960s': 15, 'broadway': 592, 'morality': 2902, 'surface': 4309, 'pig': 3275, 'international': 2327, 'conceived': 929, 'christ': 807, 'mainstream': 2709, 'unsettling': 4678, 'imaginative': 2238, '2007': 37, 'chuck': 812, 'instinct': 2309, 'crack': 1028, 'andy': 231, 'ian': 2210, 'fisher': 1740, 'warn': 4797, 'jump': 2430, 'sneak': 4043, 'attack': 337, 'stays': 4169, 'rape': 3523, 'horse': 2171, 'blond': 510, 'mighty': 2836, 'arrive': 300, 'inappropriate': 2260, 'liking': 2604, 'feminist': 1696, 'switch': 4338, 'throwing': 4480, 'sword': 4339, 'retarded': 3663, 'massive': 2756, 'gratuitous': 1962, 'pet': 3247, 'enter': 1496, 'knife': 2488, 'slap': 4018, 'villains': 4745, 'beating': 425, 'weapon': 4828, 'wooden': 4934, 'hammer': 2015, 'undoubtedly': 4647, 'delight': 1168, 'climax': 849, 'minimal': 2855, 'inferior': 2286, 'trashy': 4565, 'model': 2880, 'miserably': 2864, 'fatal': 1666, 'whilst': 4869, 'attacked': 338, 'seventies': 3904, 'vengeance': 4719, 'dreadful': 1354, 'eva': 1533, 'returns': 3668, 'psychic': 3457, 'task': 4367, 'leo': 2571, 'projects': 3429, 'vast': 4716, 'amounts': 221, 'bland': 500, 'transition': 4560, 'consequences': 948, 'hints': 2114, 'confused': 942, 'entertain': 1499, 'toilet': 4512, 'tiresome': 4502, 'amateurish': 208, 'canadian': 667, 'murdered': 2939, 'devoted': 1232, 'threat': 4467, 'incoherent': 2266, 'fails': 1630, 'lies': 2591, 'ridiculously': 3694, 'formula': 1803, 'acted': 99, 'staring': 4152, 'survivors': 4324, 're': 3537, 'steve': 4181, 'bo': 521, 'luke': 2687, 'plans': 3293, 'drunk': 1376, 'charismatic': 763, 'kenneth': 2456, 'branagh': 564, 'accents': 80, 'dog': 1311, 'crush': 1073, 'locations': 2636, 'european': 1532, 'witty': 4917, 'lion': 2614, 'hamlet': 2014, 'drop': 1370, 'issues': 2366, 'dealt': 1139, 'lane': 2515, 'goldberg': 1934, 'julie': 2429, 'stiller': 4189, 'device': 1228, 'football': 1784, 'saga': 3773, 'london': 2641, 'mike': 2838, 'banned': 395, 'rural': 3758, 'mask': 2752, 'poster': 3354, 'iran': 2351, 'paint': 3174, 'according': 89, 'lesser': 2576, 'sidney': 3968, 'joseph': 2420, 'navy': 2975, 'ears': 1403, 'seeks': 3860, 'obsessed': 3068, 'claims': 830, 'sing': 3992, 'opera': 3115, 'mexican': 2826, 'restaurant': 3659, 'tends': 4402, 'established': 1526, 'shouldnt': 3952, 'relatively': 3601, 'proper': 3437, 'furthermore': 1855, 'quickly': 3492, 'drawn': 1352, 'wisdom': 4902, 'closer': 856, 'choreography': 802, 'pacing': 3163, 'extended': 1606, 'stunts': 4246, 'physically': 3264, 'uneven': 4648, 'imagined': 2240, 'existence': 1573, 'handled': 2020, 'atrocious': 335, 'dubbing': 1381, 'glass': 1918, 'attempted': 341, 'hole': 2133, 'window': 4894, 'rotten': 3740, 'strangers': 4214, 'zombies': 4998, 'skin': 4015, 'stupidity': 4248, 'seasons': 3844, 'agents': 152, 'kicking': 2463, 'butt': 638, 'content': 967, 'required': 3642, 'abandoned': 62, 'molly': 2884, 'string': 4227, 'punch': 3467, 'tarzan': 4366, 'mixture': 2878, 'jane': 2381, 'outfit': 3144, 'showed': 3956, 'nude': 3057, 'intense': 2317, 'pair': 3177, 'intentionally': 2321, 'dialogues': 1236, 'erotic': 1517, 'technical': 4381, 'instance': 2305, 'citizen': 824, 'kane': 2443, 'thru': 4483, 'provoking': 3453, 'controversial': 979, 'stones': 4198, 'specific': 4099, 'award': 366, 'sophisticated': 4075, 'drink': 1362, 'fashioned': 1662, 'village': 4743, 'remarks': 3616, 'recognized': 3572, 'bleak': 503, 'landscape': 2513, 'reference': 3584, 'lust': 2689, 'lover': 2672, 'existed': 1572, 'minds': 2852, 'elvis': 1453, 'kurt': 2500, 'imitation': 2242, 'jesse': 2398, 'buried': 624, 'grave': 1963, 'statement': 4162, 'decided': 1150, 'scream': 3826, 'rules': 3754, 'suffer': 4275, 'context': 969, 'anyways': 262, 'expectations': 1578, 'jay': 2387, 'robot': 3717, 'props': 3440, 'scenario': 3808, 'executed': 1567, 'stunt': 4245, 'double': 1332, 'fabulous': 1617, 'chick': 786, 'anywhere': 263, 'sally': 3776, '1983': 22, 'gerard': 1896, 'symbolism': 4340, 'explicit': 1593, 'graphic': 1959, 'intriguing': 2336, 'former': 1801, 'profound': 3424, 'manner': 2729, 'dinner': 1255, 'doctors': 1306, 'foreign': 1791, 'festival': 1698, '2003': 33, 'surprises': 4313, 'novels': 3052, 'daniel': 1112, 'lewis': 2586, 'ben': 463, 'un': 4629, 'equal': 1511, 'changes': 751, 'jewish': 2402, 'irish': 2354, 'veteran': 4724, 'walks': 4780, 'macy': 2695, 'evident': 1549, 'breathtaking': 574, 'indian': 2275, 'excited': 1563, 'ironic': 2356, 'titled': 4505, 'adams': 113, 'flynn': 1766, 'frequent': 1832, 'cinematographer': 819, 'sid': 3964, 'editor': 1425, 'listed': 2618, 'farce': 1656, 'errors': 1518, 'winter': 4900, 'state': 4160, 'abc': 63, 'nights': 3015, 'emma': 1459, 'andrew': 229, 'paltrow': 3179, 'develop': 1223, 'moody': 2898, 'poverty': 3358, 'conversations': 982, 'allowing': 192, 'deeper': 1156, 'desire': 1206, 'artists': 309, 'revelation': 3674, 'creation': 1041, 'medium': 2792, 'francis': 1819, 'apes': 267, 'forth': 1805, 'misses': 2868, 'alan': 172, 'spielberg': 4110, 'matt': 2768, 'united': 4663, 'kiss': 2484, 'selling': 3873, 'margaret': 2735, 'safety': 3772, 'visit': 4755, 'sharp': 3922, 'essential': 1524, 'proceedings': 3411, 'shines': 3932, 'draws': 1353, 'satisfying': 3791, 'camp': 662, 'woods': 4935, 'surrounded': 4317, 'creep': 1052, 'haunting': 2052, 'hunting': 2202, 'spends': 4107, 'everyday': 1543, 'activities': 103, 'nazi': 2976, 'shock': 3938, 'disbelief': 1278, 'illogical': 2232, 'paid': 3170, 'heavily': 2070, 'soviet': 4089, 'union': 4660, 'mild': 2839, 'stephen': 4176, 'present': 3375, 'investigate': 2343, 'evidence': 1548, 'corruption': 1003, 'search': 3841, 'sutherland': 4332, 'politically': 3326, 'murderer': 2940, 'official': 3093, 'randy': 3517, 'intensity': 2318, 'hbo': 2056, 'mistakes': 2873, 'neck': 2984, 'survived': 4321, 'criticism': 1064, 'buying': 641, 'victoria': 4732, 'royal': 3746, 'showing': 3958, 'ashley': 313, 'empire': 1466, 'rescue': 3644, 'solo': 4058, 'alright': 199, 'fitting': 1743, 'pan': 3181, 'weve': 4856, 'lacking': 2505, 'per': 3224, 'masters': 2761, 'ocean': 3078, 'resolution': 3650, 'cartoon': 704, 'generation': 1884, 'fly': 1764, '16': 8, 'cell': 730, 'britain': 588, 'michelle': 2830, 'holmes': 2140, 'occasional': 3073, 'junior': 2436, 'passionate': 3207, 'enjoyment': 1490, 'louis': 2665, 'golden': 1935, 'nostalgic': 3038, '14': 6, 'extent': 1607, 'knowledge': 2492, 'parent': 3188, 'repetitive': 3634, 'latin': 2527, 'performs': 3235, 'sean': 3840, 'hood': 2152, 'visual': 4757, 'media': 2789, 'homer': 2145, 'religious': 3609, 'murphy': 2943, '70': 55, 'greek': 1971, 'repeat': 3631, 'amazed': 209, 'franchise': 1818, 'flight': 1758, 'plane': 3289, 'jackson': 2376, 'secretary': 3850, 'wes': 4851, '1972': 18, 'nightmare': 3013, 'elm': 1449, '1984': 23, 'trilogy': 4585, 'teen': 4388, 'tight': 4492, 'taught': 4369, 'subplots': 4256, 'thick': 4447, 'notorious': 3050, 'cold': 872, 'overly': 3155, 'beings': 449, 'plausible': 3296, 'tense': 4403, 'holding': 2131, 'reduced': 3581, 'values': 4710, 'babe': 375, 'unusual': 4680, 'touches': 4535, 'charlotte': 766, 'warm': 4794, 'visually': 4758, 'grand': 1954, 'victor': 4731, 'wishes': 4906, 'thoughts': 4464, 'awe': 370, 'strike': 4224, 'passing': 3205, 'bargain': 400, 'issue': 2365, 'spin': 4112, 'exists': 1575, 'guessed': 1991, 'claire': 831, 'danes': 1109, 'methods': 2825, 'realizes': 3556, 'disturbed': 1300, 'torn': 4528, 'horrifying': 2168, 'department': 1183, 'nicholas': 3009, 'trade': 4547, 'ignore': 2225, 'checking': 778, 'folks': 1772, 'design': 1203, 'werewolf': 4850, 'treatment': 4573, 'raped': 3524, 'thugs': 4484, 'blonde': 511, 'believes': 456, 'catches': 715, 'legs': 2566, 'characterization': 759, 'players': 3300, 'unfolds': 4650, 'desperately': 1210, 'treats': 4574, 'stronger': 4230, 'brave': 567, 'transformation': 4559, 'morgan': 2904, 'freeman': 1830, 'carried': 698, 'kevin': 2458, 'keaton': 2449, 'workers': 4943, 'worlds': 4947, 'buildings': 616, 'edgy': 1420, 'scarecrow': 3804, 'deaths': 1143, 'built': 618, 'ear': 1398, 'greater': 1966, 'grinch': 1976, 'fare': 1657, 'blank': 501, 'warner': 4799, 'cartoons': 705, 'comics': 895, 'liberal': 2588, 'notably': 3041, 'madonna': 2699, 'tough': 4537, 'warren': 4801, 'beatty': 427, 'al': 171, 'pacino': 3164, 'catherine': 719, 'overlooked': 3154, 'boxing': 556, 'bitter': 491, 'rival': 3706, 'clichés': 846, 'frequently': 1833, 'avoided': 364, 'practically': 3363, 'rank': 3520, 'confess': 938, 'stevens': 4183, 'member': 2800, 'greedy': 1970, 'comedian': 887, 'truck': 4594, 'steps': 4177, 'humorous': 2194, 'tender': 4401, 'represents': 3640, 'falk': 1638, 'lonely': 2643, 'plague': 3286, 'perform': 3228, 'clothes': 860, 'jealous': 2389, 'abusive': 76, 'picking': 3268, 'despair': 1208, 'beaten': 424, 'lit': 2621, 'punishment': 3468, 'sympathy': 4342, 'anger': 235, 'exercise': 1570, 'misery': 2865, 'streep': 4215, 'believed': 455, 'australia': 356, 'sadness': 3770, 'mass': 2753, 'regardless': 3591, 'ellen': 1448, 'nominated': 3024, 'april': 284, 'documentaries': 1307, 'canada': 666, 'neil': 2994, 'usa': 4691, 'samurai': 3779, 'seven': 3903, 'lone': 2642, 'wolf': 4920, 'blade': 495, 'reaching': 3541, 'reached': 3539, 'entry': 1506, 'charisma': 762, 'adding': 118, 'understood': 4646, 'harvey': 2043, 'karen': 2445, 'grant': 1957, 'destroyed': 1215, 'bizarre': 492, 'gory': 1944, 'eerie': 1429, 'omen': 3103, 'iii': 2228, 'hardcore': 2035, 'baker': 385, 'trees': 4576, 'appreciation': 281, 'hook': 2153, 'techniques': 4384, 'priceless': 3391, 'downright': 1338, 'scripts': 3836, 'flies': 1757, 'senseless': 3878, 'chain': 741, 'chases': 771, 'unoriginal': 4672, 'admire': 122, 'focus': 1767, 'hatred': 2050, 'enterprise': 1497, 'learning': 2552, 'speech': 4102, 'blow': 514, 'press': 3380, 'rocket': 3721, 'explosion': 1598, 'definition': 1164, 'command': 897, 'walking': 4779, 'behavior': 446, 'contact': 962, 'impossible': 2250, 'comparing': 913, 'plain': 3287, 'purposes': 3476, 'aimed': 163, 'emotionally': 1462, 'tradition': 4548, 'numerous': 3061, 'recording': 3577, 'fancy': 1651, 'received': 3566, 'gas': 1875, 'crowd': 1068, 'jenny': 2394, 'fallen': 1640, 'husbands': 2206, 'vietnam': 4735, 'experiences': 1584, 'mrs': 2929, 'memories': 2803, 'contrast': 976, 'powell': 3359, 'nation': 2968, 'shakespeare': 3915, 'beer': 439, 'multi': 2934, 'inside': 2298, 'radio': 3505, 'kim': 2476, 'dying': 1394, 'matches': 2764, 'corner': 997, 'peters': 3249, 'outcome': 3142, 'heaven': 2069, 'colour': 880, 'inventive': 2342, 'cgi': 740, 'artificial': 306, 'freedom': 1829, 'acid': 96, 'tie': 4488, 'elaborate': 1441, 'chaos': 755, 'tongue': 4518, 'professor': 3423, 'station': 4164, 'endearing': 1471, 'education': 1426, 'brutally': 604, 'holes': 2134, 'importantly': 2249, 'anti': 254, 'yelling': 4980, 'stooges': 4200, 'rex': 3683, 'medical': 2790, 'university': 4666, 'tech': 4380, 'bugs': 613, 'unwatchable': 4681, 'whereas': 4865, 'mall': 2720, 'em': 1454, 'forest': 1792, 'someones': 4065, 'guns': 1999, 'planning': 3292, 'considerable': 951, 'burn': 625, 'flash': 1746, 'deserve': 1200, 'urge': 4689, 'titles': 4506, 'risk': 3704, 'sadistic': 3768, 'couples': 1018, 'isolated': 2364, 'provide': 3449, 'brazil': 568, 'homeless': 2144, 'fairy': 1634, 'terribly': 4408, 'miracle': 2860, 'pg': 3251, 'rangers': 3519, 'stereotype': 4178, 'horrid': 2166, 'concerning': 933, 'locked': 2637, 'drunken': 1377, 'uninspired': 4656, 'acceptable': 82, 'nose': 3036, 'anime': 243, 'base': 402, 'demand': 1175, 'realism': 3551, 'ingredients': 2290, 'clint': 850, 'garden': 1873, 'hits': 2126, 'americas': 216, 'sport': 4129, 'resembles': 3647, 'catholic': 720, 'sisters': 4002, 'st': 4137, 'teachers': 4375, 'news': 3004, 'losers': 2656, 'maintain': 2710, 'brosnan': 597, 'philip': 3253, 'facing': 1622, 'mexico': 2827, 'square': 4136, 'businessman': 634, 'ya': 4976, 'mill': 2845, 'studios': 4241, 'theaters': 4428, 'diana': 1238, 'fighter': 1709, 'coach': 868, 'rough': 3741, 'circumstances': 822, 'dimensional': 1254, 'bright': 581, 'glover': 1924, 'spike': 4111, 'tame': 4362, 'covers': 1025, 'blah': 496, 'aint': 164, 'generous': 1887, '3d': 46, 'receives': 3567, '1940s': 13, 'engaging': 1483, 'humble': 2192, 'sullivan': 4287, 'corpse': 1000, 'enters': 1498, 'category': 718, 'description': 1198, 'overrated': 3156, 'assistant': 326, 'oliver': 3101, 'reed': 3582, 'chest': 784, 'clip': 851, 'survival': 4319, 'showdown': 3955, 'newspaper': 3005, 'savage': 3793, 'nearby': 2979, 'hunters': 2201, 'combat': 882, 'decade': 1145, 'vivid': 4760, 'simplistic': 3985, 'reasonably': 3561, 'recommended': 3574, 'bette': 471, 'tremendous': 4578, 'woody': 4936, 'creativity': 1043, 'annie': 247, 'brand': 565, 'cheating': 776, 'depressing': 1189, 'wonders': 4931, 'greed': 1969, 'kingdom': 2481, 'march': 2734, 'reel': 3583, 'expensive': 1581, 'afford': 139, 'pretending': 3383, 'afterwards': 146, 'hardy': 2038, 'harder': 2036, 'stayed': 4167, 'regard': 3589, 'reaches': 3540, 'anthony': 253, 'mann': 2728, 'brooks': 596, 'research': 3645, 'pregnant': 3370, 'shape': 3919, 'guarantee': 1988, 'warmth': 4796, 'powers': 3362, 'super': 4294, 'proof': 3435, 'searching': 3842, 'answers': 252, 'messages': 2820, 'menace': 2806, 'noise': 3023, 'throat': 4476, 'disjointed': 1288, 'soap': 4047, 'knock': 2489, 'rap': 3522, 'steel': 4173, 'blatant': 502, 'highest': 2103, 'sum': 4288, 'finished': 1734, 'opposed': 3121, 'coherent': 871, 'drew': 1361, 'descent': 1194, 'russian': 3762, 'germans': 1898, 'intrigued': 2335, 'religion': 3608, 'frightening': 1840, 'rid': 3690, 'unfortunate': 4652, 'cats': 721, 'der': 1192, 'watches': 4814, 'target': 4365, 'thrilling': 4474, 'nick': 3011, 'highlights': 2105, 'chilling': 794, 'necessarily': 2982, 'confusion': 944, 'mildly': 2840, 'offensive': 3085, 'purchased': 3471, 'dress': 1358, 'india': 2274, 'flaw': 1750, 'annoyed': 248, 'gods': 1929, 'training': 4557, 'remain': 3610, 'faithful': 1636, 'represented': 3639, 'portrait': 3340, 'painted': 3175, 'communist': 907, 'spy': 4135, 'ritter': 3705, 'forty': 1808, 'washington': 4806, 'definite': 1162, 'similarly': 3980, 'honor': 2151, 'decisions': 1153, 'distinct': 1297, 'wasting': 4810, 'intent': 2319, 'destroying': 1216, 'attempting': 342, 'brando': 566, 'butler': 637, 'relies': 3607, 'overcome': 3151, 'valuable': 4708, 'quit': 3495, 'guts': 2000, 'niro': 3018, 'hal': 2007, 'odds': 3081, 'jail': 2377, 'shoots': 3944, 'fields': 1706, 'achieved': 94, 'elvira': 1452, 'mail': 2706, 'ps': 3454, 'edie': 1421, 'alfred': 182, 'striking': 4226, 'ought': 3138, 'blues': 519, 'incomprehensible': 2268, 'teacher': 4374, 'lying': 2690, 'hype': 2208, 'absent': 71, 'spoken': 4126, 'execution': 1568, 'chair': 742, 'genuine': 1892, 'mundane': 2937, 'spiritual': 4116, 'endure': 1477, 'rebel': 3563, 'deliver': 1170, 'stranger': 4213, 'arrested': 298, 'hates': 2049, 'kicked': 2462, 'chinese': 796, 'stops': 4203, 'paying': 3218, 'conflicts': 941, 'river': 3707, 'disappear': 1271, 'accept': 81, 'korean': 2496, 'japan': 2382, 'rise': 3702, 'forces': 1789, 'solution': 4059, 'sloppy': 4030, 'childish': 791, 'ape': 266, 'audio': 354, 'tribute': 4580, 'splatter': 4118, 'wrestling': 4966, 'san': 3780, 'francisco': 1820, 'styles': 4250, 'ripped': 3701, 'segments': 3868, 'opportunities': 3119, 'generic': 1886, 'petty': 3250, 'report': 3636, '75': 57, 'ground': 1980, 'rick': 3689, 'realizing': 3557, 'corrupt': 1002, 'credible': 1049, 'timothy': 4499, 'dan': 1103, 'masses': 2755, 'stiff': 4187, 'eager': 1397, 'military': 2844, 'comical': 894, 'interviews': 2331, 'opinions': 3118, 'steven': 4182, 'boom': 537, 'piano': 3265, 'beneath': 464, 'enthusiasm': 1503, 'suggests': 4281, 'species': 4098, 'lacked': 2504, 'pack': 3165, 'ran': 3514, 'shirley': 3936, 'strip': 4228, 'disneys': 1291, 'costume': 1006, 'sin': 3988, 'firstly': 1738, 'offering': 3088, 'scare': 3803, 'generated': 1883, 'clue': 864, 'pseudo': 3455, 'heights': 2074, 'bourne': 554, 'inducing': 2280, 'juvenile': 2442, 'wives': 4918, 'occur': 3075, 'lumet': 2688, 'gag': 1862, 'julia': 2428, 'scripted': 3835, 'quote': 3497, 'strangely': 4212, 'responsibility': 3656, 'dentist': 1181, 'earl': 1399, 'advertising': 133, 'angel': 232, 'swim': 4336, 'overacting': 3149, 'interpretation': 2329, 'alcoholic': 178, 'holy': 2141, 'hugh': 2187, 'foot': 1782, 'achievement': 95, 'deadly': 1134, 'pit': 3279, 'providing': 3452, 'importance': 2247, 'invisible': 2345, 'vaguely': 4706, 'lesbian': 2573, 'plant': 3294, 'print': 3400, 'shirt': 3937, 'dropping': 1372, 'ned': 2985, 'surviving': 4322, 'hiding': 2100, 'plastic': 3295, 'closed': 854, 'invasion': 2341, 'philosophical': 3254, 'da': 1095, 'motivations': 2914, 'companion': 909, 'designs': 1205, 'unaware': 4631, 'teach': 4373, 'countries': 1014, 'capable': 672, 'pretentious': 3384, 'throws': 4482, 'measure': 2786, 'agreed': 157, 'household': 2180, '17': 9, 'planned': 3291, 'contract': 974, 'worried': 4949, 'happiness': 2032, 'delivered': 1171, 'website': 4834, 'stomach': 4196, 'stretch': 4221, 'deaf': 1135, 'kinds': 2479, 'amazingly': 211, 'subtlety': 4261, 'territory': 4411, 'narration': 2964, 'argue': 290, 'seagal': 3839, 'gandhi': 1867, 'nicely': 3008, 'ego': 1437, 'worthless': 4954, 'hearts': 2067, 'race': 3500, 'returned': 3666, 'complain': 919, 'thumbs': 4485, 'offered': 3087, 'minimum': 2856, 'junk': 2437, 'detailed': 1219, 'attacks': 339, 'property': 3439, 'cooper': 991, 'sounding': 4083, 'masterful': 2758, 'areas': 287, 'torture': 4529, 'stole': 4194, 'respected': 3654, 'staged': 4140, 'vampires': 4712, 'staff': 4138, 'gordon': 1941, 'persons': 3245, 'sitcom': 4004, 'accepted': 83, 'dances': 1107, '2nd': 41, 'hanks': 2026, 'buddies': 608, 'montage': 2893, 'karloff': 2446, 'dracula': 1342, 'bela': 450, 'lugosi': 2686, 'jobs': 2407, 'constructed': 960, 'wound': 4960, 'pain': 3171, 'tommy': 4516, 'lynch': 2691, 'floating': 1759, 'hanging': 2024, 'darker': 1117, 'shorts': 3948, 'outer': 3143, 'spoof': 4127, 'bag': 384, 'matrix': 2767, 'helicopter': 2077, 'involve': 2346, 'advanced': 129, 'rogers': 3725, 'redemption': 3580, 'eighties': 1439, 'metal': 2823, 'winds': 4895, 'bobby': 525, 'forbidden': 1786, 'friendly': 1837, 'bush': 632, 'cheated': 775, 'saving': 3797, 'agrees': 158, 'passion': 3206, 'sleep': 4024, 'introduce': 2337, 'thoughtful': 4463, 'atmospheric': 334, 'draw': 1350, 'prostitute': 3441, 'cinderella': 815, 'loyal': 2679, 'service': 3896, 'marketing': 2741, 'border': 539, 'visits': 4756, 'nations': 2970, 'proceeds': 3412, 'installment': 2304, 'closely': 855, 'smoke': 4039, 'pat': 3209, 'catching': 716, 'leonard': 2572, 'daily': 1098, 'ridden': 3691, 'block': 508, 'carrying': 701, 'trite': 4588, 'lord': 2652, 'lucas': 2680, 'edition': 1424, 'hideous': 2099, 'belief': 451, 'trek': 4577, 'demented': 1177, 'spoke': 4125, 'cheek': 779, 'et': 1528, 'tear': 4378, 'irony': 2358, 'terror': 4412, 'lemmon': 2567, 'matthau': 2771, 'neat': 2981, 'freak': 1825, 'subplot': 4255, 'smaller': 4034, 'leslie': 2574, 'splendid': 4119, 'rushed': 3760, 'directs': 1268, 'intimate': 2332, 'simplicity': 3984, 'humanity': 2190, 'meaningful': 2781, 'eastern': 1409, 'borrowed': 545, 'depressed': 1188, 'comfortable': 892, 'mentions': 2813, 'thomas': 4458, 'nyc': 3064, 'transfer': 4558, 'photo': 3258, 'letting': 2583, 'talked': 4358, 'satisfied': 3789, 'jeremy': 2395, 'asking': 318, 'blacks': 494, 'negative': 2990, 'denzel': 1182, 'desperate': 1209, 'daring': 1115, 'massacre': 2754, 'regret': 3592, 'smiling': 4037, 'operation': 3116, 'discovery': 1283, 'singers': 3994, 'fulci': 1846, 'peace': 3220, 'broke': 593, 'orange': 3124, 'ron': 3734, 'ninja': 3017, 'dressing': 1360, 'sue': 4274, 'legal': 2563, 'temple': 4398, 'spider': 4109, 'doc': 1304, 'mel': 2796, 'critic': 1062, 'carefully': 689, 'strictly': 4223, 'daddy': 1097, 'slick': 4026, 'smooth': 4041, 'wells': 4845, 'lately': 2524, 'chose': 804, 'paranoia': 3187, 'miike': 2837, 'superficial': 4297, 'riveting': 3708, 'itll': 2370, 'jumped': 2431, 'attitudes': 347, 'namely': 2961, 'blend': 504, 'connect': 945, 'anderson': 228, 'notable': 3040, 'grow': 1983, 'parker': 3192, 'link': 2613, 'gruesome': 1987, 'admittedly': 124, 'pearl': 3221, 'meat': 2787, 'berlin': 467, 'revealing': 3672, 'millions': 2848, 'richardson': 3688, 'support': 4302, 'bottle': 550, 'interaction': 2323, 'amongst': 219, 'duty': 1391, 'guilt': 1995, 'exotic': 1576, 'web': 4833, 'ships': 3935, 'kennedy': 2455, 'conspiracy': 957, 'houses': 2181, 'writes': 4970, 'faults': 1671, 'incident': 2261, 'backdrop': 379, 'cox': 1027, 'photographer': 3260, 'dinosaur': 1256, 'critical': 1063, 'teaching': 4376, 'letter': 2581, 'severe': 3906, 'floor': 1760, 'challenging': 744, 'depiction': 1186, 'prefer': 3369, 'pink': 3278, 'surrounding': 4318, 'unit': 4662, 'bite': 489, 'bath': 411, 'merit': 2816, 'portraying': 3344, 'successfully': 4267, 'forgive': 1796, 'unreal': 4675, 'theyll': 4444, 'drivel': 1365, 'dear': 1141, 'remaining': 3611, 'album': 176, 'shallow': 3917, 'appearances': 275, 'theory': 4437, 'thousands': 4466, 'capital': 673, 'maggie': 2702, 'genres': 1890, 'mindless': 2851, 'prisoners': 3404, 'hitler': 2125, 'prevent': 3386, 'advance': 128, 'wounded': 4961, '1973': 19, 'reads': 3547, 'buff': 611, 'restored': 3660, 'kicks': 2464, 'explosions': 1599, 'creator': 1044, 'separate': 3883, 'cube': 1077, 'heroic': 2091, 'arthur': 305, 'trio': 4586, 'ginger': 1909, 'thief': 4448, 'poetry': 3315, '1990s': 25, 'brains': 563, 'kidnapped': 2467, 'wwii': 4975, 'civilization': 827, 'authority': 360, 'sticks': 4186, 'colonel': 876, 'caliber': 649, 'possibility': 3350, 'burt': 629, 'carrey': 696, 'ignored': 2226, 'reporter': 3637, 'figures': 1714, 'increasingly': 2269, 'monkey': 2889, 'nuts': 3063, 'pie': 3272, 'santa': 3783, 'eccentric': 1415, 'commit': 904, '2000': 30, 'twins': 4615, 'roberts': 3714, 'behave': 445, 'cagney': 646, 'ruby': 3749, 'unhappy': 4655, 'hint': 2113, 'demands': 1176, 'precious': 3367, 'burton': 630, 'experiments': 1586, 'heston': 2095, 'currently': 1086, 'alike': 186, 'performing': 3234, 'ted': 4386, 'inner': 2293, 'stinks': 4192, 'witness': 4914, 'serve': 3893, 'simpson': 3987, 'typically': 4623, 'involvement': 2348, 'racist': 3504, 'explored': 1597, 'integrity': 2312, 'domino': 1320, 'mafia': 2700, '18': 10, 'amitabh': 217, 'carries': 699, 'stylish': 4251, 'eyed': 1614, 'preview': 3387, 'exploration': 1595, 'gifted': 1908, 'slight': 4027, 'astaire': 330, 'ethan': 1530, 'scheme': 3812, 'sexuality': 3909, 'amy': 223, 'everyones': 1545, 'sir': 4000, 'sinister': 3998, 'individuals': 2279, 'lees': 2560, 'perfection': 3226, 'illegal': 2230, 'failing': 1629, 'swimming': 4337, 'useful': 4694, 'amanda': 206, 'screams': 3828, 'balance': 387, 'melting': 2799, 'burns': 628, 'alex': 180, 'condition': 937, 'panic': 3182, 'consistent': 954, '3000': 43, 'conversation': 981, 'domestic': 1319, 'satisfy': 3790, '1933': 12, 'jaw': 2385, 'damon': 1102, 'alcohol': 177, 'arnold': 296, 'financial': 1726, 'demons': 1179, 'bible': 477, 'health': 2061, 'colorful': 878, 'generations': 1885, 'crafted': 1030, 'battles': 415, 'tomatoes': 4515, 'downhill': 1337, 'princess': 3398, 'spirited': 4114, 'settle': 3902, 'assault': 324, 'pushed': 3479, 'exposed': 1600, 'columbo': 881, 'lovable': 2668, 'eg': 1436, 'disease': 1286, 'snake': 4042, 'warriors': 4803, 'childrens': 793, 'disappoint': 1273, 'determined': 1222, 'inevitably': 2284, 'copies': 993, 'obsession': 3069, 'format': 1800, 'alert': 179, 'renting': 3630, 'warrior': 4802, 'root': 3737, 'dolls': 1317, 'centered': 733, 'adorable': 125, 'mitchell': 2875, 'walken': 4777, 'murderous': 2941, 'gross': 1979, 'understandable': 4643, 'moronic': 2906, 'hippie': 2116, 'campbell': 663, 'specifically': 4100, 'scooby': 3820, 'doo': 1326, 'haunted': 2051, 'gothic': 1946, 'giallo': 1905, 'depicting': 1185, 'porno': 3338, 'revolutionary': 3681, 'distance': 1295, 'offended': 3084, 'signed': 3971, 'global': 1921, 'warming': 4795, 'staying': 4168, 'worthwhile': 4955, 'exceptional': 1560, 'struck': 4232, 'robots': 3718, 'futuristic': 1858, '2006': 36, 'nuclear': 3056, 'retired': 3664, 'native': 2971, 'neighbor': 2991, 'struggles': 4235, 'corporate': 999, 'scientific': 3817, 'succeeded': 4263, 'lessons': 2578, 'cusack': 1089, 'hank': 2025, 'cruise': 1072, 'machines': 2694, 'beliefs': 452, 'express': 1602, 'shall': 3916, 'masterpieces': 2760, 'secretly': 3851, 'equipment': 1513, 'joan': 2405, 'troubles': 4593, 'discussion': 1285, 'discuss': 1284, 'spending': 4106, 'narrator': 2966, 'tall': 4361, '30s': 44, 'carol': 693, 'regular': 3593, 'basement': 405, 'exposure': 1601, 'bang': 393, 'devoid': 1231, 'equivalent': 1514, 'lowest': 2678, 'topless': 4527, 'illness': 2231, 'yellow': 4981, 'simmons': 3981, 'cannibal': 669, 'cave': 727, 'valley': 4707, 'sincere': 3991, 'pays': 3219, 'underlying': 4640, 'celebrity': 729, 'sentence': 3881, 'bergman': 466, 'blunt': 520, 'walker': 4778, 'eyre': 1616, 'rochester': 3719, 'quotes': 3498, 'extraordinary': 1609, 'bullet': 620, 'scrooge': 3837, 'dignity': 1253, 'dickens': 1241, 'explore': 1596, 'lifestyle': 2593, 'eaten': 1413, 'defeat': 1158, 'dinosaurs': 1257, 'rubber': 3747, 'rabbit': 3499, 'bonus': 534, 'gabriel': 1860, 'wizard': 4919, 'oz': 3160, 'inspector': 2300, 'iraq': 2352, 'associated': 327, 'laura': 2536, 'andrews': 230, 'eastwood': 1410, 'scope': 3821, 'chorus': 803, 'curse': 1087, 'sacrifice': 3766, 'sarah': 3785, 'montana': 2894, 'mate': 2765, 'expressed': 1603, 'represent': 3638, 'jumping': 2432, 'anna': 245, 'photos': 3262, 'chan': 746, 'witnesses': 4916, 'unbelievably': 4634, 'carradine': 695, 'tooth': 4524, 'tiger': 4491, 'kudos': 2498, 'rush': 3759, 'abysmal': 77, 'irrelevant': 2359, 'suspend': 4328, 'rat': 3527, 'twin': 4614, 'contest': 968, 'nostalgia': 3037, 'pro': 3407, 'justin': 2441, 'ignorant': 2224, 'females': 1695, 'menacing': 2807, 'kay': 2448, 'dolph': 1318, 'schools': 3814, 'fury': 1856, 'cliche': 843, 'doomed': 1328, 'winters': 4901, 'doors': 1330, 'westerns': 4854, '20th': 38, 'taxi': 4370, 'drags': 1346, 'vague': 4705, 'gundam': 1998, 'hart': 2042, 'chicks': 787, 'alongside': 197, 'escaped': 1520, 'exceptionally': 1561, 'hoped': 2157, 'buffs': 612, 'ralph': 3511, 'bakshi': 386, 'orson': 3132, 'welles': 4844, 'louise': 2666, 'linda': 2609, 'wreck': 4965, 'react': 3542, 'cameron': 661, 'uwe': 4703, 'boll': 529, 'basketball': 409, 'glenn': 1919, 'arguably': 289, 'cary': 706, 'virginia': 4750, 'betty': 474, 'rats': 3533, 'serving': 3897, 'mario': 2738, 'derek': 1193, 'holly': 2137, 'presumably': 3381, 'che': 773, 'championship': 745, 'perry': 3238, 'muslim': 2948, 'benefit': 465, 'lena': 2568, 'confidence': 939, 'fever': 1700, 'witches': 4910, 'ruth': 3763, 'fix': 1745, 'popularity': 3335, 'chess': 783, 'arrogant': 303, 'cure': 1082, 'storm': 4206, 'stan': 4142, 'neighbors': 2993, 'stargate': 4151, 'orleans': 3131, 'godzilla': 1930, 'blob': 507, 'marty': 2749, 'kirk': 2483, 'assigned': 325, 'soccer': 4048, 'choreographed': 801, 'sellers': 3872, 'seed': 3856, 'mildred': 2841, 'garbo': 1872, 'ireland': 2353, 'laurel': 2537, 'polanski': 3322, 'gadget': 1861}\n"
     ]
    }
   ],
   "source": [
    "print(str(vocabulary))"
   ]
  },
  {
   "cell_type": "markdown",
   "metadata": {},
   "source": [
    "Once you have added the endpoint name to the Lambda function, click on **Save**. Your Lambda function is now up and running. Next we need to create a way for our web app to execute the Lambda function."
   ]
  },
  {
   "cell_type": "markdown",
   "metadata": {},
   "source": [
    "### Setting up API Gateway\n",
    "\n",
    "Now that our Lambda function is set up, it is time to create a new API using API Gateway that will trigger the Lambda function we have just created.\n",
    "\n",
    "Using AWS Console, navigate to **Amazon API Gateway** and then click on **Get started**.\n",
    "\n",
    "On the next page, make sure that **New API** is selected and give the new api a name, for example, `sentiment_analysis_web_app`. Then, click on **Create API**.\n",
    "\n",
    "Now we have created an API, however it doesn't currently do anything. What we want it to do is to trigger the Lambda function that we created earlier.\n",
    "\n",
    "Select the **Actions** dropdown menu and click **Create Method**. A new blank method will be created, select its dropdown menu and select **POST**, then click on the check mark beside it.\n",
    "\n",
    "For the integration point, make sure that **Lambda Function** is selected and click on the **Use Lambda Proxy integration**. This option makes sure that the data that is sent to the API is then sent directly to the Lambda function with no processing. It also means that the return value must be a proper response object as it will also not be processed by API Gateway.\n",
    "\n",
    "Type the name of the Lambda function you created earlier into the **Lambda Function** text entry box and then click on **Save**. Click on **OK** in the pop-up box that then appears, giving permission to API Gateway to invoke the Lambda function you created.\n",
    "\n",
    "The last step in creating the API Gateway is to select the **Actions** dropdown and click on **Deploy API**. You will need to create a new Deployment stage and name it anything you like, for example `prod`.\n",
    "\n",
    "You have now successfully set up a public API to access your SageMaker model. Make sure to copy or write down the URL provided to invoke your newly created public API as this will be needed in the next step. This URL can be found at the top of the page, highlighted in blue next to the text **Invoke URL**."
   ]
  },
  {
   "cell_type": "markdown",
   "metadata": {},
   "source": [
    "## Step 7: Deploying our web app\n",
    "\n",
    "Now that we have a publicly available API, we can start using it in a web app. For our purposes, we have provided a simple static html file which can make use of the public api you created earlier.\n",
    "\n",
    "In the `website` folder there should be a file called `index.html`. Download the file to your computer and open that file up in a text editor of your choice. There should be a line which contains **\\*\\*REPLACE WITH PUBLIC API URL\\*\\***. Replace this string with the url that you wrote down in the last step and then save the file.\n",
    "\n",
    "Now, if you open `index.html` on your local computer, your browser will behave as a local web server and you can use the provided site to interact with your SageMaker model.\n",
    "\n",
    "If you'd like to go further, you can host this html file anywhere you'd like, for example using github or hosting a static site on Amazon's S3. Once you have done this you can share the link with anyone you'd like and have them play with it too!\n",
    "\n",
    "> **Important Note** In order for the web app to communicate with the SageMaker endpoint, the endpoint has to actually be deployed and running. This means that you are paying for it. Make sure that the endpoint is running when you want to use the web app but that you shut it down when you don't need it, otherwise you will end up with a surprisingly large AWS bill."
   ]
  },
  {
   "cell_type": "markdown",
   "metadata": {},
   "source": [
    "### Delete the endpoint\n",
    "\n",
    "Remember to always shut down your endpoint if you are no longer using it. You are charged for the length of time that the endpoint is running so if you forget and leave it on you could end up with an unexpectedly large bill."
   ]
  },
  {
   "cell_type": "code",
   "execution_count": null,
   "metadata": {},
   "outputs": [],
   "source": [
    "xgb_predictor.delete_endpoint()"
   ]
  },
  {
   "cell_type": "markdown",
   "metadata": {},
   "source": [
    "## Optional: Clean up\n",
    "\n",
    "The default notebook instance on SageMaker doesn't have a lot of excess disk space available. As you continue to complete and execute notebooks you will eventually fill up this disk space, leading to errors which can be difficult to diagnose. Once you are completely finished using a notebook it is a good idea to remove the files that you created along the way. Of course, you can do this from the terminal or from the notebook hub if you would like. The cell below contains some commands to clean up the created files from within the notebook."
   ]
  },
  {
   "cell_type": "code",
   "execution_count": null,
   "metadata": {},
   "outputs": [],
   "source": [
    "# First we will remove all of the files contained in the data_dir directory\n",
    "!rm $data_dir/*\n",
    "\n",
    "# And then we delete the directory itself\n",
    "!rmdir $data_dir\n",
    "\n",
    "# Similarly we remove the files in the cache_dir directory and the directory itself\n",
    "!rm $cache_dir/*\n",
    "!rmdir $cache_dir"
   ]
  },
  {
   "cell_type": "code",
   "execution_count": null,
   "metadata": {},
   "outputs": [],
   "source": []
  }
 ],
 "metadata": {
  "kernelspec": {
   "display_name": "conda_python3",
   "language": "python",
   "name": "conda_python3"
  },
  "language_info": {
   "codemirror_mode": {
    "name": "ipython",
    "version": 3
   },
   "file_extension": ".py",
   "mimetype": "text/x-python",
   "name": "python",
   "nbconvert_exporter": "python",
   "pygments_lexer": "ipython3",
   "version": "3.6.10"
  }
 },
 "nbformat": 4,
 "nbformat_minor": 2
}
